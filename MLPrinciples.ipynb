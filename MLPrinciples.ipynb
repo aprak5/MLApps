{
 "cells": [
  {
   "cell_type": "markdown",
   "metadata": {},
   "source": [
    "# Instructions\n",
    "\n",
    "1. Add your name and HW Group Number below.\n",
    "2. Complete each question. Make sure you fill in any place that says `YOUR CODE HERE` or \"YOUR ANSWER HERE\", and delete and `throw NotImplementedError()` lines.\n",
    "3. Where applicable, run the test cases *below* each question to check your work. **Note**: In addition to the test cases you can see, the instructor may run additional test cases, including using *other datasets* to validate you code.\n",
    "4. Before you turn this problem in, make sure everything runs as expected. First, **restart the kernel** (in the menubar, select Kernel$\\rightarrow$Restart) and then **run all cells** (in the menubar, select Cell$\\rightarrow$Run All). You can also use the **Validate** button to run all test cases.\n",
    "5. Turn in your homework by going to the main screen in JupyterHub, clicking the Assignments menu, and submitting.\n",
    "\n"
   ]
  },
  {
   "cell_type": "code",
   "execution_count": null,
   "metadata": {},
   "outputs": [],
   "source": [
    "\"\"\"\n",
    "Name: Amit Prakash\n",
    "HW Group Number: 5\n",
    "\"\"\""
   ]
  },
  {
   "cell_type": "markdown",
   "metadata": {
    "deletable": false,
    "editable": false,
    "nbgrader": {
     "cell_type": "markdown",
     "checksum": "dafbb77305d7766a71513c7a133d374e",
     "grade": false,
     "grade_id": "cell-df76861e6b3d5417",
     "locked": true,
     "schema_version": 3,
     "solution": false,
     "task": false
    }
   },
   "source": [
    "# Homework 1\n",
    "\n",
    "In this homework you will be doing Decision Tree classification on the Diabetes dataset.\n",
    "We will also be using data preprocessing to test ways to improve the classifier.\n"
   ]
  },
  {
   "cell_type": "markdown",
   "metadata": {
    "deletable": false,
    "editable": false,
    "nbgrader": {
     "cell_type": "markdown",
     "checksum": "08af51d4d2ed46174139672840d862e3",
     "grade": false,
     "grade_id": "cell-445df16c3a9c5382",
     "locked": true,
     "schema_version": 3,
     "solution": false,
     "task": false
    }
   },
   "source": [
    "## Import all necessary libraries"
   ]
  },
  {
   "cell_type": "code",
   "execution_count": 1,
   "metadata": {
    "deletable": false,
    "editable": false,
    "nbgrader": {
     "cell_type": "code",
     "checksum": "4b2d059e0b874a56c1d84f4f921e9a51",
     "grade": false,
     "grade_id": "cell-1b92d511365b5816",
     "locked": true,
     "schema_version": 3,
     "solution": false,
     "task": false
    }
   },
   "outputs": [
    {
     "name": "stdout",
     "output_type": "stream",
     "text": [
      "Requirement already satisfied: pandas in /home/jupyter-aprakas5@ncsu.edu/.local/lib/python3.9/site-packages (1.5.3)\n",
      "Requirement already satisfied: scikit-learn in /home/jupyter-aprakas5@ncsu.edu/.local/lib/python3.9/site-packages (1.2.1)\n",
      "Requirement already satisfied: python-dateutil>=2.8.1 in /opt/tljh/user/lib/python3.9/site-packages (from pandas) (2.8.2)\n",
      "Requirement already satisfied: pytz>=2020.1 in /opt/tljh/user/lib/python3.9/site-packages (from pandas) (2022.7)\n",
      "Requirement already satisfied: numpy>=1.20.3 in /opt/tljh/user/lib/python3.9/site-packages (from pandas) (1.24.1)\n",
      "Requirement already satisfied: threadpoolctl>=2.0.0 in /home/jupyter-aprakas5@ncsu.edu/.local/lib/python3.9/site-packages (from scikit-learn) (3.1.0)\n",
      "Requirement already satisfied: joblib>=1.1.1 in /home/jupyter-aprakas5@ncsu.edu/.local/lib/python3.9/site-packages (from scikit-learn) (1.2.0)\n",
      "Requirement already satisfied: scipy>=1.3.2 in /opt/tljh/user/lib/python3.9/site-packages (from scikit-learn) (1.10.0)\n",
      "Requirement already satisfied: six>=1.5 in /opt/tljh/user/lib/python3.9/site-packages (from python-dateutil>=2.8.1->pandas) (1.16.0)\n"
     ]
    }
   ],
   "source": [
    "! pip install pandas scikit-learn --user\n",
    "# you should be familiar with numpy, pandas and matplotlib from HW0\n",
    "import numpy as np\n",
    "import pandas as pd\n",
    "import matplotlib.pyplot as plt\n",
    "\n",
    "# we're using the Diabetes dataset from sklearn.datasets\n",
    "from sklearn import datasets\n",
    "\n",
    "# we will also be using the PCA library from scikit learn for this exercise\n",
    "from sklearn.decomposition import PCA\n",
    "\n",
    "# we will use the StandardScaler method to z-score normalize our data\n",
    "from sklearn.preprocessing import StandardScaler\n",
    "\n",
    "# Remember you have to run this cell block before continuing!"
   ]
  },
  {
   "cell_type": "code",
   "execution_count": 2,
   "metadata": {
    "deletable": false,
    "editable": false,
    "nbgrader": {
     "cell_type": "code",
     "checksum": "407ea83f1a61afdb8766c2c0bd57440f",
     "grade": false,
     "grade_id": "cell-cb4995075486ce2e",
     "locked": true,
     "schema_version": 3,
     "solution": false,
     "task": false
    }
   },
   "outputs": [
    {
     "data": {
      "text/html": [
       "<div>\n",
       "<style scoped>\n",
       "    .dataframe tbody tr th:only-of-type {\n",
       "        vertical-align: middle;\n",
       "    }\n",
       "\n",
       "    .dataframe tbody tr th {\n",
       "        vertical-align: top;\n",
       "    }\n",
       "\n",
       "    .dataframe thead th {\n",
       "        text-align: right;\n",
       "    }\n",
       "</style>\n",
       "<table border=\"1\" class=\"dataframe\">\n",
       "  <thead>\n",
       "    <tr style=\"text-align: right;\">\n",
       "      <th></th>\n",
       "      <th>age</th>\n",
       "      <th>sex</th>\n",
       "      <th>bmi</th>\n",
       "      <th>bp</th>\n",
       "      <th>s1</th>\n",
       "      <th>s2</th>\n",
       "      <th>s3</th>\n",
       "      <th>s4</th>\n",
       "      <th>s5</th>\n",
       "      <th>s6</th>\n",
       "      <th>target</th>\n",
       "    </tr>\n",
       "  </thead>\n",
       "  <tbody>\n",
       "    <tr>\n",
       "      <th>0</th>\n",
       "      <td>0.038076</td>\n",
       "      <td>0.050680</td>\n",
       "      <td>0.061696</td>\n",
       "      <td>0.021872</td>\n",
       "      <td>-0.044223</td>\n",
       "      <td>-0.034821</td>\n",
       "      <td>-0.043401</td>\n",
       "      <td>-0.002592</td>\n",
       "      <td>0.019907</td>\n",
       "      <td>-0.017646</td>\n",
       "      <td>151.0</td>\n",
       "    </tr>\n",
       "    <tr>\n",
       "      <th>1</th>\n",
       "      <td>-0.001882</td>\n",
       "      <td>-0.044642</td>\n",
       "      <td>-0.051474</td>\n",
       "      <td>-0.026328</td>\n",
       "      <td>-0.008449</td>\n",
       "      <td>-0.019163</td>\n",
       "      <td>0.074412</td>\n",
       "      <td>-0.039493</td>\n",
       "      <td>-0.068332</td>\n",
       "      <td>-0.092204</td>\n",
       "      <td>75.0</td>\n",
       "    </tr>\n",
       "    <tr>\n",
       "      <th>2</th>\n",
       "      <td>0.085299</td>\n",
       "      <td>0.050680</td>\n",
       "      <td>0.044451</td>\n",
       "      <td>-0.005670</td>\n",
       "      <td>-0.045599</td>\n",
       "      <td>-0.034194</td>\n",
       "      <td>-0.032356</td>\n",
       "      <td>-0.002592</td>\n",
       "      <td>0.002861</td>\n",
       "      <td>-0.025930</td>\n",
       "      <td>141.0</td>\n",
       "    </tr>\n",
       "    <tr>\n",
       "      <th>3</th>\n",
       "      <td>-0.089063</td>\n",
       "      <td>-0.044642</td>\n",
       "      <td>-0.011595</td>\n",
       "      <td>-0.036656</td>\n",
       "      <td>0.012191</td>\n",
       "      <td>0.024991</td>\n",
       "      <td>-0.036038</td>\n",
       "      <td>0.034309</td>\n",
       "      <td>0.022688</td>\n",
       "      <td>-0.009362</td>\n",
       "      <td>206.0</td>\n",
       "    </tr>\n",
       "    <tr>\n",
       "      <th>4</th>\n",
       "      <td>0.005383</td>\n",
       "      <td>-0.044642</td>\n",
       "      <td>-0.036385</td>\n",
       "      <td>0.021872</td>\n",
       "      <td>0.003935</td>\n",
       "      <td>0.015596</td>\n",
       "      <td>0.008142</td>\n",
       "      <td>-0.002592</td>\n",
       "      <td>-0.031988</td>\n",
       "      <td>-0.046641</td>\n",
       "      <td>135.0</td>\n",
       "    </tr>\n",
       "    <tr>\n",
       "      <th>...</th>\n",
       "      <td>...</td>\n",
       "      <td>...</td>\n",
       "      <td>...</td>\n",
       "      <td>...</td>\n",
       "      <td>...</td>\n",
       "      <td>...</td>\n",
       "      <td>...</td>\n",
       "      <td>...</td>\n",
       "      <td>...</td>\n",
       "      <td>...</td>\n",
       "      <td>...</td>\n",
       "    </tr>\n",
       "    <tr>\n",
       "      <th>437</th>\n",
       "      <td>0.041708</td>\n",
       "      <td>0.050680</td>\n",
       "      <td>0.019662</td>\n",
       "      <td>0.059744</td>\n",
       "      <td>-0.005697</td>\n",
       "      <td>-0.002566</td>\n",
       "      <td>-0.028674</td>\n",
       "      <td>-0.002592</td>\n",
       "      <td>0.031193</td>\n",
       "      <td>0.007207</td>\n",
       "      <td>178.0</td>\n",
       "    </tr>\n",
       "    <tr>\n",
       "      <th>438</th>\n",
       "      <td>-0.005515</td>\n",
       "      <td>0.050680</td>\n",
       "      <td>-0.015906</td>\n",
       "      <td>-0.067642</td>\n",
       "      <td>0.049341</td>\n",
       "      <td>0.079165</td>\n",
       "      <td>-0.028674</td>\n",
       "      <td>0.034309</td>\n",
       "      <td>-0.018114</td>\n",
       "      <td>0.044485</td>\n",
       "      <td>104.0</td>\n",
       "    </tr>\n",
       "    <tr>\n",
       "      <th>439</th>\n",
       "      <td>0.041708</td>\n",
       "      <td>0.050680</td>\n",
       "      <td>-0.015906</td>\n",
       "      <td>0.017293</td>\n",
       "      <td>-0.037344</td>\n",
       "      <td>-0.013840</td>\n",
       "      <td>-0.024993</td>\n",
       "      <td>-0.011080</td>\n",
       "      <td>-0.046883</td>\n",
       "      <td>0.015491</td>\n",
       "      <td>132.0</td>\n",
       "    </tr>\n",
       "    <tr>\n",
       "      <th>440</th>\n",
       "      <td>-0.045472</td>\n",
       "      <td>-0.044642</td>\n",
       "      <td>0.039062</td>\n",
       "      <td>0.001215</td>\n",
       "      <td>0.016318</td>\n",
       "      <td>0.015283</td>\n",
       "      <td>-0.028674</td>\n",
       "      <td>0.026560</td>\n",
       "      <td>0.044529</td>\n",
       "      <td>-0.025930</td>\n",
       "      <td>220.0</td>\n",
       "    </tr>\n",
       "    <tr>\n",
       "      <th>441</th>\n",
       "      <td>-0.045472</td>\n",
       "      <td>-0.044642</td>\n",
       "      <td>-0.073030</td>\n",
       "      <td>-0.081413</td>\n",
       "      <td>0.083740</td>\n",
       "      <td>0.027809</td>\n",
       "      <td>0.173816</td>\n",
       "      <td>-0.039493</td>\n",
       "      <td>-0.004222</td>\n",
       "      <td>0.003064</td>\n",
       "      <td>57.0</td>\n",
       "    </tr>\n",
       "  </tbody>\n",
       "</table>\n",
       "<p>442 rows × 11 columns</p>\n",
       "</div>"
      ],
      "text/plain": [
       "          age       sex       bmi        bp        s1        s2        s3  \\\n",
       "0    0.038076  0.050680  0.061696  0.021872 -0.044223 -0.034821 -0.043401   \n",
       "1   -0.001882 -0.044642 -0.051474 -0.026328 -0.008449 -0.019163  0.074412   \n",
       "2    0.085299  0.050680  0.044451 -0.005670 -0.045599 -0.034194 -0.032356   \n",
       "3   -0.089063 -0.044642 -0.011595 -0.036656  0.012191  0.024991 -0.036038   \n",
       "4    0.005383 -0.044642 -0.036385  0.021872  0.003935  0.015596  0.008142   \n",
       "..        ...       ...       ...       ...       ...       ...       ...   \n",
       "437  0.041708  0.050680  0.019662  0.059744 -0.005697 -0.002566 -0.028674   \n",
       "438 -0.005515  0.050680 -0.015906 -0.067642  0.049341  0.079165 -0.028674   \n",
       "439  0.041708  0.050680 -0.015906  0.017293 -0.037344 -0.013840 -0.024993   \n",
       "440 -0.045472 -0.044642  0.039062  0.001215  0.016318  0.015283 -0.028674   \n",
       "441 -0.045472 -0.044642 -0.073030 -0.081413  0.083740  0.027809  0.173816   \n",
       "\n",
       "           s4        s5        s6  target  \n",
       "0   -0.002592  0.019907 -0.017646   151.0  \n",
       "1   -0.039493 -0.068332 -0.092204    75.0  \n",
       "2   -0.002592  0.002861 -0.025930   141.0  \n",
       "3    0.034309  0.022688 -0.009362   206.0  \n",
       "4   -0.002592 -0.031988 -0.046641   135.0  \n",
       "..        ...       ...       ...     ...  \n",
       "437 -0.002592  0.031193  0.007207   178.0  \n",
       "438  0.034309 -0.018114  0.044485   104.0  \n",
       "439 -0.011080 -0.046883  0.015491   132.0  \n",
       "440  0.026560  0.044529 -0.025930   220.0  \n",
       "441 -0.039493 -0.004222  0.003064    57.0  \n",
       "\n",
       "[442 rows x 11 columns]"
      ]
     },
     "execution_count": 2,
     "metadata": {},
     "output_type": "execute_result"
    }
   ],
   "source": [
    "# Load the Diabetes dataset from sklearn\n",
    "diabetes_sk = datasets.load_diabetes(as_frame=True)\n",
    "diabetes = pd.DataFrame(diabetes_sk.data, columns = diabetes_sk.feature_names)\n",
    "diabetes[\"target\"] = diabetes_sk.target\n",
    "diabetes"
   ]
  },
  {
   "cell_type": "markdown",
   "metadata": {
    "deletable": false,
    "editable": false,
    "nbgrader": {
     "cell_type": "markdown",
     "checksum": "2f1a47d50a84519fae6bd36b3b3f5b7e",
     "grade": false,
     "grade_id": "cell-9c30171bad3bafef",
     "locked": true,
     "schema_version": 3,
     "solution": false,
     "task": false
    }
   },
   "source": [
    "## 1. Equal-width discretization\n",
    "\n",
    "**Why discretize?**: As you can see, this dataset set has a *continuous* target variable (`target`), but decision trees are a type of *classifier*, which predicts a discrete (not continuous) target variable. Therefore, we need to discretize our target variable first.\n",
    "\n",
    "To find out the appropriate discretization method for our data, we can start by plotting a histogram of our target values. Run the following code:"
   ]
  },
  {
   "cell_type": "code",
   "execution_count": 3,
   "metadata": {
    "deletable": false,
    "editable": false,
    "nbgrader": {
     "cell_type": "code",
     "checksum": "cb25a4a7ff513cbc093fed51040bf8c1",
     "grade": false,
     "grade_id": "cell-2d594b8ccb74af5e",
     "locked": true,
     "schema_version": 3,
     "solution": false,
     "task": false
    }
   },
   "outputs": [
    {
     "data": {
      "text/plain": [
       "(array([38., 80., 68., 62., 50., 41., 38., 42., 17.,  6.]),\n",
       " array([ 25. ,  57.1,  89.2, 121.3, 153.4, 185.5, 217.6, 249.7, 281.8,\n",
       "        313.9, 346. ]),\n",
       " <BarContainer object of 10 artists>)"
      ]
     },
     "execution_count": 3,
     "metadata": {},
     "output_type": "execute_result"
    },
    {
     "data": {
      "image/png": "[encoded data removed]",
      "text/plain": [
       "<Figure size 640x480 with 1 Axes>"
      ]
     },
     "metadata": {},
     "output_type": "display_data"
    }
   ],
   "source": [
    "plt.hist(diabetes.target)"
   ]
  },
  {
   "cell_type": "markdown",
   "metadata": {
    "deletable": false,
    "editable": false,
    "nbgrader": {
     "cell_type": "markdown",
     "checksum": "3ecf62c88d960d518ae3cecdab85b0bc",
     "grade": false,
     "grade_id": "cell-c4f3893a93f51067",
     "locked": true,
     "schema_version": 3,
     "solution": false,
     "task": false
    }
   },
   "source": [
    "Looking at the histogram, there is no obvious split point. One option is to simply split the data into 2 bins using equal-width binning. In other words, after conducting equal-width binning on our target values, we will only have two values for our target (0 and 1). \n",
    "\n",
    "In the following exercises, you will be writing code to discretize a defined numpy vector into equal-width bins. The $n$ bins should all be of size $(max - min) / n$. If a value falls directly on a break, you should put it in the higher bin."
   ]
  },
  {
   "cell_type": "code",
   "execution_count": 13,
   "metadata": {
    "deletable": false,
    "nbgrader": {
     "cell_type": "code",
     "checksum": "873bbbb91fbb2143345ccfe451b017fb",
     "grade": false,
     "grade_id": "cell-063910f8b3dc9479",
     "locked": false,
     "schema_version": 3,
     "solution": true,
     "task": false
    }
   },
   "outputs": [],
   "source": [
    "def equal_width(v, n):\n",
    "    \"\"\"\n",
    "    Input: v: the vector to be discretized (np.array).\n",
    "           n: is the number of equal-width bins (intervals) for discretization.\n",
    "    Output: an np.array of the same length as v, where each item indicates the\n",
    "            bin number (int value) of the corresponding item in v, starting at 0 for the\n",
    "            first bin.\n",
    "    Allowed Libraries: pandas and numpy. \n",
    "    \"\"\"\n",
    "    assert n > 0\n",
    "    \n",
    "   # get the bin size of the np.array\n",
    "    bin_size = (np.max(v) - np.min(v)) / n\n",
    "    \n",
    "    # Create an empty np.array of length v to store the bin number for each value in v\n",
    "    bin_array = np.zeros(len(v), dtype = int)\n",
    "    \n",
    "    # Iterate over the values in v\n",
    "    for i, val in enumerate(v):\n",
    "        # Example: (4 - 2) = 2 -> 2 // 7 = 0\n",
    "        bin_index = int((val - np.min(v)) // bin_size)\n",
    "        # Make sure the bin index is not greater than n - 1\n",
    "        if bin_index == n:\n",
    "            bin_index = n - 1\n",
    "        bin_array[i] = bin_index\n",
    "    \n",
    "    return bin_array\n",
    "    "
   ]
  },
  {
   "cell_type": "code",
   "execution_count": 14,
   "metadata": {},
   "outputs": [
    {
     "data": {
      "text/plain": [
       "array([0, 0, 1, 3, 4, 0, 2, 3])"
      ]
     },
     "execution_count": 14,
     "metadata": {},
     "output_type": "execute_result"
    }
   ],
   "source": [
    "# Test your function!\n",
    "v = np.array([1, 6, 13, 40, 56, 7, 23, 43])\n",
    "# Bin size should be 11 = (56-1)/5, so we get [1-12), [12, 23), etc.\n",
    "count = equal_width(v, 5)\n",
    "count"
   ]
  },
  {
   "cell_type": "code",
   "execution_count": 15,
   "metadata": {
    "deletable": false,
    "editable": false,
    "nbgrader": {
     "cell_type": "code",
     "checksum": "4df876985d4b87b2c9d02032475c3fdc",
     "grade": true,
     "grade_id": "equal_width_public",
     "locked": true,
     "points": 4,
     "schema_version": 3,
     "solution": false,
     "task": false
    }
   },
   "outputs": [],
   "source": [
    "v = np.array([1, 6, 13, 40, 56, 7, 23, 43])\n",
    "# Note, the \"or\" here is to support the original, incorrect test cases\n",
    "assert np.array_equal(equal_width(v, 5), np.array([0, 0, 1, 3, 4, 0, 2, 3]))\n",
    "assert np.array_equal(equal_width(v, 3), np.array([0, 0, 0, 2, 2, 0, 1, 2]))\n",
    "assert np.array_equal(equal_width(v, 1), np.array([0, 0, 0, 0, 0, 0, 0, 0]))"
   ]
  },
  {
   "cell_type": "markdown",
   "metadata": {
    "deletable": false,
    "editable": false,
    "nbgrader": {
     "cell_type": "markdown",
     "checksum": "59f40a335685118695035c0f73238ebc",
     "grade": false,
     "grade_id": "cell-cf2c48a4138f5ad9",
     "locked": true,
     "schema_version": 3,
     "solution": false,
     "task": false
    }
   },
   "source": [
    "The code below creates a copy of our `diabetes` dataframe called `diabetes_disc`. Now use the `equal_width` function to discretize the `target` attribute (i.e. replace it with a binary attribute)."
   ]
  },
  {
   "cell_type": "code",
   "execution_count": 16,
   "metadata": {
    "deletable": false,
    "nbgrader": {
     "cell_type": "code",
     "checksum": "095fb59eacb3638b17a81de8a7d5ac21",
     "grade": false,
     "grade_id": "diabetes_disc",
     "locked": false,
     "schema_version": 3,
     "solution": true,
     "task": false
    }
   },
   "outputs": [],
   "source": [
    "diabetes_disc = diabetes.copy()\n",
    "diabetes_disc[\"target\"] = equal_width(diabetes_disc[\"target\"], 2)"
   ]
  },
  {
   "cell_type": "code",
   "execution_count": 17,
   "metadata": {},
   "outputs": [
    {
     "data": {
      "text/plain": [
       "0    298\n",
       "1    144\n",
       "Name: target, dtype: int64"
      ]
     },
     "execution_count": 17,
     "metadata": {},
     "output_type": "execute_result"
    }
   ],
   "source": [
    "# Check how many of each value we now have (0 = low risk; 1 = high risk)\n",
    "diabetes_disc[\"target\"].value_counts()"
   ]
  },
  {
   "cell_type": "code",
   "execution_count": 18,
   "metadata": {
    "deletable": false,
    "editable": false,
    "nbgrader": {
     "cell_type": "code",
     "checksum": "88b7954b0bbfbd61debed29ad0e9037b",
     "grade": true,
     "grade_id": "diabetes_disc-public",
     "locked": true,
     "points": 1,
     "schema_version": 3,
     "solution": false,
     "task": false
    }
   },
   "outputs": [],
   "source": [
    "# Public tests to ensure you correctly discretized the dataset\n",
    "assert(diabetes_disc[\"target\"].value_counts()[0] == 298)\n",
    "assert(diabetes_disc[\"target\"].value_counts()[1] == 144)"
   ]
  },
  {
   "cell_type": "markdown",
   "metadata": {
    "deletable": false,
    "editable": false,
    "nbgrader": {
     "cell_type": "markdown",
     "checksum": "4a0b8fb81893c0e57086f665892f8064",
     "grade": false,
     "grade_id": "cell-d63a83e3a1c6f263",
     "locked": true,
     "schema_version": 3,
     "solution": false,
     "task": false
    }
   },
   "source": [
    "## 2. Stratified sampling\n",
    "\n",
    "The number of data points belonging to each class is different (twice as many 0s as 1s). This is called an **imbalanced dataset**. In general, that's not a problem, and we will learn how to evaluate classifiers on imbalanced data. However, for now we will use the accuracy score as an evaluation metric, which can be misleading on imbalanced data (e.g. if I always guess 0, I'll have ~66% accuracy).\n",
    "\n",
    "To address this, let's use stratified sampling to ensure that we have no more of one class than the other.\n",
    "\n",
    "In this part, you will be writing code to do stratified sampling. Create a stratrified sample of the `diabetes_disc` dataset, with 40 objects, that has an equal number of each **target** value (0 and 1).\n",
    "\n",
    "**Store it in the variable `stratified_diabetes`**.\n",
    "\n",
    "**Hint**: You should read about the [split-apply-combine](https://pandas.pydata.org/pandas-docs/stable/user_guide/groupby.html) coding pattern in Pandas before starting this problem! In particular pay attention to the following:\n",
    "* [Splitting an object into groups](https://pandas.pydata.org/pandas-docs/stable/user_guide/groupby.html#splitting-an-object-into-groups)\n",
    "* [Transformation](https://pandas.pydata.org/pandas-docs/stable/user_guide/groupby.html#transformation)\n"
   ]
  },
  {
   "cell_type": "code",
   "execution_count": 19,
   "metadata": {
    "deletable": false,
    "nbgrader": {
     "cell_type": "code",
     "checksum": "4d557226dfcd6843d2b8fb1c0ec5d873",
     "grade": false,
     "grade_id": "stratified_sampling",
     "locked": false,
     "schema_version": 3,
     "solution": true,
     "task": false
    }
   },
   "outputs": [],
   "source": [
    "stratified_diabetes = diabetes_disc.groupby(\"target\")\n",
    "# Concatenates the sampled stratified_diabetes of 40\n",
    "stratified_diabetes = pd.concat(group.sample(20, replace = False) for name, group in stratified_diabetes)"
   ]
  },
  {
   "cell_type": "code",
   "execution_count": 20,
   "metadata": {},
   "outputs": [
    {
     "data": {
      "text/html": [
       "<div>\n",
       "<style scoped>\n",
       "    .dataframe tbody tr th:only-of-type {\n",
       "        vertical-align: middle;\n",
       "    }\n",
       "\n",
       "    .dataframe tbody tr th {\n",
       "        vertical-align: top;\n",
       "    }\n",
       "\n",
       "    .dataframe thead th {\n",
       "        text-align: right;\n",
       "    }\n",
       "</style>\n",
       "<table border=\"1\" class=\"dataframe\">\n",
       "  <thead>\n",
       "    <tr style=\"text-align: right;\">\n",
       "      <th></th>\n",
       "      <th>age</th>\n",
       "      <th>sex</th>\n",
       "      <th>bmi</th>\n",
       "      <th>bp</th>\n",
       "      <th>s1</th>\n",
       "      <th>s2</th>\n",
       "      <th>s3</th>\n",
       "      <th>s4</th>\n",
       "      <th>s5</th>\n",
       "      <th>s6</th>\n",
       "      <th>target</th>\n",
       "    </tr>\n",
       "  </thead>\n",
       "  <tbody>\n",
       "    <tr>\n",
       "      <th>66</th>\n",
       "      <td>-0.009147</td>\n",
       "      <td>0.050680</td>\n",
       "      <td>-0.018062</td>\n",
       "      <td>-0.033213</td>\n",
       "      <td>-0.020832</td>\n",
       "      <td>0.012152</td>\n",
       "      <td>-0.072854</td>\n",
       "      <td>0.071210</td>\n",
       "      <td>0.000272</td>\n",
       "      <td>0.019633</td>\n",
       "      <td>0</td>\n",
       "    </tr>\n",
       "    <tr>\n",
       "      <th>221</th>\n",
       "      <td>-0.045472</td>\n",
       "      <td>-0.044642</td>\n",
       "      <td>-0.038540</td>\n",
       "      <td>-0.026328</td>\n",
       "      <td>-0.015328</td>\n",
       "      <td>0.000878</td>\n",
       "      <td>-0.032356</td>\n",
       "      <td>-0.002592</td>\n",
       "      <td>0.001148</td>\n",
       "      <td>-0.038357</td>\n",
       "      <td>0</td>\n",
       "    </tr>\n",
       "    <tr>\n",
       "      <th>171</th>\n",
       "      <td>-0.020045</td>\n",
       "      <td>-0.044642</td>\n",
       "      <td>-0.046085</td>\n",
       "      <td>-0.098627</td>\n",
       "      <td>-0.075870</td>\n",
       "      <td>-0.059873</td>\n",
       "      <td>-0.017629</td>\n",
       "      <td>-0.039493</td>\n",
       "      <td>-0.051404</td>\n",
       "      <td>-0.046641</td>\n",
       "      <td>0</td>\n",
       "    </tr>\n",
       "    <tr>\n",
       "      <th>198</th>\n",
       "      <td>-0.052738</td>\n",
       "      <td>-0.044642</td>\n",
       "      <td>0.054152</td>\n",
       "      <td>-0.026328</td>\n",
       "      <td>-0.055231</td>\n",
       "      <td>-0.033881</td>\n",
       "      <td>-0.013948</td>\n",
       "      <td>-0.039493</td>\n",
       "      <td>-0.074093</td>\n",
       "      <td>-0.059067</td>\n",
       "      <td>0</td>\n",
       "    </tr>\n",
       "    <tr>\n",
       "      <th>82</th>\n",
       "      <td>-0.016412</td>\n",
       "      <td>-0.044642</td>\n",
       "      <td>-0.035307</td>\n",
       "      <td>-0.026328</td>\n",
       "      <td>0.032830</td>\n",
       "      <td>0.017162</td>\n",
       "      <td>0.100183</td>\n",
       "      <td>-0.039493</td>\n",
       "      <td>-0.070209</td>\n",
       "      <td>-0.079778</td>\n",
       "      <td>0</td>\n",
       "    </tr>\n",
       "    <tr>\n",
       "      <th>33</th>\n",
       "      <td>0.030811</td>\n",
       "      <td>-0.044642</td>\n",
       "      <td>-0.050396</td>\n",
       "      <td>-0.002228</td>\n",
       "      <td>-0.044223</td>\n",
       "      <td>-0.089935</td>\n",
       "      <td>0.118591</td>\n",
       "      <td>-0.076395</td>\n",
       "      <td>-0.018114</td>\n",
       "      <td>0.003064</td>\n",
       "      <td>0</td>\n",
       "    </tr>\n",
       "    <tr>\n",
       "      <th>70</th>\n",
       "      <td>-0.001882</td>\n",
       "      <td>-0.044642</td>\n",
       "      <td>-0.069797</td>\n",
       "      <td>-0.012556</td>\n",
       "      <td>-0.000193</td>\n",
       "      <td>-0.009143</td>\n",
       "      <td>0.070730</td>\n",
       "      <td>-0.039493</td>\n",
       "      <td>-0.062917</td>\n",
       "      <td>0.040343</td>\n",
       "      <td>0</td>\n",
       "    </tr>\n",
       "    <tr>\n",
       "      <th>191</th>\n",
       "      <td>-0.005515</td>\n",
       "      <td>0.050680</td>\n",
       "      <td>-0.041774</td>\n",
       "      <td>-0.043542</td>\n",
       "      <td>-0.079998</td>\n",
       "      <td>-0.076156</td>\n",
       "      <td>-0.032356</td>\n",
       "      <td>-0.039493</td>\n",
       "      <td>0.010227</td>\n",
       "      <td>-0.009362</td>\n",
       "      <td>0</td>\n",
       "    </tr>\n",
       "    <tr>\n",
       "      <th>372</th>\n",
       "      <td>-0.027310</td>\n",
       "      <td>0.050680</td>\n",
       "      <td>-0.023451</td>\n",
       "      <td>-0.015999</td>\n",
       "      <td>0.013567</td>\n",
       "      <td>0.012778</td>\n",
       "      <td>0.026550</td>\n",
       "      <td>-0.002592</td>\n",
       "      <td>-0.010903</td>\n",
       "      <td>-0.021788</td>\n",
       "      <td>0</td>\n",
       "    </tr>\n",
       "    <tr>\n",
       "      <th>8</th>\n",
       "      <td>0.041708</td>\n",
       "      <td>0.050680</td>\n",
       "      <td>0.061696</td>\n",
       "      <td>-0.040099</td>\n",
       "      <td>-0.013953</td>\n",
       "      <td>0.006202</td>\n",
       "      <td>-0.028674</td>\n",
       "      <td>-0.002592</td>\n",
       "      <td>-0.014960</td>\n",
       "      <td>0.011349</td>\n",
       "      <td>0</td>\n",
       "    </tr>\n",
       "    <tr>\n",
       "      <th>237</th>\n",
       "      <td>0.056239</td>\n",
       "      <td>-0.044642</td>\n",
       "      <td>-0.068719</td>\n",
       "      <td>-0.068778</td>\n",
       "      <td>-0.000193</td>\n",
       "      <td>-0.001001</td>\n",
       "      <td>0.044958</td>\n",
       "      <td>-0.037648</td>\n",
       "      <td>-0.048359</td>\n",
       "      <td>-0.001078</td>\n",
       "      <td>0</td>\n",
       "    </tr>\n",
       "    <tr>\n",
       "      <th>226</th>\n",
       "      <td>-0.103593</td>\n",
       "      <td>0.050680</td>\n",
       "      <td>-0.046085</td>\n",
       "      <td>-0.026328</td>\n",
       "      <td>-0.024960</td>\n",
       "      <td>-0.024800</td>\n",
       "      <td>0.030232</td>\n",
       "      <td>-0.039493</td>\n",
       "      <td>-0.039809</td>\n",
       "      <td>-0.054925</td>\n",
       "      <td>0</td>\n",
       "    </tr>\n",
       "    <tr>\n",
       "      <th>195</th>\n",
       "      <td>0.027178</td>\n",
       "      <td>0.050680</td>\n",
       "      <td>0.025051</td>\n",
       "      <td>0.014987</td>\n",
       "      <td>0.025950</td>\n",
       "      <td>0.048477</td>\n",
       "      <td>-0.039719</td>\n",
       "      <td>0.034309</td>\n",
       "      <td>0.007838</td>\n",
       "      <td>0.023775</td>\n",
       "      <td>0</td>\n",
       "    </tr>\n",
       "    <tr>\n",
       "      <th>277</th>\n",
       "      <td>-0.034575</td>\n",
       "      <td>-0.044642</td>\n",
       "      <td>-0.059019</td>\n",
       "      <td>0.001215</td>\n",
       "      <td>-0.053855</td>\n",
       "      <td>-0.078035</td>\n",
       "      <td>0.067048</td>\n",
       "      <td>-0.076395</td>\n",
       "      <td>-0.021395</td>\n",
       "      <td>0.015491</td>\n",
       "      <td>0</td>\n",
       "    </tr>\n",
       "    <tr>\n",
       "      <th>48</th>\n",
       "      <td>0.067136</td>\n",
       "      <td>0.050680</td>\n",
       "      <td>-0.041774</td>\n",
       "      <td>0.011544</td>\n",
       "      <td>0.002559</td>\n",
       "      <td>0.005889</td>\n",
       "      <td>0.041277</td>\n",
       "      <td>-0.039493</td>\n",
       "      <td>-0.059471</td>\n",
       "      <td>-0.021788</td>\n",
       "      <td>0</td>\n",
       "    </tr>\n",
       "    <tr>\n",
       "      <th>109</th>\n",
       "      <td>0.038076</td>\n",
       "      <td>0.050680</td>\n",
       "      <td>-0.009439</td>\n",
       "      <td>0.002351</td>\n",
       "      <td>0.001183</td>\n",
       "      <td>0.037517</td>\n",
       "      <td>-0.054446</td>\n",
       "      <td>0.050176</td>\n",
       "      <td>-0.025953</td>\n",
       "      <td>0.106617</td>\n",
       "      <td>0</td>\n",
       "    </tr>\n",
       "    <tr>\n",
       "      <th>337</th>\n",
       "      <td>0.019913</td>\n",
       "      <td>0.050680</td>\n",
       "      <td>-0.012673</td>\n",
       "      <td>0.070072</td>\n",
       "      <td>-0.011201</td>\n",
       "      <td>0.007141</td>\n",
       "      <td>-0.039719</td>\n",
       "      <td>0.034309</td>\n",
       "      <td>0.005386</td>\n",
       "      <td>0.003064</td>\n",
       "      <td>0</td>\n",
       "    </tr>\n",
       "    <tr>\n",
       "      <th>160</th>\n",
       "      <td>-0.009147</td>\n",
       "      <td>-0.044642</td>\n",
       "      <td>-0.062252</td>\n",
       "      <td>-0.074527</td>\n",
       "      <td>-0.023584</td>\n",
       "      <td>-0.013214</td>\n",
       "      <td>0.004460</td>\n",
       "      <td>-0.039493</td>\n",
       "      <td>-0.035816</td>\n",
       "      <td>-0.046641</td>\n",
       "      <td>0</td>\n",
       "    </tr>\n",
       "    <tr>\n",
       "      <th>133</th>\n",
       "      <td>-0.041840</td>\n",
       "      <td>0.050680</td>\n",
       "      <td>-0.053630</td>\n",
       "      <td>-0.040099</td>\n",
       "      <td>-0.084126</td>\n",
       "      <td>-0.071772</td>\n",
       "      <td>-0.002903</td>\n",
       "      <td>-0.039493</td>\n",
       "      <td>-0.072133</td>\n",
       "      <td>-0.030072</td>\n",
       "      <td>0</td>\n",
       "    </tr>\n",
       "    <tr>\n",
       "      <th>16</th>\n",
       "      <td>-0.005515</td>\n",
       "      <td>-0.044642</td>\n",
       "      <td>0.042296</td>\n",
       "      <td>0.049415</td>\n",
       "      <td>0.024574</td>\n",
       "      <td>-0.023861</td>\n",
       "      <td>0.074412</td>\n",
       "      <td>-0.039493</td>\n",
       "      <td>0.052277</td>\n",
       "      <td>0.027917</td>\n",
       "      <td>0</td>\n",
       "    </tr>\n",
       "    <tr>\n",
       "      <th>248</th>\n",
       "      <td>-0.041840</td>\n",
       "      <td>-0.044642</td>\n",
       "      <td>0.047685</td>\n",
       "      <td>0.059744</td>\n",
       "      <td>0.127771</td>\n",
       "      <td>0.128016</td>\n",
       "      <td>-0.024993</td>\n",
       "      <td>0.108111</td>\n",
       "      <td>0.063890</td>\n",
       "      <td>0.040343</td>\n",
       "      <td>1</td>\n",
       "    </tr>\n",
       "    <tr>\n",
       "      <th>303</th>\n",
       "      <td>0.074401</td>\n",
       "      <td>-0.044642</td>\n",
       "      <td>0.034751</td>\n",
       "      <td>0.094172</td>\n",
       "      <td>0.057597</td>\n",
       "      <td>0.020293</td>\n",
       "      <td>0.022869</td>\n",
       "      <td>-0.002592</td>\n",
       "      <td>0.073799</td>\n",
       "      <td>-0.021788</td>\n",
       "      <td>1</td>\n",
       "    </tr>\n",
       "    <tr>\n",
       "      <th>9</th>\n",
       "      <td>-0.070900</td>\n",
       "      <td>-0.044642</td>\n",
       "      <td>0.039062</td>\n",
       "      <td>-0.033213</td>\n",
       "      <td>-0.012577</td>\n",
       "      <td>-0.034508</td>\n",
       "      <td>-0.024993</td>\n",
       "      <td>-0.002592</td>\n",
       "      <td>0.067737</td>\n",
       "      <td>-0.013504</td>\n",
       "      <td>1</td>\n",
       "    </tr>\n",
       "    <tr>\n",
       "      <th>323</th>\n",
       "      <td>0.070769</td>\n",
       "      <td>0.050680</td>\n",
       "      <td>-0.007284</td>\n",
       "      <td>0.049415</td>\n",
       "      <td>0.060349</td>\n",
       "      <td>-0.004445</td>\n",
       "      <td>-0.054446</td>\n",
       "      <td>0.108111</td>\n",
       "      <td>0.129021</td>\n",
       "      <td>0.056912</td>\n",
       "      <td>1</td>\n",
       "    </tr>\n",
       "    <tr>\n",
       "      <th>108</th>\n",
       "      <td>0.019913</td>\n",
       "      <td>0.050680</td>\n",
       "      <td>0.045529</td>\n",
       "      <td>0.029894</td>\n",
       "      <td>-0.062111</td>\n",
       "      <td>-0.055802</td>\n",
       "      <td>-0.072854</td>\n",
       "      <td>0.026929</td>\n",
       "      <td>0.045604</td>\n",
       "      <td>0.040343</td>\n",
       "      <td>1</td>\n",
       "    </tr>\n",
       "    <tr>\n",
       "      <th>279</th>\n",
       "      <td>0.038076</td>\n",
       "      <td>0.050680</td>\n",
       "      <td>-0.024529</td>\n",
       "      <td>0.004658</td>\n",
       "      <td>-0.026336</td>\n",
       "      <td>-0.026366</td>\n",
       "      <td>0.015505</td>\n",
       "      <td>-0.039493</td>\n",
       "      <td>-0.015999</td>\n",
       "      <td>-0.025930</td>\n",
       "      <td>1</td>\n",
       "    </tr>\n",
       "    <tr>\n",
       "      <th>322</th>\n",
       "      <td>0.023546</td>\n",
       "      <td>0.050680</td>\n",
       "      <td>0.061696</td>\n",
       "      <td>0.062050</td>\n",
       "      <td>0.024574</td>\n",
       "      <td>-0.036073</td>\n",
       "      <td>-0.091262</td>\n",
       "      <td>0.155345</td>\n",
       "      <td>0.133397</td>\n",
       "      <td>0.081764</td>\n",
       "      <td>1</td>\n",
       "    </tr>\n",
       "    <tr>\n",
       "      <th>150</th>\n",
       "      <td>0.023546</td>\n",
       "      <td>-0.044642</td>\n",
       "      <td>0.070319</td>\n",
       "      <td>0.025315</td>\n",
       "      <td>-0.034592</td>\n",
       "      <td>-0.014466</td>\n",
       "      <td>-0.032356</td>\n",
       "      <td>-0.002592</td>\n",
       "      <td>-0.019198</td>\n",
       "      <td>-0.009362</td>\n",
       "      <td>1</td>\n",
       "    </tr>\n",
       "    <tr>\n",
       "      <th>338</th>\n",
       "      <td>-0.063635</td>\n",
       "      <td>-0.044642</td>\n",
       "      <td>-0.033151</td>\n",
       "      <td>-0.033213</td>\n",
       "      <td>0.001183</td>\n",
       "      <td>0.024051</td>\n",
       "      <td>-0.024993</td>\n",
       "      <td>-0.002592</td>\n",
       "      <td>-0.022517</td>\n",
       "      <td>-0.059067</td>\n",
       "      <td>1</td>\n",
       "    </tr>\n",
       "    <tr>\n",
       "      <th>300</th>\n",
       "      <td>0.016281</td>\n",
       "      <td>-0.044642</td>\n",
       "      <td>0.073552</td>\n",
       "      <td>-0.041235</td>\n",
       "      <td>-0.004321</td>\n",
       "      <td>-0.013527</td>\n",
       "      <td>-0.013948</td>\n",
       "      <td>-0.001116</td>\n",
       "      <td>0.042897</td>\n",
       "      <td>0.044485</td>\n",
       "      <td>1</td>\n",
       "    </tr>\n",
       "    <tr>\n",
       "      <th>155</th>\n",
       "      <td>-0.027310</td>\n",
       "      <td>0.050680</td>\n",
       "      <td>0.060618</td>\n",
       "      <td>0.049415</td>\n",
       "      <td>0.085116</td>\n",
       "      <td>0.086368</td>\n",
       "      <td>-0.002903</td>\n",
       "      <td>0.034309</td>\n",
       "      <td>0.037811</td>\n",
       "      <td>0.048628</td>\n",
       "      <td>1</td>\n",
       "    </tr>\n",
       "    <tr>\n",
       "      <th>117</th>\n",
       "      <td>0.059871</td>\n",
       "      <td>-0.044642</td>\n",
       "      <td>-0.021295</td>\n",
       "      <td>0.087287</td>\n",
       "      <td>0.045213</td>\n",
       "      <td>0.031567</td>\n",
       "      <td>-0.047082</td>\n",
       "      <td>0.071210</td>\n",
       "      <td>0.079122</td>\n",
       "      <td>0.135612</td>\n",
       "      <td>1</td>\n",
       "    </tr>\n",
       "    <tr>\n",
       "      <th>254</th>\n",
       "      <td>0.030811</td>\n",
       "      <td>0.050680</td>\n",
       "      <td>0.056307</td>\n",
       "      <td>0.076958</td>\n",
       "      <td>0.049341</td>\n",
       "      <td>-0.012274</td>\n",
       "      <td>-0.036038</td>\n",
       "      <td>0.071210</td>\n",
       "      <td>0.120051</td>\n",
       "      <td>0.090049</td>\n",
       "      <td>1</td>\n",
       "    </tr>\n",
       "    <tr>\n",
       "      <th>51</th>\n",
       "      <td>0.059871</td>\n",
       "      <td>0.050680</td>\n",
       "      <td>0.016428</td>\n",
       "      <td>0.028758</td>\n",
       "      <td>-0.041472</td>\n",
       "      <td>-0.029184</td>\n",
       "      <td>-0.028674</td>\n",
       "      <td>-0.002592</td>\n",
       "      <td>-0.002398</td>\n",
       "      <td>-0.021788</td>\n",
       "      <td>1</td>\n",
       "    </tr>\n",
       "    <tr>\n",
       "      <th>119</th>\n",
       "      <td>0.016281</td>\n",
       "      <td>-0.044642</td>\n",
       "      <td>-0.047163</td>\n",
       "      <td>-0.002228</td>\n",
       "      <td>-0.019456</td>\n",
       "      <td>-0.042963</td>\n",
       "      <td>0.033914</td>\n",
       "      <td>-0.039493</td>\n",
       "      <td>0.027364</td>\n",
       "      <td>0.027917</td>\n",
       "      <td>1</td>\n",
       "    </tr>\n",
       "    <tr>\n",
       "      <th>216</th>\n",
       "      <td>0.012648</td>\n",
       "      <td>0.050680</td>\n",
       "      <td>0.035829</td>\n",
       "      <td>0.049415</td>\n",
       "      <td>0.053469</td>\n",
       "      <td>0.074155</td>\n",
       "      <td>-0.069172</td>\n",
       "      <td>0.145012</td>\n",
       "      <td>0.045604</td>\n",
       "      <td>0.048628</td>\n",
       "      <td>1</td>\n",
       "    </tr>\n",
       "    <tr>\n",
       "      <th>168</th>\n",
       "      <td>0.001751</td>\n",
       "      <td>0.050680</td>\n",
       "      <td>0.059541</td>\n",
       "      <td>-0.002228</td>\n",
       "      <td>0.061725</td>\n",
       "      <td>0.063195</td>\n",
       "      <td>-0.058127</td>\n",
       "      <td>0.108111</td>\n",
       "      <td>0.068986</td>\n",
       "      <td>0.127328</td>\n",
       "      <td>1</td>\n",
       "    </tr>\n",
       "    <tr>\n",
       "      <th>72</th>\n",
       "      <td>0.063504</td>\n",
       "      <td>0.050680</td>\n",
       "      <td>-0.004050</td>\n",
       "      <td>-0.012556</td>\n",
       "      <td>0.103003</td>\n",
       "      <td>0.048790</td>\n",
       "      <td>0.056003</td>\n",
       "      <td>-0.002592</td>\n",
       "      <td>0.084492</td>\n",
       "      <td>-0.017646</td>\n",
       "      <td>1</td>\n",
       "    </tr>\n",
       "    <tr>\n",
       "      <th>83</th>\n",
       "      <td>-0.038207</td>\n",
       "      <td>-0.044642</td>\n",
       "      <td>0.009961</td>\n",
       "      <td>-0.046985</td>\n",
       "      <td>-0.059359</td>\n",
       "      <td>-0.052983</td>\n",
       "      <td>-0.010266</td>\n",
       "      <td>-0.039493</td>\n",
       "      <td>-0.015999</td>\n",
       "      <td>-0.042499</td>\n",
       "      <td>1</td>\n",
       "    </tr>\n",
       "    <tr>\n",
       "      <th>428</th>\n",
       "      <td>0.048974</td>\n",
       "      <td>0.050680</td>\n",
       "      <td>0.088642</td>\n",
       "      <td>0.087287</td>\n",
       "      <td>0.035582</td>\n",
       "      <td>0.021546</td>\n",
       "      <td>-0.024993</td>\n",
       "      <td>0.034309</td>\n",
       "      <td>0.066051</td>\n",
       "      <td>0.131470</td>\n",
       "      <td>1</td>\n",
       "    </tr>\n",
       "  </tbody>\n",
       "</table>\n",
       "</div>"
      ],
      "text/plain": [
       "          age       sex       bmi        bp        s1        s2        s3  \\\n",
       "66  -0.009147  0.050680 -0.018062 -0.033213 -0.020832  0.012152 -0.072854   \n",
       "221 -0.045472 -0.044642 -0.038540 -0.026328 -0.015328  0.000878 -0.032356   \n",
       "171 -0.020045 -0.044642 -0.046085 -0.098627 -0.075870 -0.059873 -0.017629   \n",
       "198 -0.052738 -0.044642  0.054152 -0.026328 -0.055231 -0.033881 -0.013948   \n",
       "82  -0.016412 -0.044642 -0.035307 -0.026328  0.032830  0.017162  0.100183   \n",
       "33   0.030811 -0.044642 -0.050396 -0.002228 -0.044223 -0.089935  0.118591   \n",
       "70  -0.001882 -0.044642 -0.069797 -0.012556 -0.000193 -0.009143  0.070730   \n",
       "191 -0.005515  0.050680 -0.041774 -0.043542 -0.079998 -0.076156 -0.032356   \n",
       "372 -0.027310  0.050680 -0.023451 -0.015999  0.013567  0.012778  0.026550   \n",
       "8    0.041708  0.050680  0.061696 -0.040099 -0.013953  0.006202 -0.028674   \n",
       "237  0.056239 -0.044642 -0.068719 -0.068778 -0.000193 -0.001001  0.044958   \n",
       "226 -0.103593  0.050680 -0.046085 -0.026328 -0.024960 -0.024800  0.030232   \n",
       "195  0.027178  0.050680  0.025051  0.014987  0.025950  0.048477 -0.039719   \n",
       "277 -0.034575 -0.044642 -0.059019  0.001215 -0.053855 -0.078035  0.067048   \n",
       "48   0.067136  0.050680 -0.041774  0.011544  0.002559  0.005889  0.041277   \n",
       "109  0.038076  0.050680 -0.009439  0.002351  0.001183  0.037517 -0.054446   \n",
       "337  0.019913  0.050680 -0.012673  0.070072 -0.011201  0.007141 -0.039719   \n",
       "160 -0.009147 -0.044642 -0.062252 -0.074527 -0.023584 -0.013214  0.004460   \n",
       "133 -0.041840  0.050680 -0.053630 -0.040099 -0.084126 -0.071772 -0.002903   \n",
       "16  -0.005515 -0.044642  0.042296  0.049415  0.024574 -0.023861  0.074412   \n",
       "248 -0.041840 -0.044642  0.047685  0.059744  0.127771  0.128016 -0.024993   \n",
       "303  0.074401 -0.044642  0.034751  0.094172  0.057597  0.020293  0.022869   \n",
       "9   -0.070900 -0.044642  0.039062 -0.033213 -0.012577 -0.034508 -0.024993   \n",
       "323  0.070769  0.050680 -0.007284  0.049415  0.060349 -0.004445 -0.054446   \n",
       "108  0.019913  0.050680  0.045529  0.029894 -0.062111 -0.055802 -0.072854   \n",
       "279  0.038076  0.050680 -0.024529  0.004658 -0.026336 -0.026366  0.015505   \n",
       "322  0.023546  0.050680  0.061696  0.062050  0.024574 -0.036073 -0.091262   \n",
       "150  0.023546 -0.044642  0.070319  0.025315 -0.034592 -0.014466 -0.032356   \n",
       "338 -0.063635 -0.044642 -0.033151 -0.033213  0.001183  0.024051 -0.024993   \n",
       "300  0.016281 -0.044642  0.073552 -0.041235 -0.004321 -0.013527 -0.013948   \n",
       "155 -0.027310  0.050680  0.060618  0.049415  0.085116  0.086368 -0.002903   \n",
       "117  0.059871 -0.044642 -0.021295  0.087287  0.045213  0.031567 -0.047082   \n",
       "254  0.030811  0.050680  0.056307  0.076958  0.049341 -0.012274 -0.036038   \n",
       "51   0.059871  0.050680  0.016428  0.028758 -0.041472 -0.029184 -0.028674   \n",
       "119  0.016281 -0.044642 -0.047163 -0.002228 -0.019456 -0.042963  0.033914   \n",
       "216  0.012648  0.050680  0.035829  0.049415  0.053469  0.074155 -0.069172   \n",
       "168  0.001751  0.050680  0.059541 -0.002228  0.061725  0.063195 -0.058127   \n",
       "72   0.063504  0.050680 -0.004050 -0.012556  0.103003  0.048790  0.056003   \n",
       "83  -0.038207 -0.044642  0.009961 -0.046985 -0.059359 -0.052983 -0.010266   \n",
       "428  0.048974  0.050680  0.088642  0.087287  0.035582  0.021546 -0.024993   \n",
       "\n",
       "           s4        s5        s6  target  \n",
       "66   0.071210  0.000272  0.019633       0  \n",
       "221 -0.002592  0.001148 -0.038357       0  \n",
       "171 -0.039493 -0.051404 -0.046641       0  \n",
       "198 -0.039493 -0.074093 -0.059067       0  \n",
       "82  -0.039493 -0.070209 -0.079778       0  \n",
       "33  -0.076395 -0.018114  0.003064       0  \n",
       "70  -0.039493 -0.062917  0.040343       0  \n",
       "191 -0.039493  0.010227 -0.009362       0  \n",
       "372 -0.002592 -0.010903 -0.021788       0  \n",
       "8   -0.002592 -0.014960  0.011349       0  \n",
       "237 -0.037648 -0.048359 -0.001078       0  \n",
       "226 -0.039493 -0.039809 -0.054925       0  \n",
       "195  0.034309  0.007838  0.023775       0  \n",
       "277 -0.076395 -0.021395  0.015491       0  \n",
       "48  -0.039493 -0.059471 -0.021788       0  \n",
       "109  0.050176 -0.025953  0.106617       0  \n",
       "337  0.034309  0.005386  0.003064       0  \n",
       "160 -0.039493 -0.035816 -0.046641       0  \n",
       "133 -0.039493 -0.072133 -0.030072       0  \n",
       "16  -0.039493  0.052277  0.027917       0  \n",
       "248  0.108111  0.063890  0.040343       1  \n",
       "303 -0.002592  0.073799 -0.021788       1  \n",
       "9   -0.002592  0.067737 -0.013504       1  \n",
       "323  0.108111  0.129021  0.056912       1  \n",
       "108  0.026929  0.045604  0.040343       1  \n",
       "279 -0.039493 -0.015999 -0.025930       1  \n",
       "322  0.155345  0.133397  0.081764       1  \n",
       "150 -0.002592 -0.019198 -0.009362       1  \n",
       "338 -0.002592 -0.022517 -0.059067       1  \n",
       "300 -0.001116  0.042897  0.044485       1  \n",
       "155  0.034309  0.037811  0.048628       1  \n",
       "117  0.071210  0.079122  0.135612       1  \n",
       "254  0.071210  0.120051  0.090049       1  \n",
       "51  -0.002592 -0.002398 -0.021788       1  \n",
       "119 -0.039493  0.027364  0.027917       1  \n",
       "216  0.145012  0.045604  0.048628       1  \n",
       "168  0.108111  0.068986  0.127328       1  \n",
       "72  -0.002592  0.084492 -0.017646       1  \n",
       "83  -0.039493 -0.015999 -0.042499       1  \n",
       "428  0.034309  0.066051  0.131470       1  "
      ]
     },
     "execution_count": 20,
     "metadata": {},
     "output_type": "execute_result"
    }
   ],
   "source": [
    "# View your output\n",
    "stratified_diabetes"
   ]
  },
  {
   "cell_type": "code",
   "execution_count": 21,
   "metadata": {
    "deletable": false,
    "editable": false,
    "nbgrader": {
     "cell_type": "code",
     "checksum": "2f72325dc3c3233416e159db3db93460",
     "grade": true,
     "grade_id": "stratified_sampling_public",
     "locked": true,
     "points": 4,
     "schema_version": 3,
     "solution": false,
     "task": false
    }
   },
   "outputs": [],
   "source": [
    "# Public tests for random sampling\n",
    "np.testing.assert_equal(sum(stratified_diabetes[\"target\"] == 0),20)\n",
    "np.testing.assert_equal(sum(stratified_diabetes[\"target\"] == 1),20)\n",
    "assert any([(diabetes_disc.iloc[i,:] == stratified_diabetes.iloc[0,:]).all() for i in diabetes_disc.index])"
   ]
  },
  {
   "cell_type": "markdown",
   "metadata": {},
   "source": [
    "Now, use the same function you defined aboved to create a *balanced* dataset called `diabetes_sample` with 250 total instances, 125 of each class (target = 1 or 0)."
   ]
  },
  {
   "cell_type": "code",
   "execution_count": 24,
   "metadata": {
    "deletable": false,
    "nbgrader": {
     "cell_type": "code",
     "checksum": "3cf65443e0572ae28b50b6ddfe7ce7f0",
     "grade": false,
     "grade_id": "get_sample",
     "locked": false,
     "schema_version": 3,
     "solution": true,
     "task": false
    }
   },
   "outputs": [],
   "source": [
    "# Use this seed to ensure that your sample is consistent\n",
    "diabetes_sample = diabetes_disc.groupby(\"target\")\n",
    "# Concatenates the sampled, balanced diabetes_sample of 250\n",
    "diabetes_sample = pd.concat(group.sample(125, replace = True) for name, group in diabetes_sample)"
   ]
  },
  {
   "cell_type": "code",
   "execution_count": 25,
   "metadata": {
    "deletable": false,
    "editable": false,
    "nbgrader": {
     "cell_type": "code",
     "checksum": "7a710076d6730358dee9080e66cffab8",
     "grade": true,
     "grade_id": "get_sample_public",
     "locked": true,
     "points": 1,
     "schema_version": 3,
     "solution": false,
     "task": false
    }
   },
   "outputs": [],
   "source": [
    "# You should have 125 * 2 = 250 rows\n",
    "assert(diabetes_sample.shape[0] == 250)\n",
    "assert(sum(diabetes_sample.target == 0) == 125)\n",
    "assert(sum(diabetes_sample.target == 1) == 125)"
   ]
  },
  {
   "cell_type": "markdown",
   "metadata": {
    "deletable": false,
    "editable": false,
    "nbgrader": {
     "cell_type": "markdown",
     "checksum": "c6cf6a38c1341fa9e7dc9c09dc2f1d88",
     "grade": false,
     "grade_id": "cell-95e3fb2c7191077b",
     "locked": true,
     "schema_version": 3,
     "solution": false,
     "task": false
    }
   },
   "source": [
    "## 3. Decision Trees\n",
    "\n",
    "Now we are going to classify the low versus high risk diabetes cases (the zeros versus the ones) with Decision Trees.\n",
    "\n",
    "You can perform classification using a DecisionTree in python using the scikit-learn library. \n",
    "\n",
    "Take a look at the [documentation](https://scikit-learn.org/stable/modules/generated/sklearn.tree.DecisionTreeClassifier.html#sklearn.tree.DecisionTreeClassifier) to get a clear understanding of all function arguments.\n",
    "\n",
    "Given below is a simple toy example for you to learn how to use the DecisionTreeClassifier."
   ]
  },
  {
   "cell_type": "code",
   "execution_count": 26,
   "metadata": {
    "deletable": false,
    "editable": false,
    "nbgrader": {
     "cell_type": "code",
     "checksum": "87a2109710283c92f452685b0d5ed402",
     "grade": false,
     "grade_id": "cell-86cae1f3ae8215f2",
     "locked": true,
     "schema_version": 3,
     "solution": false,
     "task": false
    }
   },
   "outputs": [
    {
     "data": {
      "text/html": [
       "<div>\n",
       "<style scoped>\n",
       "    .dataframe tbody tr th:only-of-type {\n",
       "        vertical-align: middle;\n",
       "    }\n",
       "\n",
       "    .dataframe tbody tr th {\n",
       "        vertical-align: top;\n",
       "    }\n",
       "\n",
       "    .dataframe thead th {\n",
       "        text-align: right;\n",
       "    }\n",
       "</style>\n",
       "<table border=\"1\" class=\"dataframe\">\n",
       "  <thead>\n",
       "    <tr style=\"text-align: right;\">\n",
       "      <th></th>\n",
       "      <th>age</th>\n",
       "      <th>sex</th>\n",
       "      <th>bmi</th>\n",
       "      <th>bp</th>\n",
       "      <th>s1</th>\n",
       "      <th>s2</th>\n",
       "      <th>s3</th>\n",
       "      <th>s4</th>\n",
       "      <th>s5</th>\n",
       "      <th>s6</th>\n",
       "      <th>target</th>\n",
       "    </tr>\n",
       "  </thead>\n",
       "  <tbody>\n",
       "    <tr>\n",
       "      <th>0</th>\n",
       "      <td>0.012648</td>\n",
       "      <td>-0.044642</td>\n",
       "      <td>-0.025607</td>\n",
       "      <td>-0.040099</td>\n",
       "      <td>-0.030464</td>\n",
       "      <td>-0.045155</td>\n",
       "      <td>0.078093</td>\n",
       "      <td>-0.076395</td>\n",
       "      <td>-0.072128</td>\n",
       "      <td>0.011349</td>\n",
       "      <td>0</td>\n",
       "    </tr>\n",
       "    <tr>\n",
       "      <th>1</th>\n",
       "      <td>-0.060003</td>\n",
       "      <td>0.050680</td>\n",
       "      <td>0.015350</td>\n",
       "      <td>-0.019442</td>\n",
       "      <td>0.036958</td>\n",
       "      <td>0.048164</td>\n",
       "      <td>0.019187</td>\n",
       "      <td>-0.002592</td>\n",
       "      <td>-0.030751</td>\n",
       "      <td>-0.001078</td>\n",
       "      <td>0</td>\n",
       "    </tr>\n",
       "    <tr>\n",
       "      <th>2</th>\n",
       "      <td>-0.027310</td>\n",
       "      <td>0.050680</td>\n",
       "      <td>-0.023451</td>\n",
       "      <td>-0.015999</td>\n",
       "      <td>0.013567</td>\n",
       "      <td>0.012778</td>\n",
       "      <td>0.026550</td>\n",
       "      <td>-0.002592</td>\n",
       "      <td>-0.010904</td>\n",
       "      <td>-0.021788</td>\n",
       "      <td>0</td>\n",
       "    </tr>\n",
       "    <tr>\n",
       "      <th>3</th>\n",
       "      <td>0.067136</td>\n",
       "      <td>0.050680</td>\n",
       "      <td>-0.014828</td>\n",
       "      <td>0.058596</td>\n",
       "      <td>-0.059359</td>\n",
       "      <td>-0.034508</td>\n",
       "      <td>-0.061809</td>\n",
       "      <td>0.012906</td>\n",
       "      <td>-0.005145</td>\n",
       "      <td>0.048628</td>\n",
       "      <td>0</td>\n",
       "    </tr>\n",
       "    <tr>\n",
       "      <th>4</th>\n",
       "      <td>0.070769</td>\n",
       "      <td>0.050680</td>\n",
       "      <td>-0.030996</td>\n",
       "      <td>0.021872</td>\n",
       "      <td>-0.037344</td>\n",
       "      <td>-0.047034</td>\n",
       "      <td>0.033914</td>\n",
       "      <td>-0.039493</td>\n",
       "      <td>-0.014956</td>\n",
       "      <td>-0.001078</td>\n",
       "      <td>0</td>\n",
       "    </tr>\n",
       "    <tr>\n",
       "      <th>...</th>\n",
       "      <td>...</td>\n",
       "      <td>...</td>\n",
       "      <td>...</td>\n",
       "      <td>...</td>\n",
       "      <td>...</td>\n",
       "      <td>...</td>\n",
       "      <td>...</td>\n",
       "      <td>...</td>\n",
       "      <td>...</td>\n",
       "      <td>...</td>\n",
       "      <td>...</td>\n",
       "    </tr>\n",
       "    <tr>\n",
       "      <th>245</th>\n",
       "      <td>0.067136</td>\n",
       "      <td>0.050680</td>\n",
       "      <td>-0.006206</td>\n",
       "      <td>0.063187</td>\n",
       "      <td>-0.042848</td>\n",
       "      <td>-0.095885</td>\n",
       "      <td>0.052322</td>\n",
       "      <td>-0.076395</td>\n",
       "      <td>0.059424</td>\n",
       "      <td>0.052770</td>\n",
       "      <td>1</td>\n",
       "    </tr>\n",
       "    <tr>\n",
       "      <th>246</th>\n",
       "      <td>-0.041840</td>\n",
       "      <td>-0.044642</td>\n",
       "      <td>0.128521</td>\n",
       "      <td>0.063187</td>\n",
       "      <td>-0.033216</td>\n",
       "      <td>-0.032629</td>\n",
       "      <td>0.011824</td>\n",
       "      <td>-0.039493</td>\n",
       "      <td>-0.015998</td>\n",
       "      <td>-0.050783</td>\n",
       "      <td>1</td>\n",
       "    </tr>\n",
       "    <tr>\n",
       "      <th>247</th>\n",
       "      <td>0.009016</td>\n",
       "      <td>-0.044642</td>\n",
       "      <td>-0.012673</td>\n",
       "      <td>0.028758</td>\n",
       "      <td>-0.018080</td>\n",
       "      <td>-0.005072</td>\n",
       "      <td>-0.047082</td>\n",
       "      <td>0.034309</td>\n",
       "      <td>0.023375</td>\n",
       "      <td>-0.005220</td>\n",
       "      <td>1</td>\n",
       "    </tr>\n",
       "    <tr>\n",
       "      <th>248</th>\n",
       "      <td>0.034443</td>\n",
       "      <td>0.050680</td>\n",
       "      <td>-0.009439</td>\n",
       "      <td>0.059744</td>\n",
       "      <td>-0.035968</td>\n",
       "      <td>-0.007577</td>\n",
       "      <td>-0.076536</td>\n",
       "      <td>0.071210</td>\n",
       "      <td>0.011008</td>\n",
       "      <td>-0.021788</td>\n",
       "      <td>1</td>\n",
       "    </tr>\n",
       "    <tr>\n",
       "      <th>249</th>\n",
       "      <td>0.041708</td>\n",
       "      <td>0.050680</td>\n",
       "      <td>0.071397</td>\n",
       "      <td>0.008101</td>\n",
       "      <td>0.038334</td>\n",
       "      <td>0.015909</td>\n",
       "      <td>-0.017629</td>\n",
       "      <td>0.034309</td>\n",
       "      <td>0.073410</td>\n",
       "      <td>0.085907</td>\n",
       "      <td>1</td>\n",
       "    </tr>\n",
       "  </tbody>\n",
       "</table>\n",
       "<p>250 rows × 11 columns</p>\n",
       "</div>"
      ],
      "text/plain": [
       "          age       sex       bmi        bp        s1        s2        s3  \\\n",
       "0    0.012648 -0.044642 -0.025607 -0.040099 -0.030464 -0.045155  0.078093   \n",
       "1   -0.060003  0.050680  0.015350 -0.019442  0.036958  0.048164  0.019187   \n",
       "2   -0.027310  0.050680 -0.023451 -0.015999  0.013567  0.012778  0.026550   \n",
       "3    0.067136  0.050680 -0.014828  0.058596 -0.059359 -0.034508 -0.061809   \n",
       "4    0.070769  0.050680 -0.030996  0.021872 -0.037344 -0.047034  0.033914   \n",
       "..        ...       ...       ...       ...       ...       ...       ...   \n",
       "245  0.067136  0.050680 -0.006206  0.063187 -0.042848 -0.095885  0.052322   \n",
       "246 -0.041840 -0.044642  0.128521  0.063187 -0.033216 -0.032629  0.011824   \n",
       "247  0.009016 -0.044642 -0.012673  0.028758 -0.018080 -0.005072 -0.047082   \n",
       "248  0.034443  0.050680 -0.009439  0.059744 -0.035968 -0.007577 -0.076536   \n",
       "249  0.041708  0.050680  0.071397  0.008101  0.038334  0.015909 -0.017629   \n",
       "\n",
       "           s4        s5        s6  target  \n",
       "0   -0.076395 -0.072128  0.011349       0  \n",
       "1   -0.002592 -0.030751 -0.001078       0  \n",
       "2   -0.002592 -0.010904 -0.021788       0  \n",
       "3    0.012906 -0.005145  0.048628       0  \n",
       "4   -0.039493 -0.014956 -0.001078       0  \n",
       "..        ...       ...       ...     ...  \n",
       "245 -0.076395  0.059424  0.052770       1  \n",
       "246 -0.039493 -0.015998 -0.050783       1  \n",
       "247  0.034309  0.023375 -0.005220       1  \n",
       "248  0.071210  0.011008 -0.021788       1  \n",
       "249  0.034309  0.073410  0.085907       1  \n",
       "\n",
       "[250 rows x 11 columns]"
      ]
     },
     "execution_count": 26,
     "metadata": {},
     "output_type": "execute_result"
    }
   ],
   "source": [
    "from sklearn.tree import DecisionTreeClassifier\n",
    "from sklearn.tree import plot_tree\n",
    "# we will use the MinMaxScaler method to scale our data\n",
    "from sklearn.preprocessing import MinMaxScaler\n",
    "from sklearn.model_selection import train_test_split\n",
    "from sklearn.metrics import accuracy_score\n",
    "\n",
    "# To make sure the data remains consistent in the following steps, \n",
    "# we load a prepared version of diabetes_sample.\n",
    "# Make sure you run this code for the test cases to work\n",
    "diabetes_sample = pd.read_csv('https://drive.google.com/uc?id=17eI7youTlztjFEvidAlDj7f1QnShFJ9H')\n",
    "diabetes_sample "
   ]
  },
  {
   "cell_type": "markdown",
   "metadata": {
    "deletable": false,
    "editable": false,
    "nbgrader": {
     "cell_type": "markdown",
     "checksum": "7facf4a5501ff2375bf483e9494492c9",
     "grade": false,
     "grade_id": "cell-08e1947248aafe00",
     "locked": true,
     "schema_version": 3,
     "solution": false,
     "task": false
    }
   },
   "source": [
    "In the first step, we will split our data into train and test subsets. To get more insight into the function we are using here, take a look at [this tutorial.](https://scikit-learn.org/stable/modules/generated/sklearn.model_selection.train_test_split.html)\n",
    "\n",
    "* `X_train` is the features (independent variables) of the training dataset.\n",
    "* `y_train` is the target (dependent) variable of the training dataset.\n",
    "* `X_test` is the features (independent variables) of the test dataset.\n",
    "* `y_test` is the target (dependent) variable of the test dataset."
   ]
  },
  {
   "cell_type": "code",
   "execution_count": 27,
   "metadata": {
    "deletable": false,
    "editable": false,
    "nbgrader": {
     "cell_type": "code",
     "checksum": "270003a3e7814980a866a47e3ad68529",
     "grade": false,
     "grade_id": "cell-0d6ef4b8b55ebc23",
     "locked": true,
     "schema_version": 3,
     "solution": false,
     "task": false
    }
   },
   "outputs": [],
   "source": [
    "X_train, X_test, y_train, y_test = train_test_split(diabetes_sample.drop(\"target\", axis=1), diabetes_sample.target, test_size = 0.33, random_state = 2022)"
   ]
  },
  {
   "cell_type": "code",
   "execution_count": 28,
   "metadata": {},
   "outputs": [
    {
     "data": {
      "text/html": [
       "<div>\n",
       "<style scoped>\n",
       "    .dataframe tbody tr th:only-of-type {\n",
       "        vertical-align: middle;\n",
       "    }\n",
       "\n",
       "    .dataframe tbody tr th {\n",
       "        vertical-align: top;\n",
       "    }\n",
       "\n",
       "    .dataframe thead th {\n",
       "        text-align: right;\n",
       "    }\n",
       "</style>\n",
       "<table border=\"1\" class=\"dataframe\">\n",
       "  <thead>\n",
       "    <tr style=\"text-align: right;\">\n",
       "      <th></th>\n",
       "      <th>age</th>\n",
       "      <th>sex</th>\n",
       "      <th>bmi</th>\n",
       "      <th>bp</th>\n",
       "      <th>s1</th>\n",
       "      <th>s2</th>\n",
       "      <th>s3</th>\n",
       "      <th>s4</th>\n",
       "      <th>s5</th>\n",
       "      <th>s6</th>\n",
       "    </tr>\n",
       "  </thead>\n",
       "  <tbody>\n",
       "    <tr>\n",
       "      <th>4</th>\n",
       "      <td>0.070769</td>\n",
       "      <td>0.050680</td>\n",
       "      <td>-0.030996</td>\n",
       "      <td>0.021872</td>\n",
       "      <td>-0.037344</td>\n",
       "      <td>-0.047034</td>\n",
       "      <td>0.033914</td>\n",
       "      <td>-0.039493</td>\n",
       "      <td>-0.014956</td>\n",
       "      <td>-0.001078</td>\n",
       "    </tr>\n",
       "    <tr>\n",
       "      <th>120</th>\n",
       "      <td>0.009016</td>\n",
       "      <td>0.050680</td>\n",
       "      <td>-0.005128</td>\n",
       "      <td>-0.064199</td>\n",
       "      <td>0.069981</td>\n",
       "      <td>0.083863</td>\n",
       "      <td>-0.039719</td>\n",
       "      <td>0.071210</td>\n",
       "      <td>0.039540</td>\n",
       "      <td>0.019633</td>\n",
       "    </tr>\n",
       "    <tr>\n",
       "      <th>31</th>\n",
       "      <td>-0.005515</td>\n",
       "      <td>0.050680</td>\n",
       "      <td>-0.011595</td>\n",
       "      <td>0.011544</td>\n",
       "      <td>-0.022208</td>\n",
       "      <td>-0.015406</td>\n",
       "      <td>-0.021311</td>\n",
       "      <td>-0.002592</td>\n",
       "      <td>0.011008</td>\n",
       "      <td>0.069338</td>\n",
       "    </tr>\n",
       "    <tr>\n",
       "      <th>111</th>\n",
       "      <td>-0.027310</td>\n",
       "      <td>0.050680</td>\n",
       "      <td>-0.015906</td>\n",
       "      <td>-0.029771</td>\n",
       "      <td>0.003935</td>\n",
       "      <td>-0.000688</td>\n",
       "      <td>0.041277</td>\n",
       "      <td>-0.039493</td>\n",
       "      <td>-0.023645</td>\n",
       "      <td>0.011349</td>\n",
       "    </tr>\n",
       "    <tr>\n",
       "      <th>117</th>\n",
       "      <td>-0.027310</td>\n",
       "      <td>-0.044642</td>\n",
       "      <td>-0.018062</td>\n",
       "      <td>-0.040099</td>\n",
       "      <td>-0.002945</td>\n",
       "      <td>-0.011335</td>\n",
       "      <td>0.037595</td>\n",
       "      <td>-0.039493</td>\n",
       "      <td>-0.008944</td>\n",
       "      <td>-0.054925</td>\n",
       "    </tr>\n",
       "    <tr>\n",
       "      <th>...</th>\n",
       "      <td>...</td>\n",
       "      <td>...</td>\n",
       "      <td>...</td>\n",
       "      <td>...</td>\n",
       "      <td>...</td>\n",
       "      <td>...</td>\n",
       "      <td>...</td>\n",
       "      <td>...</td>\n",
       "      <td>...</td>\n",
       "      <td>...</td>\n",
       "    </tr>\n",
       "    <tr>\n",
       "      <th>177</th>\n",
       "      <td>-0.089063</td>\n",
       "      <td>-0.044642</td>\n",
       "      <td>-0.011595</td>\n",
       "      <td>-0.036656</td>\n",
       "      <td>0.012191</td>\n",
       "      <td>0.024991</td>\n",
       "      <td>-0.036038</td>\n",
       "      <td>0.034309</td>\n",
       "      <td>0.022692</td>\n",
       "      <td>-0.009362</td>\n",
       "    </tr>\n",
       "    <tr>\n",
       "      <th>112</th>\n",
       "      <td>-0.041840</td>\n",
       "      <td>-0.044642</td>\n",
       "      <td>0.041218</td>\n",
       "      <td>-0.026328</td>\n",
       "      <td>-0.031840</td>\n",
       "      <td>-0.030437</td>\n",
       "      <td>-0.036038</td>\n",
       "      <td>0.002943</td>\n",
       "      <td>0.033657</td>\n",
       "      <td>-0.017646</td>\n",
       "    </tr>\n",
       "    <tr>\n",
       "      <th>173</th>\n",
       "      <td>0.059871</td>\n",
       "      <td>0.050680</td>\n",
       "      <td>0.022895</td>\n",
       "      <td>0.049415</td>\n",
       "      <td>0.016318</td>\n",
       "      <td>0.011838</td>\n",
       "      <td>-0.013948</td>\n",
       "      <td>-0.002592</td>\n",
       "      <td>0.039540</td>\n",
       "      <td>0.019633</td>\n",
       "    </tr>\n",
       "    <tr>\n",
       "      <th>220</th>\n",
       "      <td>0.096197</td>\n",
       "      <td>-0.044642</td>\n",
       "      <td>0.051996</td>\n",
       "      <td>0.079254</td>\n",
       "      <td>0.054845</td>\n",
       "      <td>0.036577</td>\n",
       "      <td>-0.076536</td>\n",
       "      <td>0.141322</td>\n",
       "      <td>0.098646</td>\n",
       "      <td>0.061054</td>\n",
       "    </tr>\n",
       "    <tr>\n",
       "      <th>125</th>\n",
       "      <td>-0.067268</td>\n",
       "      <td>0.050680</td>\n",
       "      <td>-0.012673</td>\n",
       "      <td>-0.040099</td>\n",
       "      <td>-0.015328</td>\n",
       "      <td>0.004636</td>\n",
       "      <td>-0.058127</td>\n",
       "      <td>0.034309</td>\n",
       "      <td>0.019199</td>\n",
       "      <td>-0.034215</td>\n",
       "    </tr>\n",
       "  </tbody>\n",
       "</table>\n",
       "<p>167 rows × 10 columns</p>\n",
       "</div>"
      ],
      "text/plain": [
       "          age       sex       bmi        bp        s1        s2        s3  \\\n",
       "4    0.070769  0.050680 -0.030996  0.021872 -0.037344 -0.047034  0.033914   \n",
       "120  0.009016  0.050680 -0.005128 -0.064199  0.069981  0.083863 -0.039719   \n",
       "31  -0.005515  0.050680 -0.011595  0.011544 -0.022208 -0.015406 -0.021311   \n",
       "111 -0.027310  0.050680 -0.015906 -0.029771  0.003935 -0.000688  0.041277   \n",
       "117 -0.027310 -0.044642 -0.018062 -0.040099 -0.002945 -0.011335  0.037595   \n",
       "..        ...       ...       ...       ...       ...       ...       ...   \n",
       "177 -0.089063 -0.044642 -0.011595 -0.036656  0.012191  0.024991 -0.036038   \n",
       "112 -0.041840 -0.044642  0.041218 -0.026328 -0.031840 -0.030437 -0.036038   \n",
       "173  0.059871  0.050680  0.022895  0.049415  0.016318  0.011838 -0.013948   \n",
       "220  0.096197 -0.044642  0.051996  0.079254  0.054845  0.036577 -0.076536   \n",
       "125 -0.067268  0.050680 -0.012673 -0.040099 -0.015328  0.004636 -0.058127   \n",
       "\n",
       "           s4        s5        s6  \n",
       "4   -0.039493 -0.014956 -0.001078  \n",
       "120  0.071210  0.039540  0.019633  \n",
       "31  -0.002592  0.011008  0.069338  \n",
       "111 -0.039493 -0.023645  0.011349  \n",
       "117 -0.039493 -0.008944 -0.054925  \n",
       "..        ...       ...       ...  \n",
       "177  0.034309  0.022692 -0.009362  \n",
       "112  0.002943  0.033657 -0.017646  \n",
       "173 -0.002592  0.039540  0.019633  \n",
       "220  0.141322  0.098646  0.061054  \n",
       "125  0.034309  0.019199 -0.034215  \n",
       "\n",
       "[167 rows x 10 columns]"
      ]
     },
     "execution_count": 28,
     "metadata": {},
     "output_type": "execute_result"
    }
   ],
   "source": [
    "# Inspect X_train\n",
    "X_train"
   ]
  },
  {
   "cell_type": "code",
   "execution_count": 29,
   "metadata": {},
   "outputs": [
    {
     "data": {
      "text/plain": [
       "4      0\n",
       "120    0\n",
       "31     0\n",
       "111    0\n",
       "117    0\n",
       "      ..\n",
       "177    1\n",
       "112    0\n",
       "173    1\n",
       "220    1\n",
       "125    1\n",
       "Name: target, Length: 167, dtype: int64"
      ]
     },
     "execution_count": 29,
     "metadata": {},
     "output_type": "execute_result"
    }
   ],
   "source": [
    "# Inspect y_train\n",
    "y_train"
   ]
  },
  {
   "cell_type": "markdown",
   "metadata": {
    "deletable": false,
    "editable": false,
    "nbgrader": {
     "cell_type": "markdown",
     "checksum": "e29c2ccf29f3f373cabf42ce9791b807",
     "grade": false,
     "grade_id": "cell-3ca4dd1d21003d81",
     "locked": true,
     "schema_version": 3,
     "solution": false,
     "task": false
    }
   },
   "source": [
    "Now implement a decision tree function below to do the following:\n",
    "\n",
    "1. Train a decision tree model with the **training datasets** created above (using **gini index** as the criteria and **random_state = 1234** in order to keep consistency).\n",
    "2. Use the model trained from step 1 to make predictions on the **test data** created above\n",
    "\n",
    "**Store the predictions in the variable `dtree_predictions`**. "
   ]
  },
  {
   "cell_type": "code",
   "execution_count": 34,
   "metadata": {
    "deletable": false,
    "nbgrader": {
     "cell_type": "code",
     "checksum": "d8a6902cb62f93ca7f000f5cc44e8d82",
     "grade": false,
     "grade_id": "dtree",
     "locked": false,
     "schema_version": 3,
     "solution": true,
     "task": false
    }
   },
   "outputs": [],
   "source": [
    "from sklearn import tree\n",
    "\n",
    "dtree_model = tree.DecisionTreeClassifier(criterion = 'gini', random_state = 1234)\n",
    "dtree_model = dtree_model.fit(X_train, y_train)\n",
    "dtree_predictions = dtree_model.predict(X_test)\n",
    "\n",
    "# Code above as a function\n",
    "def dtree(X_train, y_train, X_test, criterion_string, random_state_num):\n",
    "    dtree_model = tree.DecisionTreeClassifier(criterion = criterion_string, random_state = random_state_num)\n",
    "    dtree_model = dtree_model.fit(X_train, y_train)\n",
    "    dtree_predictions = dtree_model.predict(X_test)\n",
    "    return dtree_predictions"
   ]
  },
  {
   "cell_type": "code",
   "execution_count": 35,
   "metadata": {},
   "outputs": [
    {
     "data": {
      "text/plain": [
       "array([1, 1, 0, 1, 0, 1, 0, 0, 1, 0, 1, 1, 1, 0, 1, 0, 0, 0, 1, 0, 1, 0,\n",
       "       1, 0, 0, 0, 1, 1, 1, 1, 0, 0, 0, 1, 0, 1, 0, 1, 0, 1, 1, 0, 0, 1,\n",
       "       0, 0, 1, 1, 1, 0, 0, 1, 1, 0, 1, 0, 0, 1, 1, 0, 0, 0, 1, 1, 0, 0,\n",
       "       1, 1, 0, 0, 0, 1, 1, 1, 1, 0, 0, 0, 1, 0, 1, 1, 1])"
      ]
     },
     "execution_count": 35,
     "metadata": {},
     "output_type": "execute_result"
    }
   ],
   "source": [
    "# Test your result!\n",
    "dtree_predictions"
   ]
  },
  {
   "cell_type": "markdown",
   "metadata": {
    "deletable": false,
    "editable": false,
    "nbgrader": {
     "cell_type": "markdown",
     "checksum": "cd381b9d96e4239dbe74dfeb252b234f",
     "grade": false,
     "grade_id": "cell-c87ab101a0fff1b2",
     "locked": true,
     "schema_version": 3,
     "solution": false,
     "task": false
    }
   },
   "source": [
    "In this step, you will look into the accuracy score of the decision tree predictions. In other words, you would compare the predictions of the decision tree with the actual test labels you have in the testing set. \n",
    "\n",
    "For more documentation, take a look at [this article.](https://scikit-learn.org/stable/modules/generated/sklearn.metrics.accuracy_score.html)"
   ]
  },
  {
   "cell_type": "code",
   "execution_count": 36,
   "metadata": {},
   "outputs": [
    {
     "data": {
      "text/plain": [
       "0.6746987951807228"
      ]
     },
     "execution_count": 36,
     "metadata": {},
     "output_type": "execute_result"
    }
   ],
   "source": [
    "accuracy_score(dtree_predictions, y_test)"
   ]
  },
  {
   "cell_type": "code",
   "execution_count": 37,
   "metadata": {
    "deletable": false,
    "editable": false,
    "nbgrader": {
     "cell_type": "code",
     "checksum": "46353e48dfa9d6416960101f27447653",
     "grade": true,
     "grade_id": "dtree-public",
     "locked": true,
     "points": 2,
     "schema_version": 3,
     "solution": false,
     "task": false
    }
   },
   "outputs": [],
   "source": [
    "# Public tests for dtree\n",
    "np.testing.assert_almost_equal(\n",
    "    accuracy_score(dtree(X_train, y_train, X_test, 'gini', 1234),\n",
    "                   y_test),\n",
    "    0.6746987951807228\n",
    ")"
   ]
  },
  {
   "cell_type": "markdown",
   "metadata": {
    "deletable": false,
    "editable": false,
    "nbgrader": {
     "cell_type": "markdown",
     "checksum": "642ba3291ce12f6f8b51824fea15efc6",
     "grade": false,
     "grade_id": "cell-f2cfa4389baa6ce4",
     "locked": true,
     "schema_version": 3,
     "solution": false,
     "task": false
    }
   },
   "source": [
    "## 4. Feature Selection\n",
    "\n",
    "In this problem, you will see if feature selection can improve the accuracy of your classifier!\n",
    "\n",
    "We do feature selection to remove unnecessary features, and also to see which features are most useful for prediction. You could imagine predicting diabetes progression would be easier if we know which features are relevant for doing so.\n",
    "\n",
    "In the function below, you will implement a feature selection aglorithm, which selects the $k$ best features according to some measure. In this case we'll use the  [ANOVA F-value](https://www.statisticshowto.com/probability-and-statistics/f-statistic-value-test/), which is a measure of the linear relationship between each feature and the target variable (just like correlation).\n",
    "\n",
    "**Note**: Remember, we can't peek at the test data, even during feature selection (if we knew what features were useful on the test dataset, that would be unrealistic). Therefore, it is important that you fit the the feature selction function **ONLY** on the *training* set. One the feature selector is fit (i.e. figures out which features to keep), you can use it to transform both training and testing dataset (`X_train` and `X_test`), i.e. remove the unneeded features.\n",
    "\n",
    "**HINT**: Feature selection is performed using [SelectKBest function](https://scikit-learn.org/stable/modules/generated/sklearn.feature_selection.SelectKBest.html) with [ANOVA F-value](https://scikit-learn.org/stable/modules/generated/sklearn.feature_selection.f_classif.html#sklearn.feature_selection.f_classif) function.\n",
    "\n",
    "**HINT**: In python you can return multiple values, separated by commas, e.g. `return 1, 2, 3`."
   ]
  },
  {
   "cell_type": "code",
   "execution_count": 38,
   "metadata": {
    "deletable": false,
    "nbgrader": {
     "cell_type": "code",
     "checksum": "1f698bd992249a72ecadaaa925c18bb7",
     "grade": false,
     "grade_id": "feature_selection",
     "locked": false,
     "schema_version": 3,
     "solution": true,
     "task": false
    }
   },
   "outputs": [],
   "source": [
    "from sklearn.feature_selection import SelectKBest\n",
    "from sklearn.feature_selection import f_classif\n",
    "\n",
    "def feature_selection(X_train, y_train, X_test, k = 7):\n",
    "    \"\"\"\n",
    "     Input:\n",
    "          x_train: A numpy array of shape (n_training_rows, n_attributes) where n_training_rows refers to \n",
    "          the number of rows in your training dataset and n_attributes refers to the number of attributes. \n",
    "          y_train: A numpy array of shape (n_training_rows, ) containing the class labels for each row in your \n",
    "          training dataset.\n",
    "          x_test: A numpy array of shape (n_testing_rows, n_attributes) where n_testing_rows refers to the number \n",
    "          of rows in your testing dataset and n_attributes refers to the number of attributes. \n",
    "          k: number of features to select.\n",
    "    Output:\n",
    "          fs: The fit feature selector\n",
    "          X_train_selected: The transformed training set, with features selected. \n",
    "                            The result should be a numpy array of shape (n_training_rows, k).\n",
    "          X_test_selected: The transformed testing set, with features selected.\n",
    "    \n",
    "    Allowed Libraries: sklearn\n",
    "    \"\"\"\n",
    "    feature_select = SelectKBest(score_func = f_classif, k = k)\n",
    "    X_train_selected = feature_select.fit_transform(X_train, y_train)\n",
    "    X_test_selected = feature_select.transform(X_test)\n",
    "\n",
    "    return feature_select, X_train_selected, X_test_selected"
   ]
  },
  {
   "cell_type": "code",
   "execution_count": 39,
   "metadata": {},
   "outputs": [
    {
     "name": "stdout",
     "output_type": "stream",
     "text": [
      "[10.24406375  0.32412959 79.97760873 52.22714048  7.98568598  4.59688789\n",
      " 22.28757342 28.12717132 53.05316779 24.09618915]\n",
      "(167, 7)\n",
      "(83, 7)\n"
     ]
    }
   ],
   "source": [
    "# Test your function\n",
    "\n",
    "fs,X_train_selected,X_test_selected = feature_selection(X_train, y_train, X_test, 7)\n",
    "\n",
    "# Check the score for each individual feature (i.e. how important is each feature)\n",
    "print(fs.scores_)\n",
    "\n",
    "# Check whether acheived seven best attributes for both training and testing set\n",
    "print(X_train_selected.shape)\n",
    "print(X_test_selected.shape)"
   ]
  },
  {
   "cell_type": "code",
   "execution_count": 40,
   "metadata": {},
   "outputs": [
    {
     "name": "stdout",
     "output_type": "stream",
     "text": [
      "Original features are: \n",
      "['age' 'sex' 'bmi' 'bp' 's1' 's2' 's3' 's4' 's5' 's6']\n",
      "Selected best feautures are: \n",
      "['age' 'bmi' 'bp' 's3' 's4' 's5' 's6']\n"
     ]
    }
   ],
   "source": [
    "# Let's get the name of the selected features\n",
    "\n",
    "print(\"Original features are: \\n\" + str(X_train.columns.values))\n",
    "\n",
    "print(\"Selected best feautures are: \\n\" + str(X_train.columns.values[fs.get_support()]))"
   ]
  },
  {
   "cell_type": "code",
   "execution_count": 41,
   "metadata": {
    "deletable": false,
    "editable": false,
    "nbgrader": {
     "cell_type": "code",
     "checksum": "a1ca39353c354bcfe03c4ced41e8cf23",
     "grade": true,
     "grade_id": "feature_selection_public",
     "locked": true,
     "points": 4,
     "schema_version": 3,
     "solution": false,
     "task": false
    }
   },
   "outputs": [],
   "source": [
    "# Public tests for feature_selection\n",
    "fs, selected_train, selected_test = feature_selection(X_train, y_train, X_test, 5)\n",
    "assert (selected_train.shape[1] == 5)\n",
    "assert (selected_test.shape[1] == 5)\n",
    "assert ('s1' not in X_train.columns.values[fs.get_support()])\n",
    "assert ('bmi' in X_train.columns.values[fs.get_support()])"
   ]
  },
  {
   "cell_type": "markdown",
   "metadata": {
    "deletable": false,
    "editable": false,
    "nbgrader": {
     "cell_type": "markdown",
     "checksum": "0869fa0581318bc6da7184a12176be61",
     "grade": false,
     "grade_id": "cell-980493e5987405de2",
     "locked": true,
     "schema_version": 3,
     "solution": false,
     "task": false
    }
   },
   "source": [
    "## 5. Feature Transformation"
   ]
  },
  {
   "cell_type": "markdown",
   "metadata": {},
   "source": [
    "Now we will combine feature selection with normalization into a *pipeline*, and test whether it improves our mode.\n",
    "\n",
    "In some cases, you would want to perform certain feature transformations such as z-score normalization.\n",
    "\n",
    "Take a look at the [documentation](https://scikit-learn.org/stable/modules/generated/sklearn.preprocessing.StandardScaler.html) to get a clear understanding of all function argumetns for z-score normalization.\n",
    "\n",
    "Given below is a simple example for you to learn how to use z-score normalization and combine it with other data processing procedures. "
   ]
  },
  {
   "cell_type": "code",
   "execution_count": 42,
   "metadata": {},
   "outputs": [],
   "source": [
    "# let's use a toy dataset to demonstrate z-score normalization. \n",
    "# We are using the iris dataset from sklearn.datasets as our toy dataset.\n",
    "\n",
    "# First load the data\n",
    "toy_dataset = datasets.load_iris(as_frame=True).data\n",
    "\n",
    "# To emulate an actual model learning process, we split the data set into trainining and testing set\n",
    "toy_train, toy_test = train_test_split(toy_dataset, test_size = 0.33)\n",
    "\n",
    "# Here we use StandardScaler class from sklearn to normalize\n",
    "toy_norm_train = StandardScaler().fit(toy_train).transform(toy_train)\n",
    "\n",
    "# Notice here we use the training set to fit the StandardScaler, i.e. compute the mean and standard deviation,\n",
    "# and use it to normalize testing set, just like with feature selection, above.\n",
    "# This is because in real-world deployment case, you very likely won't know the parameter of unseen data distribution\n",
    "# (testing set). So a normal approach is to use distribution parameters estimated from training set to transform\n",
    "# unseen data.\n",
    "toy_norm_test = StandardScaler().fit(toy_train).transform(toy_test)\n"
   ]
  },
  {
   "cell_type": "code",
   "execution_count": 43,
   "metadata": {},
   "outputs": [
    {
     "data": {
      "text/plain": [
       "sepal length (cm)    5.833\n",
       "sepal width (cm)     3.095\n",
       "petal length (cm)    3.675\n",
       "petal width (cm)     1.156\n",
       "dtype: float64"
      ]
     },
     "execution_count": 43,
     "metadata": {},
     "output_type": "execute_result"
    }
   ],
   "source": [
    "# Note the means are all different\n",
    "toy_train.mean()"
   ]
  },
  {
   "cell_type": "code",
   "execution_count": 44,
   "metadata": {},
   "outputs": [
    {
     "data": {
      "text/plain": [
       "sepal length (cm)    0.815761\n",
       "sepal width (cm)     0.465881\n",
       "petal length (cm)    1.754669\n",
       "petal width (cm)     0.753888\n",
       "dtype: float64"
      ]
     },
     "execution_count": 44,
     "metadata": {},
     "output_type": "execute_result"
    }
   ],
   "source": [
    "# And the standard deviations vary\n",
    "toy_train.std()"
   ]
  },
  {
   "cell_type": "code",
   "execution_count": 45,
   "metadata": {},
   "outputs": [
    {
     "name": "stdout",
     "output_type": "stream",
     "text": [
      "-2.41140440948584e-15\n",
      "-4.3270942384765476e-16\n",
      "3.7747582837255325e-17\n",
      "-1.7763568394002506e-16\n"
     ]
    }
   ],
   "source": [
    "# Now column means are all near 0\n",
    "print(toy_norm_train[:,0].mean())\n",
    "print(toy_norm_train[:,1].mean())\n",
    "print(toy_norm_train[:,2].mean())\n",
    "print(toy_norm_train[:,3].mean())"
   ]
  },
  {
   "cell_type": "code",
   "execution_count": 46,
   "metadata": {},
   "outputs": [
    {
     "name": "stdout",
     "output_type": "stream",
     "text": [
      "0.9999999999999999\n",
      "0.9999999999999999\n",
      "0.9999999999999998\n",
      "1.0\n"
     ]
    }
   ],
   "source": [
    "# Now and standard deviations are near 1\n",
    "print(toy_norm_train[:,0].std())\n",
    "print(toy_norm_train[:,1].std())\n",
    "print(toy_norm_train[:,2].std())\n",
    "print(toy_norm_train[:,3].std())"
   ]
  },
  {
   "cell_type": "markdown",
   "metadata": {
    "deletable": false,
    "editable": false,
    "nbgrader": {
     "cell_type": "markdown",
     "checksum": "17c524bdf05a002932206a9178e8f652",
     "grade": false,
     "grade_id": "cell-2d0dab0264a912db",
     "locked": true,
     "schema_version": 3,
     "solution": false,
     "task": false
    }
   },
   "source": [
    "You will build a pipeline that perform both feature selection (using your earlier function) and z-score normalization."
   ]
  },
  {
   "cell_type": "code",
   "execution_count": 47,
   "metadata": {
    "deletable": false,
    "nbgrader": {
     "cell_type": "code",
     "checksum": "450a1f2252ae9c3b3dd3510598685e10",
     "grade": false,
     "grade_id": "normalize_feature_select",
     "locked": false,
     "schema_version": 3,
     "solution": true,
     "task": false
    }
   },
   "outputs": [],
   "source": [
    "from sklearn.preprocessing import StandardScaler\n",
    "from sklearn.pipeline import Pipeline\n",
    "def normalize_feature_select(X_train, y_train, X_test, k = 7):\n",
    "    \"\"\"\n",
    "    You will build a pipeline that perform the following steps:\n",
    "        1. z-score normalize the x_train and x_target using x_train.\n",
    "        2. perform feature selection.\n",
    "    \n",
    "    Your inputs and outputs are as shown below:\n",
    "    \n",
    "    Input:\n",
    "          x_train: A numpy array of shape (n_training_rows, n_attributes) where n_training_rows refers to \n",
    "              the number of rows in your training dataset and n_attributes refers to the number of attributes. \n",
    "          y_train: A numpy array of shape (n_training_rows, ) containing the class labels for each row in your \n",
    "              training dataset.\n",
    "          x_test: A numpy array of shape (n_test_rows, n_attributes) where n_test_rows refers to the number \n",
    "              of rows in your target dataset and n_attributes refers to the number of attributes. \n",
    "          k: number of features to select.\n",
    "    Output:\n",
    "          x_train_selected: A numpy array of shape (n_train_rows, n_selected_attributes) containing \n",
    "              z-score normalized data from x_train with selected features only. \n",
    "              n_selected_attributes is the number of selected features.\n",
    "          x_test_selected: A numpy array of shape (n_test_rows, n_selected_attributes) containing \n",
    "              z-score normalized data from x_test with selected features only. \n",
    "              n_selected_attributes is the number of selected features.\n",
    "          \n",
    "    Allowed Libraries: sklearn\n",
    "    \"\"\"\n",
    "    \n",
    "    std_scaler = StandardScaler()\n",
    "    x_train_selected = std_scaler.fit_transform(X_train)\n",
    "    x_test_selected = std_scaler.transform(X_test)\n",
    "    \n",
    "    feature_select = SelectKBest(f_classif, k = k)\n",
    "    feature_select.fit(x_train_selected, y_train)\n",
    "    \n",
    "    x_train_selected = feature_select.transform(x_train_selected)\n",
    "    x_test_selected = feature_select.transform(x_test_selected)\n",
    "    \n",
    "    return x_train_selected, x_test_selected\n"
   ]
  },
  {
   "cell_type": "code",
   "execution_count": 48,
   "metadata": {},
   "outputs": [
    {
     "name": "stdout",
     "output_type": "stream",
     "text": [
      "0.0\n",
      "1.0\n"
     ]
    }
   ],
   "source": [
    "#Test your code!\n",
    "X_norm_selected_train, X_norm_selected_test = normalize_feature_select(X_train, y_train, X_test, k = 7)\n",
    "\n",
    "# Mean of attribute 0 should be 0\n",
    "print(X_norm_selected_train[:,0].mean())\n",
    "# Standard deviation of attriute 0 should be 1\n",
    "print(X_norm_selected_train[:,0].std())"
   ]
  },
  {
   "cell_type": "code",
   "execution_count": 49,
   "metadata": {
    "deletable": false,
    "editable": false,
    "nbgrader": {
     "cell_type": "code",
     "checksum": "587e14ae1aa5717b7494a8da54f19861",
     "grade": true,
     "grade_id": "normalize_feature_select-public",
     "locked": true,
     "points": 3,
     "schema_version": 3,
     "solution": false,
     "task": false
    }
   },
   "outputs": [],
   "source": [
    "# Public tests for feature_selection\n",
    "selected_train, selected_test = normalize_feature_select(X_train, y_train, X_test, 5)\n",
    "assert (selected_train.shape[1] == 5)\n",
    "assert (selected_test.shape[1] == 5)\n",
    "for i in range(0, 5):\n",
    "    np.testing.assert_almost_equal(X_norm_selected_train[:,i].mean(), 0)\n",
    "    np.testing.assert_almost_equal(X_norm_selected_train[:,i].std(), 1)\n",
    "    # test set shouldn't be perfectly centered or scaled\n",
    "    assert X_norm_selected_test[:,i].mean() != 0\n",
    "    assert X_norm_selected_test[:,i].std() != 1"
   ]
  },
  {
   "cell_type": "markdown",
   "metadata": {
    "deletable": false,
    "editable": false,
    "nbgrader": {
     "cell_type": "markdown",
     "checksum": "3b7bcd905db6a1751752b2d0e0f90e0e",
     "grade": false,
     "grade_id": "cell-b77e84f5052da690",
     "locked": true,
     "schema_version": 3,
     "solution": false,
     "task": false
    }
   },
   "source": [
    "Now is the moment of truth - did the decision tree improve our classifier? Let's compare."
   ]
  },
  {
   "cell_type": "code",
   "execution_count": 50,
   "metadata": {},
   "outputs": [
    {
     "data": {
      "text/plain": [
       "0.6746987951807228"
      ]
     },
     "execution_count": 50,
     "metadata": {},
     "output_type": "execute_result"
    }
   ],
   "source": [
    "# First, let's recreate the original decision tree.\n",
    "dtree_predictions = dtree(X_train, y_train, X_test, 'gini', 1234) # Random see for consistency\n",
    "accuracy_score(dtree_predictions, y_test)"
   ]
  },
  {
   "cell_type": "code",
   "execution_count": 51,
   "metadata": {},
   "outputs": [
    {
     "data": {
      "text/plain": [
       "0.6867469879518072"
      ]
     },
     "execution_count": 51,
     "metadata": {},
     "output_type": "execute_result"
    }
   ],
   "source": [
    "# Next the normalized, feature selected tree\n",
    "dtree_norm_selected_predictions = dtree(X_norm_selected_train, y_train, X_norm_selected_test, 'gini', 1234)\n",
    "accuracy_score(dtree_norm_selected_predictions, y_test)"
   ]
  },
  {
   "cell_type": "markdown",
   "metadata": {
    "deletable": false,
    "editable": false,
    "nbgrader": {
     "cell_type": "markdown",
     "checksum": "defca156dc0f0b96a243a8f8a608268d",
     "grade": false,
     "grade_id": "cell-0d8760508efb3d84",
     "locked": true,
     "schema_version": 3,
     "solution": false,
     "task": false
    }
   },
   "source": [
    "Which features did better - the originals or the normalized, feature selected ones? How much of a difference did preprocessing make? Based on what you know about decision trees, z-score normalization and feature selection, why do you think this was the case? Answer below in 2-3 sentences."
   ]
  },
  {
   "cell_type": "markdown",
   "metadata": {
    "deletable": false,
    "nbgrader": {
     "cell_type": "markdown",
     "checksum": "a8512de201c34ce7f9c7fed8b2072a3c",
     "grade": true,
     "grade_id": "comparing-trees",
     "locked": false,
     "points": 3,
     "schema_version": 3,
     "solution": true,
     "task": false
    }
   },
   "source": [
    "The normalized, selected features performed marginally better than the original features. With a difference which was around 1.2% diffent, this could be due to the fact that the dataset may not have had much noise to remove during preprocessing, resulting in a small increase in performance. There was no significant difference since decision trees always optimizes based on information gain, which naturally acts like feature selection. "
   ]
  },
  {
   "cell_type": "markdown",
   "metadata": {
    "deletable": false,
    "editable": false,
    "nbgrader": {
     "cell_type": "markdown",
     "checksum": "9bc5618defdbf59dc589a0b1029a39fe",
     "grade": false,
     "grade_id": "cell-980493e5987405de23",
     "locked": true,
     "schema_version": 3,
     "solution": false,
     "task": false
    }
   },
   "source": [
    "## 6. PCA"
   ]
  },
  {
   "cell_type": "markdown",
   "metadata": {
    "deletable": false,
    "editable": false,
    "nbgrader": {
     "cell_type": "markdown",
     "checksum": "df5ceaa80ff357795e3b6cc7e957e1e4",
     "grade": false,
     "grade_id": "cell-c1694bc4582d3eed",
     "locked": true,
     "schema_version": 3,
     "solution": false,
     "task": false
    }
   },
   "source": [
    "## Examples\n",
    "\n",
    "You can perform PCA in python using the scikit-learn library. Take a look at the [documentation](https://scikit-learn.org/stable/modules/generated/sklearn.decomposition.PCA.html) to get a clear understanding of all function arguments.\n",
    "\n",
    "Given below is a simple toy example for you to learn how to use PCA. "
   ]
  },
  {
   "cell_type": "code",
   "execution_count": 52,
   "metadata": {
    "deletable": false,
    "editable": false,
    "nbgrader": {
     "cell_type": "code",
     "checksum": "a57d6eb82bcfab242cace89ea19e2f3f",
     "grade": false,
     "grade_id": "cell-def830bb53f756ad",
     "locked": true,
     "schema_version": 3,
     "solution": false,
     "task": false
    }
   },
   "outputs": [],
   "source": [
    "# let's use a toy dataset to demonstrate PCA. We are using the iris dataset from sklearn.datasets as our toy dataset.\n",
    "# We will apply PCA on it and extract the first two principal components. \n",
    "# While there are ways to directly extract the principal components using the sklearn methods, for the purpose \n",
    "# of this exercise, we will first extract the eigen vectors and then calculate the principal components from these eigen vectors. \n",
    "\n",
    "# first, load and z-score normalize the data\n",
    "toy_dataset_sk = datasets.load_iris(as_frame=True)\n",
    "toy_dataset = pd.DataFrame(StandardScaler().fit_transform(toy_dataset_sk.data), columns = toy_dataset_sk.feature_names)\n",
    "\n",
    "# Display the dataset for your reference\n",
    "# note that you can use the display() method to display your pandas dataframe in Jupyter\n",
    "#display(toy_dataset)\n",
    "\n",
    "# apply PCA on the toy dataset and extract the eigen vectors of the first two principal components\n",
    "toy_pca = PCA(n_components = 2).fit(toy_dataset)\n",
    "toy_eigen_vectors = toy_pca.components_\n",
    "\n",
    "# now extract the first two principal components\n",
    "# Recall from class material how to do this.  \n",
    "# Take a look at matrix multiplication using numpy here: \n",
    "# https://numpy.org/doc/stable/reference/generated/numpy.matmul.html\n",
    "toy_principal_components = np.matmul(toy_dataset.values , toy_eigen_vectors.T)\n"
   ]
  },
  {
   "cell_type": "code",
   "execution_count": 53,
   "metadata": {},
   "outputs": [
    {
     "name": "stdout",
     "output_type": "stream",
     "text": [
      "(4, 2)\n",
      "(150, 4)\n"
     ]
    }
   ],
   "source": [
    "# Explore the outputs of the eigen vectors and principal components to gain a better understanding\n",
    "# Explore other outputs...\n",
    "print(toy_eigen_vectors.T.shape)\n",
    "print(toy_dataset.values.shape)"
   ]
  },
  {
   "cell_type": "markdown",
   "metadata": {
    "deletable": false,
    "editable": false,
    "nbgrader": {
     "cell_type": "markdown",
     "checksum": "52879ae356dbd29e5697b0513a146484",
     "grade": false,
     "grade_id": "cell-5ba4a2707304846b",
     "locked": true,
     "schema_version": 3,
     "solution": false,
     "task": false
    }
   },
   "source": [
    "### 6.1: Extracting Eigen Vectors"
   ]
  },
  {
   "cell_type": "code",
   "execution_count": 54,
   "metadata": {
    "deletable": false,
    "nbgrader": {
     "cell_type": "code",
     "checksum": "6b047ecacb94b679f0ebccf219fd578a",
     "grade": false,
     "grade_id": "principal_component_analysis",
     "locked": false,
     "schema_version": 3,
     "solution": true,
     "task": false
    }
   },
   "outputs": [],
   "source": [
    "# Problem 1\n",
    "def principal_component_analysis(data, n_components):\n",
    "    \"\"\"\n",
    "    Input: \n",
    "          data: Data frame with M numeric attributes.\n",
    "          n_components: the number of principal components to calculate \n",
    "                        (e.g. 2 for two principal components)\n",
    "    Output:\n",
    "          a numpy array of floating point numbers of shape (n_components, M), \n",
    "          containing the first n_components eigen vectors.\n",
    "            \n",
    "    \"\"\"\n",
    "    pca = PCA(n_components = n_components)\n",
    "    data_transformed = pca.fit_transform(data)\n",
    "    eigen_vectors = pca.components_\n",
    "    return eigen_vectors"
   ]
  },
  {
   "cell_type": "code",
   "execution_count": 55,
   "metadata": {},
   "outputs": [
    {
     "data": {
      "text/plain": [
       "(2, 10)"
      ]
     },
     "execution_count": 55,
     "metadata": {},
     "output_type": "execute_result"
    }
   ],
   "source": [
    "# Test your function!\n",
    "# note that you can convert your pandas data frame into a numpy matrix by using the dataframe.values property\n",
    "eigen_vectors = principal_component_analysis(X_train, 2)\n",
    "# Each of the 2 eigen vectors should have a value/weight for each of the original 13 attributes\n",
    "eigen_vectors.shape"
   ]
  },
  {
   "cell_type": "code",
   "execution_count": 56,
   "metadata": {
    "deletable": false,
    "editable": false,
    "nbgrader": {
     "cell_type": "code",
     "checksum": "78f4be21e47115de6c674711c83db92f",
     "grade": true,
     "grade_id": "principal_component_analysis-public",
     "locked": true,
     "points": 5,
     "schema_version": 3,
     "solution": false,
     "task": false
    }
   },
   "outputs": [],
   "source": [
    "assert principal_component_analysis(X_train, 2).shape == (2, 10)\n",
    "np.testing.assert_almost_equal(\n",
    "    principal_component_analysis(X_train, 2)[0, :], \n",
    "    np.array(\n",
    "        [ 0.1999915,  0.216183 ,  0.3047298,  0.3221714,  0.3273805,\n",
    "        0.3277386, -0.276162 ,  0.4368469,  0.3730398,  0.3094571]\n",
    "    )\n",
    ")"
   ]
  },
  {
   "cell_type": "markdown",
   "metadata": {
    "deletable": false,
    "editable": false,
    "nbgrader": {
     "cell_type": "markdown",
     "checksum": "4c36a0606c08da9b4a5013ed7c2f6e21",
     "grade": false,
     "grade_id": "cell-b8065cf6aaf5b93c",
     "locked": true,
     "schema_version": 3,
     "solution": false,
     "task": false
    }
   },
   "source": [
    "### 6.2. Calculating Principal Components from Eigen Vectors"
   ]
  },
  {
   "cell_type": "code",
   "execution_count": 57,
   "metadata": {
    "deletable": false,
    "nbgrader": {
     "cell_type": "code",
     "checksum": "f82e4f470854d1253c882cfcb4081f25",
     "grade": false,
     "grade_id": "principal_component_calculation",
     "locked": false,
     "schema_version": 3,
     "solution": true,
     "task": false
    }
   },
   "outputs": [],
   "source": [
    "# Problem 2\n",
    "def principal_component_calculation(data, component_weights):\n",
    "    \"\"\"\n",
    "    Input: \n",
    "          data: A data frame with N rows and M numeric attributes (e.g. 178 x 13). \n",
    "          component_weights: a numpy array of shape (n_components, M) containing the weights (eigen vector) of \n",
    "              the first n_components principal components \n",
    "              (i.e. the output from running principal_component_analysis from problem 1)\n",
    "    Output:\n",
    "          a pandas dataframe of shape (N, n_components) ontaining the n_components principal components,\n",
    "          calculated for each of the N rows in data.\n",
    "    Hint: Can you solve this with matrix multiplication? Check out the np.matmul function.\n",
    "    \"\"\"\n",
    "    return np.matmul(data, component_weights.T)\n"
   ]
  },
  {
   "cell_type": "code",
   "execution_count": 58,
   "metadata": {},
   "outputs": [
    {
     "name": "stdout",
     "output_type": "stream",
     "text": [
      "Principal components are =             0         1\n",
      "4   -0.037461  0.074741\n",
      "120  0.103811 -0.087356\n",
      "31   0.028036  0.048609\n",
      "111 -0.041841 -0.016324\n",
      "117 -0.086183 -0.036811\n",
      "..        ...       ...\n",
      "177 -0.000116 -0.068271\n",
      "112 -0.016007  0.022502\n",
      "173  0.078594  0.044191\n",
      "220  0.219474  0.028141\n",
      "125  0.004838 -0.024858\n",
      "\n",
      "[167 rows x 2 columns] and their shape is (167, 2)\n"
     ]
    }
   ],
   "source": [
    "# Test your function\n",
    "\n",
    "# note that eigen_vectors are the eigen vectors you calculated earlier using principal_component_analysis. \n",
    "# We're calculating it again here for ease of use\n",
    "eigen_vectors = principal_component_analysis(X_train, 2)\n",
    "principal_component_values = principal_component_calculation(X_train, eigen_vectors)\n",
    "print(f'Principal components are = {principal_component_values} and their shape is {principal_component_values.shape}')"
   ]
  },
  {
   "cell_type": "code",
   "execution_count": 59,
   "metadata": {
    "deletable": false,
    "editable": false,
    "nbgrader": {
     "cell_type": "code",
     "checksum": "295d0cf5cbcd5e51c1dd620f7ddc3aa4",
     "grade": true,
     "grade_id": "principal_component_calculation-public",
     "locked": true,
     "points": 3,
     "schema_version": 3,
     "solution": false,
     "task": false
    }
   },
   "outputs": [],
   "source": [
    "test_eigen_vectors = principal_component_analysis(X_train, 2)\n",
    "test_pc = principal_component_calculation(X_train, test_eigen_vectors)\n",
    "assert test_pc.shape == (X_train.shape[0], 2)\n",
    "np.testing.assert_almost_equal(test_pc.iloc[0, :],[-0.0374607,  0.0747412])"
   ]
  },
  {
   "cell_type": "markdown",
   "metadata": {
    "deletable": false,
    "editable": false,
    "nbgrader": {
     "cell_type": "markdown",
     "checksum": "0f697075e545597797cffbc46402ac39",
     "grade": false,
     "grade_id": "cell-b1eb7d2a4006c6a3",
     "locked": true,
     "schema_version": 3,
     "solution": false,
     "task": false
    }
   },
   "source": [
    "### 6.3: Visualize your results\n",
    "\n",
    "You've gained familiarity with matplotlib in HW0. Now use matplotlib to\n",
    "\n",
    "a) generate a plot with the first principal component on x-axis, second principal component on y-axis. \n",
    "\n",
    "b) Assign color to each data point according to the target value. You can do this using the splitted y_train or y_test, depending on which set you are plotting.  \n",
    "\n",
    "***Hint 1:*** Take a look at the [plt.scatter](https://matplotlib.org/3.3.3/api/_as_gen/matplotlib.pyplot.scatter.html) function. Pay close attention to the 'c' variable. \n",
    "\n",
    "c) Name the x-axis as \"PC1\", y-axis as \"PC2\""
   ]
  },
  {
   "cell_type": "code",
   "execution_count": 60,
   "metadata": {},
   "outputs": [
    {
     "data": {
      "image/png": "[encoded data removed]",
      "text/plain": [
       "<Figure size 640x480 with 1 Axes>"
      ]
     },
     "metadata": {},
     "output_type": "display_data"
    }
   ],
   "source": [
    "# This is an example of a scatter plot, using the bmi and age of participants\n",
    "plt.scatter(X_train.iloc[:, 0], X_train.iloc[:, 2], c=y_train)\n",
    "plt.xlabel(X_train.columns[0])\n",
    "plt.ylabel(X_train.columns[2])\n",
    "plt.show()\n",
    "\n",
    "# How well does this plot separate the 2 different classes?"
   ]
  },
  {
   "cell_type": "code",
   "execution_count": 61,
   "metadata": {
    "deletable": false,
    "nbgrader": {
     "cell_type": "code",
     "checksum": "004c1cd22f6fdc4b50d7a73fc00008f2",
     "grade": true,
     "grade_id": "cell-c684b0d6c8af3bab",
     "locked": false,
     "points": 4,
     "schema_version": 3,
     "solution": true,
     "task": false
    }
   },
   "outputs": [
    {
     "data": {
      "image/png": "[encoded data removed]",
      "text/plain": [
       "<Figure size 640x480 with 1 Axes>"
      ]
     },
     "metadata": {},
     "output_type": "display_data"
    }
   ],
   "source": [
    "# Problem 3 (see question above)\n",
    "\n",
    "# recalculating eigen vectors and principal components for ease of use\n",
    "eigen_vectors = principal_component_analysis(X_train, 2)\n",
    "principal_component_values = principal_component_calculation(X_train, eigen_vectors)\n",
    "plt.scatter(principal_component_values.iloc[:, 0], principal_component_values.iloc[:, 1], c = y_train)\n",
    "plt.xlabel(\"PC1\")\n",
    "plt.ylabel(\"PC2\")\n",
    "plt.show()"
   ]
  },
  {
   "cell_type": "markdown",
   "metadata": {},
   "source": [
    "Do the first 2 PCs separate the data better than the first 2 numeric attributes?\n",
    "\n",
    "Yes, there is a more distinct separation between the two different PCs than the first 2 numeric attributes. The first plot has a more distinct mix of the data with more interaction between the attributes. Whereas, the second plot shows a more distinct separation between PC1 and PC2 with less interaction between PC1 and PC2."
   ]
  },
  {
   "cell_type": "markdown",
   "metadata": {},
   "source": [
    "**Remember**: Make sure to complete all problems (.ipynb files) in this assignment. When you finish, double-check the submission instructions at the top of this file, and submit on JupyterHub."
   ]
  }
 ],
 "metadata": {
  "kernelspec": {
   "display_name": "Python 3 (ipykernel)",
   "language": "python",
   "name": "python3"
  },
  "language_info": {
   "codemirror_mode": {
    "name": "ipython",
    "version": 3
   },
   "file_extension": ".py",
   "mimetype": "text/x-python",
   "name": "python",
   "nbconvert_exporter": "python",
   "pygments_lexer": "ipython3",
   "version": "3.9.15"
  }
 },
 "nbformat": 4,
 "nbformat_minor": 4
}
