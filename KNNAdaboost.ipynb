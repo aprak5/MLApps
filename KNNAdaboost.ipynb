{
 "cells": [
  {
   "cell_type": "markdown",
   "metadata": {},
   "source": [
    "# Instructions\n",
    "\n",
    "1. Add your name and HW Group Number below.\n",
    "2. Complete each question. Make sure you fill in any place that says `YOUR CODE HERE` or \"YOUR ANSWER HERE\", and delete and `throw NotImplementedError()` lines.\n",
    "3. Where applicable, run the test cases *below* each question to check your work. **Note**: In addition to the test cases you can see, the instructor may run additional test cases, including using *other datasets* to validate you code.\n",
    "4. Before you turn this problem in, make sure everything runs as expected. First, **restart the kernel** (in the menubar, select Kernel$\\rightarrow$Restart) and then **run all cells** (in the menubar, select Cell$\\rightarrow$Run All). You can also use the **Validate** button to run all test cases.\n",
    "5. Submit your homework on Moodle.\n",
    "\n"
   ]
  },
  {
   "cell_type": "code",
   "execution_count": 1,
   "metadata": {},
   "outputs": [],
   "source": [
    "\"\"\"\n",
    "Name: Amit Prakash\n",
    "HW Group Number: 5\n",
    "\"\"\"\n",
    "your_ncsu_gmail = \"aprakas5@ncsu.edu\""
   ]
  },
  {
   "cell_type": "markdown",
   "metadata": {
    "deletable": false,
    "editable": false,
    "nbgrader": {
     "cell_type": "markdown",
     "checksum": "641224d595ed61a6284f18ca53884566",
     "grade": false,
     "grade_id": "cell-dd4b5746c67b8f50",
     "locked": true,
     "schema_version": 3,
     "solution": false,
     "task": false
    }
   },
   "source": [
    "# **Problem 2 Knn & Adaboost**\n",
    "\n",
    "In this part, you'll be working with KNN and AdaBoost."
   ]
  },
  {
   "cell_type": "markdown",
   "metadata": {
    "deletable": false,
    "editable": false,
    "nbgrader": {
     "cell_type": "markdown",
     "checksum": "be9ea59aafd52d8d5deb8173471cd0e5",
     "grade": false,
     "grade_id": "cell-fee3162f4d5bcd8a",
     "locked": true,
     "schema_version": 3,
     "solution": false,
     "task": false
    }
   },
   "source": [
    "# 0) Loading Data & Libraries"
   ]
  },
  {
   "cell_type": "code",
   "execution_count": 2,
   "metadata": {
    "deletable": false,
    "editable": false,
    "nbgrader": {
     "cell_type": "code",
     "checksum": "9df59e5cf5649898772eba190cd07efe",
     "grade": false,
     "grade_id": "cell-4ce3395fb6fef52e",
     "locked": true,
     "schema_version": 3,
     "solution": false,
     "task": false
    }
   },
   "outputs": [],
   "source": [
    "import numpy as np\n",
    "\n",
    "import pandas as pd\n",
    "import matplotlib.pyplot as plt\n",
    "\n",
    "from sklearn import datasets\n",
    "\n",
    "# set a seed for reproducibility\n",
    "random_seed = 25\n",
    "np.random.seed(random_seed)\n",
    "\n",
    "# We need to ignore FutureWarnings due to a bug in our version of sklearn\n",
    "from warnings import simplefilter\n",
    "# ignore all future warnings\n",
    "simplefilter(action='ignore', category=FutureWarning)"
   ]
  },
  {
   "cell_type": "markdown",
   "metadata": {
    "deletable": false,
    "editable": false,
    "nbgrader": {
     "cell_type": "markdown",
     "checksum": "389d1abef8000b5d86913f50bd440e5e",
     "grade": false,
     "grade_id": "cell-3a794107521856db",
     "locked": true,
     "schema_version": 3,
     "solution": false,
     "task": false
    }
   },
   "source": [
    "# 1) Twitter Sentiment Analysis using KNN\n",
    "\n",
    "[Sentiment analysis](https://en.wikipedia.org/wiki/Sentiment_analysis) is the study of how we can systematically identify and quantify sentiment of a given segment of text. In this problem, you will be using the [Sentiment140](http://help.sentiment140.com/for-students/) dataset to build a classifier that will rate the sentiment of a string of text on a scale from 0 to 4.\n",
    "\n",
    "**WARNING:** This is *real* data from *real* people from Twitter. That means you might (and probably will) see some unscrupulous language when browsing the dataset. Don't browse with kids around!"
   ]
  },
  {
   "cell_type": "markdown",
   "metadata": {
    "deletable": false,
    "editable": false,
    "nbgrader": {
     "cell_type": "markdown",
     "checksum": "bfec3e169d0341e17d2efd7e9914d30d",
     "grade": false,
     "grade_id": "cell-45c873099b66450c",
     "locked": true,
     "schema_version": 3,
     "solution": false,
     "task": false
    }
   },
   "source": [
    "Let's take a look at our data, and what attributes we have.\n",
    "\n",
    "* **polarity**: The assumed polarity of the tweet. For this subset, we're only considering positive and negative tweets, no neutrality.\n",
    "* **id**: The tweet ID.\n",
    "* **date**: The date the tweet was posted.\n",
    "* **query**: The search term used in order to find tweets of a certain topic.\n",
    "* **text**: The actual text of the tweet.\n",
    "\n",
    "For now, we only consider the **polarity** and **text** attributes."
   ]
  },
  {
   "cell_type": "code",
   "execution_count": 3,
   "metadata": {
    "deletable": false,
    "editable": false,
    "nbgrader": {
     "cell_type": "code",
     "checksum": "5711e70a477725e3c5c3df3c5c7a0c7a",
     "grade": false,
     "grade_id": "cell-af2e6d8897dc4255",
     "locked": true,
     "schema_version": 3,
     "solution": false,
     "task": false
    }
   },
   "outputs": [
    {
     "data": {
      "text/html": [
       "<div>\n",
       "<style scoped>\n",
       "    .dataframe tbody tr th:only-of-type {\n",
       "        vertical-align: middle;\n",
       "    }\n",
       "\n",
       "    .dataframe tbody tr th {\n",
       "        vertical-align: top;\n",
       "    }\n",
       "\n",
       "    .dataframe thead th {\n",
       "        text-align: right;\n",
       "    }\n",
       "</style>\n",
       "<table border=\"1\" class=\"dataframe\">\n",
       "  <thead>\n",
       "    <tr style=\"text-align: right;\">\n",
       "      <th></th>\n",
       "      <th>Unnamed: 0</th>\n",
       "      <th>polarity</th>\n",
       "      <th>id</th>\n",
       "      <th>date</th>\n",
       "      <th>query</th>\n",
       "      <th>user</th>\n",
       "      <th>text</th>\n",
       "    </tr>\n",
       "  </thead>\n",
       "  <tbody>\n",
       "    <tr>\n",
       "      <th>0</th>\n",
       "      <td>639736</td>\n",
       "      <td>0</td>\n",
       "      <td>1881528306</td>\n",
       "      <td>Fri May 22 04:54:30 PDT 2009</td>\n",
       "      <td>NO_QUERY</td>\n",
       "      <td>ClareMacG</td>\n",
       "      <td>where is he? hmmmm he didnt even reply to me t...</td>\n",
       "    </tr>\n",
       "    <tr>\n",
       "      <th>1</th>\n",
       "      <td>228095</td>\n",
       "      <td>0</td>\n",
       "      <td>1759081303</td>\n",
       "      <td>Sun May 10 18:25:07 PDT 2009</td>\n",
       "      <td>NO_QUERY</td>\n",
       "      <td>jaredhaha</td>\n",
       "      <td>family guy sucks tonight</td>\n",
       "    </tr>\n",
       "    <tr>\n",
       "      <th>2</th>\n",
       "      <td>689126</td>\n",
       "      <td>0</td>\n",
       "      <td>2322274292</td>\n",
       "      <td>Wed Jun 24 22:20:07 PDT 2009</td>\n",
       "      <td>NO_QUERY</td>\n",
       "      <td>spazzyyarn</td>\n",
       "      <td>@jesus_iscomin  I am so sorry, that sucks!</td>\n",
       "    </tr>\n",
       "    <tr>\n",
       "      <th>3</th>\n",
       "      <td>372153</td>\n",
       "      <td>0</td>\n",
       "      <td>1693569517</td>\n",
       "      <td>Sun May 03 22:59:23 PDT 2009</td>\n",
       "      <td>NO_QUERY</td>\n",
       "      <td>missprettylady</td>\n",
       "      <td>goin to bed...definitly didn't study like i wa...</td>\n",
       "    </tr>\n",
       "    <tr>\n",
       "      <th>4</th>\n",
       "      <td>365761</td>\n",
       "      <td>0</td>\n",
       "      <td>2244313762</td>\n",
       "      <td>Fri Jun 19 14:35:02 PDT 2009</td>\n",
       "      <td>NO_QUERY</td>\n",
       "      <td>jojoe777</td>\n",
       "      <td>just was at the hospital, long story made shor...</td>\n",
       "    </tr>\n",
       "  </tbody>\n",
       "</table>\n",
       "</div>"
      ],
      "text/plain": [
       "   Unnamed: 0  polarity          id                          date     query  \\\n",
       "0      639736         0  1881528306  Fri May 22 04:54:30 PDT 2009  NO_QUERY   \n",
       "1      228095         0  1759081303  Sun May 10 18:25:07 PDT 2009  NO_QUERY   \n",
       "2      689126         0  2322274292  Wed Jun 24 22:20:07 PDT 2009  NO_QUERY   \n",
       "3      372153         0  1693569517  Sun May 03 22:59:23 PDT 2009  NO_QUERY   \n",
       "4      365761         0  2244313762  Fri Jun 19 14:35:02 PDT 2009  NO_QUERY   \n",
       "\n",
       "             user                                               text  \n",
       "0       ClareMacG  where is he? hmmmm he didnt even reply to me t...  \n",
       "1       jaredhaha                          family guy sucks tonight   \n",
       "2      spazzyyarn         @jesus_iscomin  I am so sorry, that sucks!  \n",
       "3  missprettylady  goin to bed...definitly didn't study like i wa...  \n",
       "4        jojoe777  just was at the hospital, long story made shor...  "
      ]
     },
     "execution_count": 3,
     "metadata": {},
     "output_type": "execute_result"
    }
   ],
   "source": [
    "train_data = pd.read_csv('/home/jupyter-{}/hw2_p3.csv'.format(your_ncsu_gmail))\n",
    "train_data.head()"
   ]
  },
  {
   "cell_type": "code",
   "execution_count": 4,
   "metadata": {
    "deletable": false,
    "editable": false,
    "nbgrader": {
     "cell_type": "code",
     "checksum": "4f449063188ab932418796c46f65ff56",
     "grade": false,
     "grade_id": "cell-15001b5e2db73bf0",
     "locked": true,
     "schema_version": 3,
     "solution": false,
     "task": false
    }
   },
   "outputs": [
    {
     "data": {
      "text/plain": [
       "0    20000\n",
       "4    20000\n",
       "Name: polarity, dtype: int64"
      ]
     },
     "execution_count": 4,
     "metadata": {},
     "output_type": "execute_result"
    }
   ],
   "source": [
    "# Check our disribution of polarity\n",
    "# 4 means postive sentiment\n",
    "# 0 means negative sentiment\n",
    "train_data.polarity.value_counts()"
   ]
  },
  {
   "cell_type": "markdown",
   "metadata": {
    "deletable": false,
    "editable": false,
    "nbgrader": {
     "cell_type": "markdown",
     "checksum": "659c62e82dbed8d3ca1d63c29c48a8a3",
     "grade": false,
     "grade_id": "cell-5327894d81868004",
     "locked": true,
     "schema_version": 3,
     "solution": false,
     "task": false
    }
   },
   "source": [
    "## 1.1) Example: Brief Introduction to tf-idf\n",
    "\n",
    "Read through and run the following example, and answer the question at the end.\n",
    "\n",
    "In information retreival [tf-idf](https://en.wikipedia.org/wiki/Tf%E2%80%93idf) (*term frequency – inverse document frequency*) is a metric that represents how \"important\" a word is to a corpus of text. While we won't go into detail about how it works, essentially all you need to know is that it balances two metrics.\n",
    "\n",
    "**Term Frequency**: Is exactly what one would expect, it is the the frequency at which a word is present in a corpus of text. A word with a higher term-frequency score appears much more in the corpus compared to one with a low term frequency.\n",
    "\n",
    "**Inverse Document Frequency**: If we only used term frequency, common words like \"the\" or \"and\" would have a high score, even though they don't give us that much information since they are present in every document. *Inverse Document Frequency* is a metric of how much \"information\" a word provides, and if a word is common or rare across all documents."
   ]
  },
  {
   "cell_type": "markdown",
   "metadata": {
    "deletable": false,
    "editable": false,
    "nbgrader": {
     "cell_type": "markdown",
     "checksum": "81d2f90ab816880f594494c4b7555d8f",
     "grade": false,
     "grade_id": "cell-1b74f76425851151",
     "locked": true,
     "schema_version": 3,
     "solution": false,
     "task": false
    }
   },
   "source": [
    "### tf-idf with sklearn"
   ]
  },
  {
   "cell_type": "code",
   "execution_count": 5,
   "metadata": {
    "deletable": false,
    "editable": false,
    "nbgrader": {
     "cell_type": "code",
     "checksum": "a736a3b9341a6f1ce33349ae03ae63f0",
     "grade": false,
     "grade_id": "cell-4787c5e461ffd63d",
     "locked": true,
     "schema_version": 3,
     "solution": false,
     "task": false
    }
   },
   "outputs": [
    {
     "name": "stdout",
     "output_type": "stream",
     "text": [
      "(4, 9)\n"
     ]
    }
   ],
   "source": [
    "from sklearn.feature_extraction.text import TfidfVectorizer\n",
    "corpus = [\n",
    "    'This is the first document.',\n",
    "    'This document is the second document.',\n",
    "    'And this is the third one.',\n",
    "    'Is this the first document?'\n",
    "]\n",
    "vectorizer = TfidfVectorizer()\n",
    "X = vectorizer.fit_transform(corpus)\n",
    "print(X.shape)"
   ]
  },
  {
   "cell_type": "markdown",
   "metadata": {
    "deletable": false,
    "editable": false,
    "nbgrader": {
     "cell_type": "markdown",
     "checksum": "057ddc19a2168cf93ac14dfc1677facb",
     "grade": false,
     "grade_id": "cell-6dc0a0bd2457d87c",
     "locked": true,
     "schema_version": 3,
     "solution": false,
     "task": false
    }
   },
   "source": [
    "The tf-idf vectorizer's `fit_transform` method returns a NxM matrix. `N` is the number of documents (sentences) you have in your corpus, and `M` is the number of unique words in your corpus. Item `n`x`m` is how important word `m` is to document `n`."
   ]
  },
  {
   "cell_type": "code",
   "execution_count": 6,
   "metadata": {},
   "outputs": [
    {
     "name": "stdout",
     "output_type": "stream",
     "text": [
      "[[0.     0.4698 0.5803 0.3841 0.     0.     0.3841 0.     0.3841]\n",
      " [0.     0.6876 0.     0.2811 0.     0.5386 0.2811 0.     0.2811]\n",
      " [0.5118 0.     0.     0.2671 0.5118 0.     0.2671 0.5118 0.2671]\n",
      " [0.     0.4698 0.5803 0.3841 0.     0.     0.3841 0.     0.3841]]\n"
     ]
    }
   ],
   "source": [
    "# Printing out the tf-idf matrix\n",
    "np.set_printoptions(precision=4)\n",
    "print(X.toarray())"
   ]
  },
  {
   "cell_type": "code",
   "execution_count": 7,
   "metadata": {},
   "outputs": [
    {
     "data": {
      "text/plain": [
       "<4x9 sparse matrix of type '<class 'numpy.float64'>'\n",
       "\twith 21 stored elements in Compressed Sparse Row format>"
      ]
     },
     "execution_count": 7,
     "metadata": {},
     "output_type": "execute_result"
    }
   ],
   "source": [
    "# Notice that if we try and print X directly, we get an overview saying that X is a \"sparse matrix\".\n",
    "# In very large corpi with many unique words, a lot of row entries are going to consist of majority zeros\n",
    "# Thus numpy saves theses in a special compressed sparse format\n",
    "X"
   ]
  },
  {
   "cell_type": "code",
   "execution_count": 8,
   "metadata": {},
   "outputs": [
    {
     "data": {
      "text/plain": [
       "array(['and', 'document', 'first', 'is', 'one', 'second', 'the', 'third',\n",
       "       'this'], dtype=object)"
      ]
     },
     "execution_count": 8,
     "metadata": {},
     "output_type": "execute_result"
    }
   ],
   "source": [
    "# Next let's see what word each column corresponds to:\n",
    "vectorizer.get_feature_names_out()"
   ]
  },
  {
   "cell_type": "markdown",
   "metadata": {
    "deletable": false,
    "editable": false,
    "nbgrader": {
     "cell_type": "markdown",
     "checksum": "5f311bbb98b14ca5fec7f9c6f89cc773",
     "grade": false,
     "grade_id": "cell-5bd2abaa3f0ad819",
     "locked": true,
     "schema_version": 3,
     "solution": false,
     "task": false
    }
   },
   "source": [
    "Let's look at the tf-idf vectors for two different documents.\n",
    "\n",
    "**Note**: `dic(zip(A, B))` in pyton makes a dictionary out of a list of keys (A) and values (B). This just makes it easier to view each term with it's corresponding TFIDF value."
   ]
  },
  {
   "cell_type": "code",
   "execution_count": 9,
   "metadata": {
    "deletable": false,
    "editable": false,
    "nbgrader": {
     "cell_type": "code",
     "checksum": "71586ca3b90debba2f04f053617d9ff3",
     "grade": false,
     "grade_id": "cell-b3627097c25aa7b0",
     "locked": true,
     "schema_version": 3,
     "solution": false,
     "task": false
    }
   },
   "outputs": [
    {
     "name": "stdout",
     "output_type": "stream",
     "text": [
      "This is the first document.\n"
     ]
    },
    {
     "data": {
      "text/plain": [
       "{'and': 0.0,\n",
       " 'document': 0.46979138557992045,\n",
       " 'first': 0.5802858236844359,\n",
       " 'is': 0.38408524091481483,\n",
       " 'one': 0.0,\n",
       " 'second': 0.0,\n",
       " 'the': 0.38408524091481483,\n",
       " 'third': 0.0,\n",
       " 'this': 0.38408524091481483}"
      ]
     },
     "execution_count": 9,
     "metadata": {},
     "output_type": "execute_result"
    }
   ],
   "source": [
    "print(corpus[0])\n",
    "dict(zip(vectorizer.get_feature_names_out(),X.toarray()[0]))"
   ]
  },
  {
   "cell_type": "code",
   "execution_count": 10,
   "metadata": {
    "deletable": false,
    "editable": false,
    "nbgrader": {
     "cell_type": "code",
     "checksum": "28c678c9f1ef4f194b3eb608fa2c377c",
     "grade": false,
     "grade_id": "cell-b72ce213380d8220",
     "locked": true,
     "schema_version": 3,
     "solution": false,
     "task": false
    }
   },
   "outputs": [
    {
     "name": "stdout",
     "output_type": "stream",
     "text": [
      "This document is the second document.\n"
     ]
    },
    {
     "data": {
      "text/plain": [
       "{'and': 0.0,\n",
       " 'document': 0.6876235979836938,\n",
       " 'first': 0.0,\n",
       " 'is': 0.281088674033753,\n",
       " 'one': 0.0,\n",
       " 'second': 0.5386476208856763,\n",
       " 'the': 0.281088674033753,\n",
       " 'third': 0.0,\n",
       " 'this': 0.281088674033753}"
      ]
     },
     "execution_count": 10,
     "metadata": {},
     "output_type": "execute_result"
    }
   ],
   "source": [
    "print(corpus[1])\n",
    "dict(zip(vectorizer.get_feature_names_out(),X.toarray()[1]))"
   ]
  },
  {
   "cell_type": "markdown",
   "metadata": {
    "deletable": false,
    "editable": false,
    "nbgrader": {
     "cell_type": "markdown",
     "checksum": "96394874ddacb984cffc206658e33ac4",
     "grade": false,
     "grade_id": "cell-27d6d2b55e8301b3",
     "locked": true,
     "schema_version": 3,
     "solution": false,
     "task": false
    }
   },
   "source": [
    "Take a look at the tf-idf vectors for both of these sentences and answer the following questions:\n",
    "1. Why is the value for the term \"is\" higher in document1 than document2?\n",
    "2. Why is the value for the term \"document\" higher in document2 than document1?"
   ]
  },
  {
   "cell_type": "markdown",
   "metadata": {},
   "source": [
    "1. The value for the term \"is\" is higher in document1 since there are less words in document1 as opposed to document2, so \"is\" would be more important in document1 as opposed to document2.\n",
    "2. The value for the term \"document\" is higher in document2 since \"document\" appears more frequently in document2."
   ]
  },
  {
   "cell_type": "markdown",
   "metadata": {
    "deletable": false,
    "editable": false,
    "nbgrader": {
     "cell_type": "markdown",
     "checksum": "a2cca8519df5b2e2c1c8857b02bf3718",
     "grade": false,
     "grade_id": "cell-5d6dd2a1fd26f181",
     "locked": true,
     "schema_version": 3,
     "solution": false,
     "task": false
    }
   },
   "source": [
    "## 1.2) tf-idf on Twitter\n",
    "\n",
    "Now, before we build a classifier, let's just try and see what the nearest neighbors of a specified message are."
   ]
  },
  {
   "cell_type": "code",
   "execution_count": 11,
   "metadata": {
    "deletable": false,
    "editable": false,
    "nbgrader": {
     "cell_type": "code",
     "checksum": "f6c4b6d520680aa5606ab6e22058f76b",
     "grade": false,
     "grade_id": "cell-247861d851d2a5e9",
     "locked": true,
     "schema_version": 3,
     "solution": false,
     "task": false
    }
   },
   "outputs": [],
   "source": [
    "# Get our text\n",
    "corpus = train_data[\"text\"]"
   ]
  },
  {
   "cell_type": "code",
   "execution_count": 12,
   "metadata": {
    "deletable": false,
    "editable": false,
    "nbgrader": {
     "cell_type": "code",
     "checksum": "3763cb84e2e464bb8df7248ced1e52b8",
     "grade": false,
     "grade_id": "cell-8a3dacaeb29d8337",
     "locked": true,
     "schema_version": 3,
     "solution": false,
     "task": false
    }
   },
   "outputs": [],
   "source": [
    "# Run our transform\n",
    "from sklearn.feature_extraction.text import TfidfVectorizer\n",
    "\n",
    "tf = TfidfVectorizer()\n",
    "tfidf_matrix = tf.fit_transform(corpus)"
   ]
  },
  {
   "cell_type": "code",
   "execution_count": 13,
   "metadata": {
    "deletable": false,
    "editable": false,
    "nbgrader": {
     "cell_type": "code",
     "checksum": "28bd6ae06012351d8c3d6404ab4e17b3",
     "grade": false,
     "grade_id": "cell-2b47ac9333d7a0f3",
     "locked": true,
     "schema_version": 3,
     "solution": false,
     "task": false
    }
   },
   "outputs": [
    {
     "data": {
      "text/plain": [
       "<40000x50209 sparse matrix of type '<class 'numpy.float64'>'\n",
       "\twith 476467 stored elements in Compressed Sparse Row format>"
      ]
     },
     "execution_count": 13,
     "metadata": {},
     "output_type": "execute_result"
    }
   ],
   "source": [
    "# Let's check the size of our matrix\n",
    "tfidf_matrix"
   ]
  },
  {
   "cell_type": "markdown",
   "metadata": {
    "deletable": false,
    "editable": false,
    "nbgrader": {
     "cell_type": "markdown",
     "checksum": "456dcbf2ccdc0ee051122e941efd42dc",
     "grade": false,
     "grade_id": "cell-fcc831ed367bedc1",
     "locked": true,
     "schema_version": 3,
     "solution": false,
     "task": false
    }
   },
   "source": [
    "Now, let's fit the nearest neighbors tree! Please use [NearestNeighbors](https://scikit-learn.org/stable/modules/neighbors.html) from sklearn library\n",
    "\n",
    "NOTE: fit the nearest neighbors tree (with **five** neighbors) on _**\"tfidf_matrx\"**_ we got from above, and return the model as _**\"nbrs\"**_"
   ]
  },
  {
   "cell_type": "code",
   "execution_count": 17,
   "metadata": {
    "deletable": false,
    "nbgrader": {
     "cell_type": "code",
     "checksum": "ad02a3d1c2757a948e8fe3c1d4b59c71",
     "grade": false,
     "grade_id": "nn",
     "locked": false,
     "schema_version": 3,
     "solution": true,
     "task": false
    }
   },
   "outputs": [],
   "source": [
    "from sklearn.neighbors import NearestNeighbors\n",
    "nbrs = NearestNeighbors(n_neighbors = 5, algorithm = 'ball_tree').fit(tfidf_matrix)"
   ]
  },
  {
   "cell_type": "code",
   "execution_count": 18,
   "metadata": {
    "deletable": false,
    "editable": false,
    "nbgrader": {
     "cell_type": "code",
     "checksum": "9e14e9bd4efa4458bf632bd5957894bf",
     "grade": true,
     "grade_id": "nn-public",
     "locked": true,
     "points": 3,
     "schema_version": 3,
     "solution": false,
     "task": false
    }
   },
   "outputs": [],
   "source": [
    "assert(nbrs.n_features_in_ == 50209)\n",
    "assert(nbrs.n_samples_fit_ == 40000)\n",
    "assert(nbrs.get_params()['n_neighbors'] == 5)"
   ]
  },
  {
   "cell_type": "markdown",
   "metadata": {
    "deletable": false,
    "editable": false,
    "nbgrader": {
     "cell_type": "markdown",
     "checksum": "135b28c56fed11eb56d223ef345253fa",
     "grade": false,
     "grade_id": "cell-b9db51af033047d2",
     "locked": true,
     "schema_version": 3,
     "solution": false,
     "task": false
    }
   },
   "source": [
    "We can now run custom sentences and see what sentences in the corpus are \"closest\" to what we put in. Try a few and see what shows up! In addition to this, you can change the `n_neighbors` param and get more queries."
   ]
  },
  {
   "cell_type": "code",
   "execution_count": 19,
   "metadata": {
    "deletable": false,
    "editable": false,
    "nbgrader": {
     "cell_type": "code",
     "checksum": "7b21669adbf7190d5fac809345e9eb04",
     "grade": false,
     "grade_id": "cell-a42677ceaef33de1",
     "locked": true,
     "schema_version": 3,
     "solution": false,
     "task": false
    }
   },
   "outputs": [
    {
     "data": {
      "text/html": [
       "<div>\n",
       "<style scoped>\n",
       "    .dataframe tbody tr th:only-of-type {\n",
       "        vertical-align: middle;\n",
       "    }\n",
       "\n",
       "    .dataframe tbody tr th {\n",
       "        vertical-align: top;\n",
       "    }\n",
       "\n",
       "    .dataframe thead th {\n",
       "        text-align: right;\n",
       "    }\n",
       "</style>\n",
       "<table border=\"1\" class=\"dataframe\">\n",
       "  <thead>\n",
       "    <tr style=\"text-align: right;\">\n",
       "      <th></th>\n",
       "      <th>Unnamed: 0</th>\n",
       "      <th>polarity</th>\n",
       "      <th>id</th>\n",
       "      <th>date</th>\n",
       "      <th>query</th>\n",
       "      <th>user</th>\n",
       "      <th>text</th>\n",
       "    </tr>\n",
       "  </thead>\n",
       "  <tbody>\n",
       "    <tr>\n",
       "      <th>10068</th>\n",
       "      <td>617716</td>\n",
       "      <td>0</td>\n",
       "      <td>2265303137</td>\n",
       "      <td>Sun Jun 21 06:16:29 PDT 2009</td>\n",
       "      <td>NO_QUERY</td>\n",
       "      <td>beesjebinda</td>\n",
       "      <td>Doing our taxes</td>\n",
       "    </tr>\n",
       "    <tr>\n",
       "      <th>123</th>\n",
       "      <td>658220</td>\n",
       "      <td>0</td>\n",
       "      <td>2062031962</td>\n",
       "      <td>Sat Jun 06 22:10:14 PDT 2009</td>\n",
       "      <td>NO_QUERY</td>\n",
       "      <td>kaylabranch</td>\n",
       "      <td>can't spend ANY MONEY TOMORROW... except payin...</td>\n",
       "    </tr>\n",
       "    <tr>\n",
       "      <th>5528</th>\n",
       "      <td>141336</td>\n",
       "      <td>0</td>\n",
       "      <td>2008866840</td>\n",
       "      <td>Tue Jun 02 14:46:56 PDT 2009</td>\n",
       "      <td>NO_QUERY</td>\n",
       "      <td>wintertime88</td>\n",
       "      <td>@CounterfeitGent Haha, I couldn't possibly dud...</td>\n",
       "    </tr>\n",
       "    <tr>\n",
       "      <th>15132</th>\n",
       "      <td>564636</td>\n",
       "      <td>0</td>\n",
       "      <td>2288415211</td>\n",
       "      <td>Mon Jun 22 19:07:58 PDT 2009</td>\n",
       "      <td>NO_QUERY</td>\n",
       "      <td>AKWilliams87</td>\n",
       "      <td>paying bills while my roomates are at the movi...</td>\n",
       "    </tr>\n",
       "    <tr>\n",
       "      <th>38438</th>\n",
       "      <td>78508</td>\n",
       "      <td>4</td>\n",
       "      <td>1962781884</td>\n",
       "      <td>Fri May 29 11:39:17 PDT 2009</td>\n",
       "      <td>NO_QUERY</td>\n",
       "      <td>thecaribgem</td>\n",
       "      <td>@AYOSONNYBROWN  Awww, so u r paying attention....</td>\n",
       "    </tr>\n",
       "  </tbody>\n",
       "</table>\n",
       "</div>"
      ],
      "text/plain": [
       "       Unnamed: 0  polarity          id                          date  \\\n",
       "10068      617716         0  2265303137  Sun Jun 21 06:16:29 PDT 2009   \n",
       "123        658220         0  2062031962  Sat Jun 06 22:10:14 PDT 2009   \n",
       "5528       141336         0  2008866840  Tue Jun 02 14:46:56 PDT 2009   \n",
       "15132      564636         0  2288415211  Mon Jun 22 19:07:58 PDT 2009   \n",
       "38438       78508         4  1962781884  Fri May 29 11:39:17 PDT 2009   \n",
       "\n",
       "          query          user  \\\n",
       "10068  NO_QUERY   beesjebinda   \n",
       "123    NO_QUERY   kaylabranch   \n",
       "5528   NO_QUERY  wintertime88   \n",
       "15132  NO_QUERY  AKWilliams87   \n",
       "38438  NO_QUERY   thecaribgem   \n",
       "\n",
       "                                                    text  \n",
       "10068                                   Doing our taxes   \n",
       "123    can't spend ANY MONEY TOMORROW... except payin...  \n",
       "5528   @CounterfeitGent Haha, I couldn't possibly dud...  \n",
       "15132  paying bills while my roomates are at the movi...  \n",
       "38438  @AYOSONNYBROWN  Awww, so u r paying attention....  "
      ]
     },
     "execution_count": 19,
     "metadata": {},
     "output_type": "execute_result"
    }
   ],
   "source": [
    "test_docs = [\"I sure love paying my taxes!\"]\n",
    "test_docs = tf.transform(test_docs)\n",
    "distances, indicies = nbrs.kneighbors(test_docs)\n",
    "train_data.iloc[indicies[0]]"
   ]
  },
  {
   "cell_type": "code",
   "execution_count": 20,
   "metadata": {
    "deletable": false,
    "editable": false,
    "nbgrader": {
     "cell_type": "code",
     "checksum": "acea1d20c51855846fa26b984b5cd69f",
     "grade": false,
     "grade_id": "cell-12a84f0eac5cc6b1",
     "locked": true,
     "schema_version": 3,
     "solution": false,
     "task": false
    }
   },
   "outputs": [
    {
     "name": "stdout",
     "output_type": "stream",
     "text": [
      "[[0.9768 1.1163 1.2237 1.2367 1.2439]]\n"
     ]
    }
   ],
   "source": [
    "# As a bonus, show our distances\n",
    "print(distances)"
   ]
  },
  {
   "cell_type": "markdown",
   "metadata": {
    "deletable": false,
    "editable": false,
    "nbgrader": {
     "cell_type": "markdown",
     "checksum": "6ab6c16c14efcf383b03644cb358e4bc",
     "grade": false,
     "grade_id": "cell-c0c7cdf55f67b06d",
     "locked": true,
     "schema_version": 3,
     "solution": false,
     "task": false
    }
   },
   "source": [
    "Now investigate:\n",
    "1. Try manually classifying the tweet \"Wow, this is so cool!\" What are the classes of the neighbors? How would a 5-NN classifier classify that tweet?\n",
    "2. Can you think of a tweet that might fool this classifier? For example, how would it do with sarcasm?"
   ]
  },
  {
   "cell_type": "code",
   "execution_count": 21,
   "metadata": {},
   "outputs": [
    {
     "data": {
      "text/html": [
       "<div>\n",
       "<style scoped>\n",
       "    .dataframe tbody tr th:only-of-type {\n",
       "        vertical-align: middle;\n",
       "    }\n",
       "\n",
       "    .dataframe tbody tr th {\n",
       "        vertical-align: top;\n",
       "    }\n",
       "\n",
       "    .dataframe thead th {\n",
       "        text-align: right;\n",
       "    }\n",
       "</style>\n",
       "<table border=\"1\" class=\"dataframe\">\n",
       "  <thead>\n",
       "    <tr style=\"text-align: right;\">\n",
       "      <th></th>\n",
       "      <th>Unnamed: 0</th>\n",
       "      <th>polarity</th>\n",
       "      <th>id</th>\n",
       "      <th>date</th>\n",
       "      <th>query</th>\n",
       "      <th>user</th>\n",
       "      <th>text</th>\n",
       "    </tr>\n",
       "  </thead>\n",
       "  <tbody>\n",
       "    <tr>\n",
       "      <th>3996</th>\n",
       "      <td>139202</td>\n",
       "      <td>0</td>\n",
       "      <td>2002966578</td>\n",
       "      <td>Tue Jun 02 05:35:13 PDT 2009</td>\n",
       "      <td>NO_QUERY</td>\n",
       "      <td>Tifanei</td>\n",
       "      <td>wow....</td>\n",
       "    </tr>\n",
       "    <tr>\n",
       "      <th>3000</th>\n",
       "      <td>374176</td>\n",
       "      <td>0</td>\n",
       "      <td>2224215495</td>\n",
       "      <td>Thu Jun 18 09:13:44 PDT 2009</td>\n",
       "      <td>NO_QUERY</td>\n",
       "      <td>i_love_gerard</td>\n",
       "      <td>wow. this is ugly. im bored</td>\n",
       "    </tr>\n",
       "    <tr>\n",
       "      <th>15514</th>\n",
       "      <td>403840</td>\n",
       "      <td>0</td>\n",
       "      <td>2216046658</td>\n",
       "      <td>Wed Jun 17 18:58:12 PDT 2009</td>\n",
       "      <td>NO_QUERY</td>\n",
       "      <td>Havalilly</td>\n",
       "      <td>wow, i can't believe how much i'm still actual...</td>\n",
       "    </tr>\n",
       "    <tr>\n",
       "      <th>25297</th>\n",
       "      <td>467823</td>\n",
       "      <td>4</td>\n",
       "      <td>1565071153</td>\n",
       "      <td>Mon Apr 20 05:48:55 PDT 2009</td>\n",
       "      <td>NO_QUERY</td>\n",
       "      <td>preranapradhan</td>\n",
       "      <td>only 3 days to go this week...wow</td>\n",
       "    </tr>\n",
       "    <tr>\n",
       "      <th>35952</th>\n",
       "      <td>662408</td>\n",
       "      <td>4</td>\n",
       "      <td>2055336383</td>\n",
       "      <td>Sat Jun 06 09:07:52 PDT 2009</td>\n",
       "      <td>NO_QUERY</td>\n",
       "      <td>gatewood2010</td>\n",
       "      <td>wow. i'm a newbie at this.</td>\n",
       "    </tr>\n",
       "  </tbody>\n",
       "</table>\n",
       "</div>"
      ],
      "text/plain": [
       "       Unnamed: 0  polarity          id                          date  \\\n",
       "3996       139202         0  2002966578  Tue Jun 02 05:35:13 PDT 2009   \n",
       "3000       374176         0  2224215495  Thu Jun 18 09:13:44 PDT 2009   \n",
       "15514      403840         0  2216046658  Wed Jun 17 18:58:12 PDT 2009   \n",
       "25297      467823         4  1565071153  Mon Apr 20 05:48:55 PDT 2009   \n",
       "35952      662408         4  2055336383  Sat Jun 06 09:07:52 PDT 2009   \n",
       "\n",
       "          query            user  \\\n",
       "3996   NO_QUERY         Tifanei   \n",
       "3000   NO_QUERY   i_love_gerard   \n",
       "15514  NO_QUERY       Havalilly   \n",
       "25297  NO_QUERY  preranapradhan   \n",
       "35952  NO_QUERY    gatewood2010   \n",
       "\n",
       "                                                    text  \n",
       "3996                                            wow....   \n",
       "3000                        wow. this is ugly. im bored   \n",
       "15514  wow, i can't believe how much i'm still actual...  \n",
       "25297                 only 3 days to go this week...wow   \n",
       "35952                        wow. i'm a newbie at this.   "
      ]
     },
     "execution_count": 21,
     "metadata": {},
     "output_type": "execute_result"
    }
   ],
   "source": [
    "test_docs = [\"Wow, this is so cool!\"]\n",
    "test_docs = tf.transform(test_docs)\n",
    "distances, indicies = nbrs.kneighbors(test_docs)\n",
    "train_data.iloc[indicies[0]]"
   ]
  },
  {
   "cell_type": "markdown",
   "metadata": {},
   "source": [
    "1. \"Wow, this is so cool!\" would be classified under Tifanei, i_love_gerard, Havalilly, preranapradhan, and gatewood2010.\n",
    "2. Any sarcastic or joking tweet might be misclassified under this classifier since the KNN would take anything in the tweet literally. "
   ]
  },
  {
   "cell_type": "markdown",
   "metadata": {
    "deletable": false,
    "editable": false,
    "nbgrader": {
     "cell_type": "markdown",
     "checksum": "680d596953a165bbba8f82a9cfc38ec9",
     "grade": false,
     "grade_id": "cell-654053a2955a0089",
     "locked": true,
     "schema_version": 3,
     "solution": false,
     "task": false
    }
   },
   "source": [
    "We will continue working witht this dataset in hw2-p3!"
   ]
  },
  {
   "cell_type": "markdown",
   "metadata": {
    "deletable": false,
    "editable": false,
    "nbgrader": {
     "cell_type": "markdown",
     "checksum": "8d738aad17394836d18c2257ea541fb1",
     "grade": false,
     "grade_id": "cell-e38e9e04d7b092b3",
     "locked": true,
     "schema_version": 3,
     "solution": false,
     "task": false
    }
   },
   "source": [
    "# 2) AdaBoost\n",
    "\n",
    "In this exercise, you'll be learning how to use [AdaBoost](https://scikit-learn.org/stable/modules/generated/sklearn.ensemble.AdaBoostClassifier.html), as well as vizualize decision boundries."
   ]
  },
  {
   "cell_type": "markdown",
   "metadata": {
    "deletable": false,
    "editable": false,
    "nbgrader": {
     "cell_type": "markdown",
     "checksum": "0a70d550d3c58a4381e3dc7cac2a109c",
     "grade": false,
     "grade_id": "cell-a2e82c5604cce2ec",
     "locked": true,
     "schema_version": 3,
     "solution": false,
     "task": false
    }
   },
   "source": [
    "## 2.1) Exmple: Decision Tree Baseline"
   ]
  },
  {
   "cell_type": "code",
   "execution_count": 22,
   "metadata": {
    "deletable": false,
    "editable": false,
    "nbgrader": {
     "cell_type": "code",
     "checksum": "9be4865f81677b8af1c6fa038d4a808d",
     "grade": false,
     "grade_id": "cell-643efca93cb2ef42",
     "locked": true,
     "schema_version": 3,
     "solution": false,
     "task": false
    }
   },
   "outputs": [],
   "source": [
    "# Read the iris dataset and translate to pandas dataframe\n",
    "bc_sk = datasets.load_breast_cancer()\n",
    "# Note that the \"target\" attribute is species, represented as an integer\n",
    "bc_data = pd.DataFrame(data= np.c_[bc_sk['data'], bc_sk['target']],columns= list(bc_sk['feature_names'])+['target'])"
   ]
  },
  {
   "cell_type": "code",
   "execution_count": 23,
   "metadata": {
    "deletable": false,
    "editable": false,
    "nbgrader": {
     "cell_type": "code",
     "checksum": "5e754296742cd85cdf5b4a8901fe4567",
     "grade": false,
     "grade_id": "cell-3a7764bf66b2406b",
     "locked": true,
     "schema_version": 3,
     "solution": false,
     "task": false
    }
   },
   "outputs": [],
   "source": [
    "from sklearn.model_selection import train_test_split\n",
    "# The fraction of data that will be test data\n",
    "test_data_fraction = 0.10\n",
    "\n",
    "bc_features = bc_data.iloc[:,0:-1]\n",
    "bc_labels = bc_data[\"target\"]\n",
    "X_train, X_test, Y_train, Y_test = train_test_split(bc_features, bc_labels, test_size=test_data_fraction,  random_state=random_seed)"
   ]
  },
  {
   "cell_type": "markdown",
   "metadata": {
    "deletable": false,
    "editable": false,
    "nbgrader": {
     "cell_type": "markdown",
     "checksum": "20024830553cc4ae0e4b44e30843fd0a",
     "grade": false,
     "grade_id": "cell-41c236bfc6099552",
     "locked": true,
     "schema_version": 3,
     "solution": false,
     "task": false
    }
   },
   "source": [
    "First, let's have a baseline non-boosted decision tree to compare against."
   ]
  },
  {
   "cell_type": "code",
   "execution_count": 24,
   "metadata": {
    "deletable": false,
    "editable": false,
    "nbgrader": {
     "cell_type": "code",
     "checksum": "079204a829f4b95da66b632086fa34e7",
     "grade": false,
     "grade_id": "cell-e3cf16aea05cf2bd",
     "locked": true,
     "schema_version": 3,
     "solution": false,
     "task": false
    }
   },
   "outputs": [],
   "source": [
    "from sklearn.tree import DecisionTreeClassifier\n",
    "gini_tree = DecisionTreeClassifier(criterion = \"gini\", random_state=random_seed).fit(X=X_train, y=Y_train)"
   ]
  },
  {
   "cell_type": "code",
   "execution_count": 25,
   "metadata": {
    "deletable": false,
    "editable": false,
    "nbgrader": {
     "cell_type": "code",
     "checksum": "d97889930d5bfbeb15dbb273fe1954f2",
     "grade": false,
     "grade_id": "cell-d5baa7e1ea2a864d",
     "locked": true,
     "schema_version": 3,
     "solution": false,
     "task": false
    }
   },
   "outputs": [],
   "source": [
    "from sklearn.metrics import classification_report\n",
    "from sklearn.metrics import confusion_matrix\n",
    "predicted_y = gini_tree.predict(X_test)"
   ]
  },
  {
   "cell_type": "code",
   "execution_count": 26,
   "metadata": {
    "deletable": false,
    "editable": false,
    "nbgrader": {
     "cell_type": "code",
     "checksum": "e54dd446bbb5683bc9b6115841600f63",
     "grade": false,
     "grade_id": "cell-3257c7df126745f6",
     "locked": true,
     "schema_version": 3,
     "solution": false,
     "task": false
    }
   },
   "outputs": [
    {
     "name": "stdout",
     "output_type": "stream",
     "text": [
      "              precision    recall  f1-score   support\n",
      "\n",
      "         0.0       0.85      0.85      0.85        20\n",
      "         1.0       0.92      0.92      0.92        37\n",
      "\n",
      "    accuracy                           0.89        57\n",
      "   macro avg       0.88      0.88      0.88        57\n",
      "weighted avg       0.89      0.89      0.89        57\n",
      "\n"
     ]
    }
   ],
   "source": [
    "print(classification_report(predicted_y,Y_test))"
   ]
  },
  {
   "cell_type": "code",
   "execution_count": 27,
   "metadata": {
    "deletable": false,
    "editable": false,
    "nbgrader": {
     "cell_type": "code",
     "checksum": "00778da5a479e83891ff93baaddd027a",
     "grade": false,
     "grade_id": "cell-9cf042160ae42191",
     "locked": true,
     "schema_version": 3,
     "solution": false,
     "task": false
    }
   },
   "outputs": [
    {
     "data": {
      "text/plain": [
       "array([[17,  3],\n",
       "       [ 3, 34]])"
      ]
     },
     "execution_count": 27,
     "metadata": {},
     "output_type": "execute_result"
    }
   ],
   "source": [
    "confusion_matrix(predicted_y,Y_test)"
   ]
  },
  {
   "cell_type": "markdown",
   "metadata": {},
   "source": [
    "## 2.2: Adaboost Classifier"
   ]
  },
  {
   "cell_type": "markdown",
   "metadata": {
    "deletable": false,
    "editable": false,
    "nbgrader": {
     "cell_type": "markdown",
     "checksum": "171fa4538eeb86f34e86aaf4c24cbf8a",
     "grade": false,
     "grade_id": "cell-c930e798d27e97cd",
     "locked": true,
     "schema_version": 3,
     "solution": false,
     "task": false
    }
   },
   "source": [
    "Now, let's get boosting with the [AdaBoostClassifier](https://scikit-learn.org/stable/modules/generated/sklearn.ensemble.AdaBoostClassifier.html). The default estimator for AdaBoost is a *decision stump*. (Remember: a decision stump is simply a decision tree with a height of 1).\n",
    "\n",
    "* The `n_estimators` parameter is the number of base models in the ensemble."
   ]
  },
  {
   "cell_type": "code",
   "execution_count": 44,
   "metadata": {
    "deletable": false,
    "nbgrader": {
     "cell_type": "code",
     "checksum": "93a3969d58e9431a6c2a1e7ed4f35862",
     "grade": false,
     "grade_id": "adaboost",
     "locked": false,
     "schema_version": 3,
     "solution": true,
     "task": false
    }
   },
   "outputs": [],
   "source": [
    "# YOUR CODE HERE\n",
    "from sklearn.ensemble import AdaBoostClassifier\n",
    "ada_model = AdaBoostClassifier(n_estimators = 40, random_state = random_seed).fit(X_train, Y_train)"
   ]
  },
  {
   "cell_type": "code",
   "execution_count": 45,
   "metadata": {
    "deletable": false,
    "editable": false,
    "nbgrader": {
     "cell_type": "code",
     "checksum": "c38c67a299a91d689d7bd4ebee44d8bb",
     "grade": true,
     "grade_id": "cell-0f584b9b4cebda33",
     "locked": true,
     "points": 3,
     "schema_version": 3,
     "solution": false,
     "task": false
    }
   },
   "outputs": [],
   "source": [
    "from sklearn.metrics import accuracy_score\n",
    "np.testing.assert_almost_equal(accuracy_score(ada_model.predict(X_test), Y_test), 0.9473684210526315)"
   ]
  },
  {
   "cell_type": "code",
   "execution_count": 46,
   "metadata": {
    "deletable": false,
    "editable": false,
    "nbgrader": {
     "cell_type": "code",
     "checksum": "f215b4c18fae99501ccfc1d6cabb49b0",
     "grade": false,
     "grade_id": "cell-5065de2c51aa8c2a",
     "locked": true,
     "schema_version": 3,
     "solution": false,
     "task": false
    }
   },
   "outputs": [],
   "source": [
    "predicted_y = ada_model.predict(X_test)"
   ]
  },
  {
   "cell_type": "code",
   "execution_count": 47,
   "metadata": {
    "deletable": false,
    "editable": false,
    "nbgrader": {
     "cell_type": "code",
     "checksum": "d87257a14aa3fe9bd9376fe6a435e47d",
     "grade": false,
     "grade_id": "cell-75ac58d9033a2843",
     "locked": true,
     "schema_version": 3,
     "solution": false,
     "task": false
    }
   },
   "outputs": [
    {
     "name": "stdout",
     "output_type": "stream",
     "text": [
      "              precision    recall  f1-score   support\n",
      "\n",
      "         0.0       0.90      0.95      0.92        19\n",
      "         1.0       0.97      0.95      0.96        38\n",
      "\n",
      "    accuracy                           0.95        57\n",
      "   macro avg       0.94      0.95      0.94        57\n",
      "weighted avg       0.95      0.95      0.95        57\n",
      "\n"
     ]
    }
   ],
   "source": [
    "print(classification_report(predicted_y,Y_test))"
   ]
  },
  {
   "cell_type": "code",
   "execution_count": 48,
   "metadata": {
    "deletable": false,
    "editable": false,
    "nbgrader": {
     "cell_type": "code",
     "checksum": "07fdf833b7a82f61310da1d727336beb",
     "grade": false,
     "grade_id": "cell-16364b75ccc14537",
     "locked": true,
     "schema_version": 3,
     "solution": false,
     "task": false
    }
   },
   "outputs": [
    {
     "data": {
      "text/plain": [
       "array([[18,  1],\n",
       "       [ 2, 36]])"
      ]
     },
     "execution_count": 48,
     "metadata": {},
     "output_type": "execute_result"
    }
   ],
   "source": [
    "confusion_matrix(predicted_y,Y_test)"
   ]
  },
  {
   "cell_type": "markdown",
   "metadata": {
    "deletable": false,
    "editable": false,
    "nbgrader": {
     "cell_type": "markdown",
     "checksum": "8f646d5445527cd3912e94fd21af64d7",
     "grade": false,
     "grade_id": "cell-82768f17f1b3dd4e",
     "locked": true,
     "schema_version": 3,
     "solution": false,
     "task": false
    }
   },
   "source": [
    "As we can see, the boosted model performs better than a full decision tree, even though it only uses some decision stumps. In the next section, we'll explore why that is."
   ]
  },
  {
   "cell_type": "markdown",
   "metadata": {
    "deletable": false,
    "editable": false,
    "nbgrader": {
     "cell_type": "markdown",
     "checksum": "0e371f301171d047af6e584c53176e6f",
     "grade": false,
     "grade_id": "cell-d52ea0f1fea6e677",
     "locked": true,
     "schema_version": 3,
     "solution": false,
     "task": false
    }
   },
   "source": [
    "## 2.3) CSC522 Only: Visualizing Decision Boundries\n",
    "\n",
    "**Note**: This problem is only required for 522 students; it is extra credit for 422 students.\n",
    "\n",
    "Now, we're going to peek under the hood and see the decision boundries of ensemble learners. To do so, we'll implement our own version of ada boost."
   ]
  },
  {
   "cell_type": "code",
   "execution_count": 49,
   "metadata": {
    "deletable": false,
    "editable": false,
    "nbgrader": {
     "cell_type": "code",
     "checksum": "4dd10b6912051978ba52928f0cc7d268",
     "grade": false,
     "grade_id": "cell-d0346937dddbd6fe",
     "locked": true,
     "schema_version": 3,
     "solution": false,
     "task": false
    }
   },
   "outputs": [],
   "source": [
    "from sklearn.datasets import make_moons"
   ]
  },
  {
   "cell_type": "code",
   "execution_count": 50,
   "metadata": {
    "deletable": false,
    "editable": false,
    "nbgrader": {
     "cell_type": "code",
     "checksum": "0d0e3083e1f2cb398a068a999ac741cc",
     "grade": false,
     "grade_id": "cell-082cdb089cb68a59",
     "locked": true,
     "schema_version": 3,
     "solution": false,
     "task": false
    }
   },
   "outputs": [
    {
     "data": {
      "text/plain": [
       "<matplotlib.collections.PathCollection at 0x7fe569fdb310>"
      ]
     },
     "execution_count": 50,
     "metadata": {},
     "output_type": "execute_result"
    },
    {
     "data": {
      "image/png": "[encoded data removed]",
      "text/plain": [
       "<Figure size 640x480 with 1 Axes>"
      ]
     },
     "metadata": {},
     "output_type": "display_data"
    }
   ],
   "source": [
    "# A nice noisy dataset that's not linearly separable\n",
    "X,y = make_moons(300, noise=0.13,random_state = random_seed)\n",
    "colors = {0:'red',1:\"blue\"}\n",
    "plt.scatter(X[:,0],X[:,1],c=np.vectorize(colors.get)(y))"
   ]
  },
  {
   "cell_type": "markdown",
   "metadata": {
    "deletable": false,
    "editable": false,
    "nbgrader": {
     "cell_type": "markdown",
     "checksum": "de34a5d98c33dacd5bac25641afa3e36",
     "grade": false,
     "grade_id": "cell-8685366fcdd41812",
     "locked": true,
     "schema_version": 3,
     "solution": false,
     "task": false
    }
   },
   "source": [
    "### 2.3.1: Clculating Alpha\n",
    "\n",
    "**Note**: This problem is only required for 522 students; it is extra credit for 422 students.\n",
    "\n",
    "You're given some code to calculate Adaboost by hand below, but for it to work, you need to complete the following helper functions.\n",
    "\n",
    "In `calculate_alpha`, you should calculate alpha for the round, based on the classifier's predictions and the weights of that round. The basic steps are:\n",
    "1. Calculate the **weighted** error $\\epsilon$ for the round by comparing those predictions to y. Remember, the error is the sum of the weights of misclassified instances.\n",
    "2. Calculate alpha using the following formula:\n",
    "\n",
    "$$\\alpha = 0.5*ln(\\frac{1 - \\epsilon}{\\epsilon})$$"
   ]
  },
  {
   "cell_type": "code",
   "execution_count": null,
   "metadata": {
    "deletable": false,
    "nbgrader": {
     "cell_type": "code",
     "checksum": "777744e0ad7a67e398a5df03637ee961",
     "grade": false,
     "grade_id": "calculate_alpha",
     "locked": false,
     "schema_version": 3,
     "solution": true,
     "task": false
    }
   },
   "outputs": [],
   "source": [
    "import math\n",
    "def calculate_alpha(predictions, weights, y):\n",
    "    \"\"\"\n",
    "    Inputs:\n",
    "        predictions: the predictions (0 or 1) of the classifier in this round.\n",
    "        weights: the weights of each instance at the end of last round\n",
    "        y: the class labels (0 or 1) for the instances\n",
    "    Output: the alpha value for this round\n",
    "    \"\"\"\n",
    "    # YOUR CODE HERE\n",
    "    raise NotImplementedError()"
   ]
  },
  {
   "cell_type": "code",
   "execution_count": null,
   "metadata": {
    "deletable": false,
    "editable": false,
    "nbgrader": {
     "cell_type": "code",
     "checksum": "b411569cba3a82f85cc631c058d668fa",
     "grade": false,
     "grade_id": "cell-2e4ddd7018e595b7",
     "locked": true,
     "schema_version": 3,
     "solution": false,
     "task": false
    }
   },
   "outputs": [],
   "source": [
    "# To test calculate_alpha, we need to make a decision tree and some starting weights\n",
    "dt = DecisionTreeClassifier(criterion = \"gini\", max_depth=1, random_state=123).fit(X, y)\n",
    "predictions = dt.predict(X)\n",
    "weights = np.repeat(1 / len(X), len(X))\n",
    "# Alpha should be ~0.84\n",
    "alpha = calculate_alpha(predictions, weights, y)"
   ]
  },
  {
   "cell_type": "code",
   "execution_count": null,
   "metadata": {
    "deletable": false,
    "editable": false,
    "nbgrader": {
     "cell_type": "code",
     "checksum": "dd557b2f6cf926522967b4ed1321e838",
     "grade": true,
     "grade_id": "calculate_alpha-public",
     "locked": true,
     "points": 3,
     "schema_version": 3,
     "solution": false,
     "task": false
    }
   },
   "outputs": [],
   "source": [
    "np.testing.assert_almost_equal(alpha, 0.8416209435087314)"
   ]
  },
  {
   "cell_type": "markdown",
   "metadata": {
    "deletable": false,
    "editable": false,
    "nbgrader": {
     "cell_type": "markdown",
     "checksum": "0e008585ca5da5a427bddeffaec5bd4a",
     "grade": false,
     "grade_id": "cell-81feaeec97b698bd",
     "locked": true,
     "schema_version": 3,
     "solution": false,
     "task": false
    }
   },
   "source": [
    "### 2.3.2: Updating Weights\n",
    "\n",
    "**Note**: This problem is only required for 522 students; it is extra credit for 422 students.\n",
    "\n",
    "Next you need to write a function that will update the weights for the adaboost classifier based on the alpha value. Remember:\n",
    "* Correctly classified instances have their weight decreased.\n",
    "* Incorrectly classified instances have their weight increased.\n",
    "\n",
    "The amount by which the weight changes is $e^\\alpha$.\n",
    "\n",
    "**Note**: You do not need to normalize the weights to sum to 1 - the code below will do that for you."
   ]
  },
  {
   "cell_type": "code",
   "execution_count": null,
   "metadata": {
    "deletable": false,
    "nbgrader": {
     "cell_type": "code",
     "checksum": "200668e842246c944166b55312106ced",
     "grade": false,
     "grade_id": "update_weights",
     "locked": false,
     "schema_version": 3,
     "solution": true,
     "task": false
    }
   },
   "outputs": [],
   "source": [
    "import math\n",
    "def update_weights(predictions, weights, y, alpha):\n",
    "    \"\"\"\n",
    "    Inputs:\n",
    "        predictions: the predictions (0 or 1) of the classifier in this round.\n",
    "        weights: the weights at the end of the previous round for each instance\n",
    "        y: the class labels (0 or 1) for the instances\n",
    "        alpha: the alpha value for this round\n",
    "    Output: an array of updated weights for this round\n",
    "    \"\"\"\n",
    "    # YOUR CODE HERE\n",
    "    raise NotImplementedError()"
   ]
  },
  {
   "cell_type": "code",
   "execution_count": null,
   "metadata": {},
   "outputs": [],
   "source": [
    "# Initialize the weights to 1 / n\n",
    "weights = np.repeat(1 / len(X), len(X))\n",
    "alpha = calculate_alpha(predictions, weights, y)\n",
    "# Do one round of updating\n",
    "new_weights = update_weights(predictions, weights, y, alpha) \n",
    "# See how the weights have changed for each instance - some increased, some decreased\n",
    "print(new_weights)"
   ]
  },
  {
   "cell_type": "code",
   "execution_count": null,
   "metadata": {
    "deletable": false,
    "editable": false,
    "nbgrader": {
     "cell_type": "code",
     "checksum": "45cb659f94cfc94cf4de4baaa60c992d",
     "grade": true,
     "grade_id": "update_weights-public",
     "locked": true,
     "points": 4,
     "schema_version": 3,
     "solution": false,
     "task": false
    }
   },
   "outputs": [],
   "source": [
    "weights = np.repeat(1 / len(X), len(X))\n",
    "# Do one round of updating\n",
    "new_weights = update_weights(predictions, weights, y, alpha) \n",
    "alpha = 0.8416209435087314\n",
    "np.testing.assert_almost_equal(max(new_weights), 1/300*math.exp(alpha))\n",
    "np.testing.assert_almost_equal(min(new_weights), 1/300/math.exp(alpha))"
   ]
  },
  {
   "cell_type": "markdown",
   "metadata": {
    "deletable": false,
    "editable": false,
    "nbgrader": {
     "cell_type": "markdown",
     "checksum": "24da8cfa676dc1fd9bc84f869095a4ce",
     "grade": false,
     "grade_id": "cell-f32f50069f5f8cff",
     "locked": true,
     "schema_version": 3,
     "solution": false,
     "task": false
    }
   },
   "source": [
    "### 2.3.3 Example: Adaboost Iteration\n",
    "\n",
    "**Note**: This problem is only required for 522 students; it is extra credit for 422 students.\n",
    "\n",
    "Here's our code for Adaboost. You don't have to modify it, just finish the functions above, and then answer the free-response question at the end.\n",
    "\n",
    "Why are we implementing it by hand? This way we can keep track of which samples were chosen each round to visualize them.\n",
    "\n",
    "When you run the following code, you can see the alpha values for each round, changing as the weights, and therefore the samples, change."
   ]
  },
  {
   "cell_type": "code",
   "execution_count": null,
   "metadata": {
    "deletable": false,
    "editable": false,
    "nbgrader": {
     "cell_type": "code",
     "checksum": "6f7b05e6c72747181e2692e3e5597208",
     "grade": false,
     "grade_id": "cell-054c5c4608d2ff88",
     "locked": true,
     "schema_version": 3,
     "solution": false,
     "task": false
    }
   },
   "outputs": [],
   "source": [
    "# Let's do 20 rounds of adaboost\n",
    "rounds = 20\n",
    "# N is the length of training data\n",
    "N = len(X)\n",
    "# Each boostrapped sample will b size N/5\n",
    "sample_size = N // 5\n",
    "\n",
    "# Each round, keep track of:\n",
    "# Which instances (indices) were samples\n",
    "sample_indices = []\n",
    "# The classifier built on that sample\n",
    "dtrees = []\n",
    "# The alpha value for each that round\n",
    "alphas = []\n",
    "\n",
    "# Start our weights off each as 1/N\n",
    "weights = np.repeat(1 / N, N)\n",
    "\n",
    "for i in range(rounds):\n",
    "    indices = np.random.choice(range(N), sample_size, replace=True, p=weights)\n",
    "    sample_X = X[indices,:]\n",
    "    sample_y = y[indices]\n",
    "    # Train a simple decision tree on the sample\n",
    "    dt = DecisionTreeClassifier(criterion = \"gini\", max_depth=1).fit(sample_X, sample_y)\n",
    "    predictions = dt.predict(X)\n",
    "    \n",
    "    # Calculate alpha\n",
    "    alpha = calculate_alpha(predictions, weights, y)\n",
    "    print(f'Round {i} Alpha: {alpha}')\n",
    "    \n",
    "    # Update weights\n",
    "    weights = update_weights(predictions, weights, y, alpha)\n",
    "    weights /= sum(weights)\n",
    "    \n",
    "    sample_indices.append(indices)\n",
    "    alphas.append(alpha)\n",
    "    dtrees.append(dt)"
   ]
  },
  {
   "cell_type": "code",
   "execution_count": null,
   "metadata": {
    "deletable": false,
    "editable": false,
    "nbgrader": {
     "cell_type": "code",
     "checksum": "abcac93fc14b6d01589dde7b75cd206c",
     "grade": false,
     "grade_id": "cell-90951cf7e445ea45",
     "locked": true,
     "schema_version": 3,
     "solution": false,
     "task": false
    }
   },
   "outputs": [],
   "source": [
    "# This function makes predictions for a given list of X features by taking the weighted sum of\n",
    "# its constituent classifiers' predictions.\n",
    "def boosting_predict(X_test):\n",
    "    return np.mean([(dtrees[i].predict(X_test) - 0.5) * alphas[i] for i in range(len(dtrees))], axis=0) + 0.5"
   ]
  },
  {
   "cell_type": "code",
   "execution_count": null,
   "metadata": {
    "deletable": false,
    "editable": false,
    "nbgrader": {
     "cell_type": "code",
     "checksum": "7e709dc5a70fd5b3d7f773fccd6ea46d",
     "grade": false,
     "grade_id": "cell-c52345667ce48266",
     "locked": true,
     "schema_version": 3,
     "solution": false,
     "task": false
    }
   },
   "outputs": [],
   "source": [
    "# Based on the image above, how should points (0, 0) and (1, 1) be classified?\n",
    "# Note that the output is continuous: > 0.5 means more likely to be 1.\n",
    "boosting_predict([[0, 0], [0, 1]])"
   ]
  },
  {
   "cell_type": "markdown",
   "metadata": {
    "deletable": false,
    "editable": false,
    "nbgrader": {
     "cell_type": "markdown",
     "checksum": "e617db917eb1ec219be0a0eab22fce82",
     "grade": false,
     "grade_id": "cell-aa9e0d696d181de4",
     "locked": true,
     "schema_version": 3,
     "solution": false,
     "task": false
    }
   },
   "source": [
    "The following code will plot the predictions from individual rounds of adaboost. Note:\n",
    "* The background color indicates the prediction.\n",
    "* The faded dots were *not* sampled in this round (e.g. because of their low weights)."
   ]
  },
  {
   "cell_type": "code",
   "execution_count": null,
   "metadata": {
    "deletable": false,
    "editable": false,
    "nbgrader": {
     "cell_type": "code",
     "checksum": "1c938cb8824c2e74ddf2bc84441b04eb",
     "grade": false,
     "grade_id": "cell-fcc5eadde9a14f4e",
     "locked": true,
     "schema_version": 3,
     "solution": false,
     "task": false
    }
   },
   "outputs": [],
   "source": [
    "# Here is a provided method that will plot the decision boundries of each stump\n",
    "\n",
    "def plot_predictions(pred_function, sample_indices, subplot=plt, continuous=False):\n",
    "    plot_colors = \"br\"\n",
    "    plot_step = 0.02\n",
    "    class_names = \"AB\"\n",
    "\n",
    "    #\n",
    "\n",
    "    # Plot the decision boundaries\n",
    "    x_min, x_max = X[:, 0].min() - 1, X[:, 0].max() + 1\n",
    "    y_min, y_max = X[:, 1].min() - 1, X[:, 1].max() + 1\n",
    "    xx, yy = np.meshgrid(np.arange(x_min, x_max, plot_step),\n",
    "                         np.arange(y_min, y_max, plot_step))\n",
    "\n",
    "    Z = pred_function(np.c_[xx.ravel(), yy.ravel()])\n",
    "    Z = Z.reshape(xx.shape)\n",
    "    if not continuous:\n",
    "        Z = np.round(Z)\n",
    "        cs = subplot.contourf(xx, yy, Z, cmap=plt.cm.Paired)\n",
    "    else:\n",
    "        cs = subplot.contourf(xx, yy, Z)\n",
    "\n",
    "    # Plot the training points\n",
    "    for i, n, c in zip(range(2), class_names, plot_colors):\n",
    "        idx = np.where(y == i)\n",
    "        in_sample_idx = np.intersect1d(idx, sample_indices)\n",
    "        subplot.scatter(X[in_sample_idx, 0], X[in_sample_idx, 1],\n",
    "                    c=c, cmap=plt.cm.Paired,\n",
    "                    s=20, edgecolor='k',\n",
    "                    label=\"Class %s (Sampled)\" % n)\n",
    "        out_sample_idx = np.setdiff1d(idx, in_sample_idx)\n",
    "        subplot.scatter(X[out_sample_idx, 0], X[out_sample_idx, 1],\n",
    "                    c=c, cmap=plt.cm.Paired,\n",
    "                    s=20, edgecolor='k', alpha=0.1,\n",
    "                    label=\"Class %s (Not Sampled)\" % n)\n"
   ]
  },
  {
   "cell_type": "markdown",
   "metadata": {
    "deletable": false,
    "editable": false,
    "nbgrader": {
     "cell_type": "markdown",
     "checksum": "7178b3db2c3044a782774fdf2e657788",
     "grade": false,
     "grade_id": "cell-51fe363d4a2d2ea8",
     "locked": true,
     "schema_version": 3,
     "solution": false,
     "task": false
    }
   },
   "source": [
    "Now we plot the first 12 rounds of adaboost:"
   ]
  },
  {
   "cell_type": "code",
   "execution_count": null,
   "metadata": {
    "deletable": false,
    "editable": false,
    "nbgrader": {
     "cell_type": "code",
     "checksum": "9804fededed1ce4aebc20e18b88bc3de",
     "grade": false,
     "grade_id": "cell-eae21eee36b34202",
     "locked": true,
     "schema_version": 3,
     "solution": false,
     "task": false
    }
   },
   "outputs": [],
   "source": [
    "rows = 4\n",
    "cols = 3\n",
    "\n",
    "figure, axis = plt.subplots(rows, cols, figsize=(15, 10))\n",
    "figure.tight_layout()\n",
    "\n",
    "for i in range(rows):\n",
    "    for j in range(cols):\n",
    "        idx = i*rows + j\n",
    "        subplot = plot_predictions(dtrees[idx].predict, sample_indices[idx], axis[i,j])\n",
    "        axis[i,j].title.set_text(f'Round {idx}: Alpha = {alphas[idx]}')\n",
    "\n",
    "plt.show()"
   ]
  },
  {
   "cell_type": "markdown",
   "metadata": {
    "deletable": false,
    "editable": false,
    "nbgrader": {
     "cell_type": "markdown",
     "checksum": "ff195861d3d112aed23bf96f4cbe5682",
     "grade": false,
     "grade_id": "cell-06bfa69d742f7d3f",
     "locked": true,
     "schema_version": 3,
     "solution": false,
     "task": false
    }
   },
   "source": [
    "Now answer the following questions:\n",
    "1. Which rounds are most important to the classification? What do they have in common?\n",
    "2. Do you notice any changes in the samples (and resulting classifiers) in later rounds of Adaboost?"
   ]
  },
  {
   "cell_type": "markdown",
   "metadata": {
    "deletable": false,
    "nbgrader": {
     "cell_type": "markdown",
     "checksum": "2bd83dbdb88b7374ef43ceb8925b5d99",
     "grade": true,
     "grade_id": "cell-4f4bb0b14d9893c9",
     "locked": false,
     "points": 2,
     "schema_version": 3,
     "solution": true,
     "task": false
    }
   },
   "source": [
    "YOUR ANSWER HERE"
   ]
  },
  {
   "cell_type": "markdown",
   "metadata": {
    "deletable": false,
    "editable": false,
    "nbgrader": {
     "cell_type": "markdown",
     "checksum": "5df8aad4f8d9443dc81935f23115bc6e",
     "grade": false,
     "grade_id": "cell-e73e75b33d9ce2ae",
     "locked": true,
     "schema_version": 3,
     "solution": false,
     "task": false
    }
   },
   "source": [
    "Finally, we can plot the whole adaboost classifier. Note the non-linear decision boundary.\n",
    "* The first plot shows the discrete boundary, comprised of all of the above weak classifiers.\n",
    "* The second plot shows the same prediction as a continuous boundary."
   ]
  },
  {
   "cell_type": "code",
   "execution_count": null,
   "metadata": {
    "deletable": false,
    "editable": false,
    "nbgrader": {
     "cell_type": "code",
     "checksum": "8350778bea5e47c655535b0bece1b03b",
     "grade": false,
     "grade_id": "cell-280cec5a4d32a015",
     "locked": true,
     "schema_version": 3,
     "solution": false,
     "task": false
    }
   },
   "outputs": [],
   "source": [
    "plot_predictions(boosting_predict, range(len(X)), plt)"
   ]
  },
  {
   "cell_type": "code",
   "execution_count": null,
   "metadata": {
    "deletable": false,
    "editable": false,
    "nbgrader": {
     "cell_type": "code",
     "checksum": "5efed8a3db87e8ab215b5c50f244305c",
     "grade": false,
     "grade_id": "cell-783d7129e43e87d9",
     "locked": true,
     "schema_version": 3,
     "solution": false,
     "task": false
    }
   },
   "outputs": [],
   "source": [
    "plot_predictions(boosting_predict, range(len(X)), plt, continuous=True)"
   ]
  },
  {
   "cell_type": "markdown",
   "metadata": {
    "deletable": false,
    "editable": false,
    "nbgrader": {
     "cell_type": "markdown",
     "checksum": "06496289af90324f638b26811808e286",
     "grade": false,
     "grade_id": "cell-7d7e77e2fb6c8cc5",
     "locked": true,
     "schema_version": 3,
     "solution": false,
     "task": false
    }
   },
   "source": [
    "Now answer the following questions:\n",
    "1. How can Adaboost create a non-linear boundary to accurately classify this shape?\n",
    "2. Which areas of the plot is the classifier most certain about, or least certain?"
   ]
  },
  {
   "cell_type": "markdown",
   "metadata": {
    "deletable": false,
    "nbgrader": {
     "cell_type": "markdown",
     "checksum": "bd3d6d76b684d8ab7ce28ef838838187",
     "grade": true,
     "grade_id": "cell-25b0d6d39582ecb3",
     "locked": false,
     "points": 2,
     "schema_version": 3,
     "solution": true,
     "task": false
    }
   },
   "source": [
    "YOUR ANSWER HERE"
   ]
  },
  {
   "cell_type": "markdown",
   "metadata": {},
   "source": [
    "**Remember**: Make sure to complete all problems (.ipynb files) in this assignment. When you finish, double-check the submission instructions at the top of this file, and submit on JupyterHub."
   ]
  }
 ],
 "metadata": {
  "kernelspec": {
   "display_name": "Python 3 (ipykernel)",
   "language": "python",
   "name": "python3"
  },
  "language_info": {
   "codemirror_mode": {
    "name": "ipython",
    "version": 3
   },
   "file_extension": ".py",
   "mimetype": "text/x-python",
   "name": "python",
   "nbconvert_exporter": "python",
   "pygments_lexer": "ipython3",
   "version": "3.9.15"
  },
  "vscode": {
   "interpreter": {
    "hash": "c261aea317cc0286b3b3261fbba9abdec21eaa57589985bb7a274bf54d6cc0a7"
   }
  }
 },
 "nbformat": 4,
 "nbformat_minor": 4
}
