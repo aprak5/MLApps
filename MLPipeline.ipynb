{
 "cells": [
  {
   "cell_type": "code",
   "execution_count": 35,
   "metadata": {},
   "outputs": [
    {
     "data": {
      "text/plain": [
       "'\\nName: Amit Prakash\\n'"
      ]
     },
     "execution_count": 35,
     "metadata": {},
     "output_type": "execute_result"
    }
   ],
   "source": [
    "\"\"\"\n",
    "Author: Amit Prakash\n",
    "\"\"\""
   ]
  },
  {
   "cell_type": "markdown",
   "metadata": {},
   "source": [
    "# **Evaluation Metrics and Hyperparameter Tuning**\n",
    "\n",
    "In this workshop, you'll looking at evaluation metrics and hyperparameter turning."
   ]
  },
  {
   "cell_type": "markdown",
   "metadata": {},
   "source": [
    "# 0 Loading Data and Libraries"
   ]
  },
  {
   "cell_type": "code",
   "execution_count": 36,
   "metadata": {
    "deletable": false,
    "editable": false,
    "nbgrader": {
     "cell_type": "code",
     "checksum": "63dcfddfc1e4547ee86ba5afafddeff8",
     "grade": false,
     "grade_id": "cell-5edb17c9957ed27e",
     "locked": true,
     "schema_version": 3,
     "solution": false,
     "task": false
    }
   },
   "outputs": [],
   "source": [
    "import numpy as np\n",
    "\n",
    "import pandas as pd\n",
    "import matplotlib.pyplot as plt\n",
    "import sklearn.metrics\n",
    "from sklearn import datasets\n",
    "# Remember you have to run this cell block before continuing!\n",
    "\n",
    "# We will use this random seed throughout to make things more deterministic for testing\n",
    "random_seed = 25"
   ]
  },
  {
   "cell_type": "markdown",
   "metadata": {
    "deletable": false,
    "editable": false,
    "nbgrader": {
     "cell_type": "markdown",
     "checksum": "0eafb532481b23fa55395b352decfc40",
     "grade": false,
     "grade_id": "cell-2fae64f787a55e35",
     "locked": true,
     "schema_version": 3,
     "solution": false,
     "task": false
    }
   },
   "source": [
    "# 1 Complete Pipeline"
   ]
  },
  {
   "cell_type": "markdown",
   "metadata": {
    "deletable": false,
    "editable": false,
    "nbgrader": {
     "cell_type": "markdown",
     "checksum": "53b3643cf1e02b9de15d7f75cf0707bf",
     "grade": false,
     "grade_id": "cell-alsjdaskjd",
     "locked": true,
     "schema_version": 3,
     "solution": false,
     "task": false
    }
   },
   "source": [
    "## 1.1 Loading the Data\n",
    "\n",
    "In this problem you will learn to calculate accuracy, precision, recall and f1-score for a classifier."
   ]
  },
  {
   "cell_type": "code",
   "execution_count": 37,
   "metadata": {},
   "outputs": [
    {
     "data": {
      "text/html": [
       "<div>\n",
       "<style scoped>\n",
       "    .dataframe tbody tr th:only-of-type {\n",
       "        vertical-align: middle;\n",
       "    }\n",
       "\n",
       "    .dataframe tbody tr th {\n",
       "        vertical-align: top;\n",
       "    }\n",
       "\n",
       "    .dataframe thead th {\n",
       "        text-align: right;\n",
       "    }\n",
       "</style>\n",
       "<table border=\"1\" class=\"dataframe\">\n",
       "  <thead>\n",
       "    <tr style=\"text-align: right;\">\n",
       "      <th></th>\n",
       "      <th>Unnamed: 0</th>\n",
       "      <th>polarity</th>\n",
       "      <th>id</th>\n",
       "      <th>date</th>\n",
       "      <th>query</th>\n",
       "      <th>user</th>\n",
       "      <th>text</th>\n",
       "    </tr>\n",
       "  </thead>\n",
       "  <tbody>\n",
       "    <tr>\n",
       "      <th>0</th>\n",
       "      <td>639736</td>\n",
       "      <td>0</td>\n",
       "      <td>1881528306</td>\n",
       "      <td>Fri May 22 04:54:30 PDT 2009</td>\n",
       "      <td>NO_QUERY</td>\n",
       "      <td>ClareMacG</td>\n",
       "      <td>where is he? hmmmm he didnt even reply to me t...</td>\n",
       "    </tr>\n",
       "    <tr>\n",
       "      <th>1</th>\n",
       "      <td>228095</td>\n",
       "      <td>0</td>\n",
       "      <td>1759081303</td>\n",
       "      <td>Sun May 10 18:25:07 PDT 2009</td>\n",
       "      <td>NO_QUERY</td>\n",
       "      <td>jaredhaha</td>\n",
       "      <td>family guy sucks tonight</td>\n",
       "    </tr>\n",
       "    <tr>\n",
       "      <th>2</th>\n",
       "      <td>689126</td>\n",
       "      <td>0</td>\n",
       "      <td>2322274292</td>\n",
       "      <td>Wed Jun 24 22:20:07 PDT 2009</td>\n",
       "      <td>NO_QUERY</td>\n",
       "      <td>spazzyyarn</td>\n",
       "      <td>@jesus_iscomin  I am so sorry, that sucks!</td>\n",
       "    </tr>\n",
       "    <tr>\n",
       "      <th>3</th>\n",
       "      <td>372153</td>\n",
       "      <td>0</td>\n",
       "      <td>1693569517</td>\n",
       "      <td>Sun May 03 22:59:23 PDT 2009</td>\n",
       "      <td>NO_QUERY</td>\n",
       "      <td>missprettylady</td>\n",
       "      <td>goin to bed...definitly didn't study like i wa...</td>\n",
       "    </tr>\n",
       "    <tr>\n",
       "      <th>4</th>\n",
       "      <td>365761</td>\n",
       "      <td>0</td>\n",
       "      <td>2244313762</td>\n",
       "      <td>Fri Jun 19 14:35:02 PDT 2009</td>\n",
       "      <td>NO_QUERY</td>\n",
       "      <td>jojoe777</td>\n",
       "      <td>just was at the hospital, long story made shor...</td>\n",
       "    </tr>\n",
       "    <tr>\n",
       "      <th>...</th>\n",
       "      <td>...</td>\n",
       "      <td>...</td>\n",
       "      <td>...</td>\n",
       "      <td>...</td>\n",
       "      <td>...</td>\n",
       "      <td>...</td>\n",
       "      <td>...</td>\n",
       "    </tr>\n",
       "    <tr>\n",
       "      <th>39995</th>\n",
       "      <td>513783</td>\n",
       "      <td>4</td>\n",
       "      <td>2176538881</td>\n",
       "      <td>Mon Jun 15 04:08:22 PDT 2009</td>\n",
       "      <td>NO_QUERY</td>\n",
       "      <td>desireecoake</td>\n",
       "      <td>i love to be tweeted</td>\n",
       "    </tr>\n",
       "    <tr>\n",
       "      <th>39996</th>\n",
       "      <td>136406</td>\n",
       "      <td>4</td>\n",
       "      <td>2003570557</td>\n",
       "      <td>Tue Jun 02 06:46:22 PDT 2009</td>\n",
       "      <td>NO_QUERY</td>\n",
       "      <td>cjy26</td>\n",
       "      <td>@jensen_ackles: I´m from german, I have seen B...</td>\n",
       "    </tr>\n",
       "    <tr>\n",
       "      <th>39997</th>\n",
       "      <td>241025</td>\n",
       "      <td>4</td>\n",
       "      <td>1833410879</td>\n",
       "      <td>Sun May 17 23:12:01 PDT 2009</td>\n",
       "      <td>NO_QUERY</td>\n",
       "      <td>Twitchyier</td>\n",
       "      <td>@angelnina if you and I were neighbors the who...</td>\n",
       "    </tr>\n",
       "    <tr>\n",
       "      <th>39998</th>\n",
       "      <td>501275</td>\n",
       "      <td>4</td>\n",
       "      <td>1824226638</td>\n",
       "      <td>Sun May 17 00:30:54 PDT 2009</td>\n",
       "      <td>NO_QUERY</td>\n",
       "      <td>jessa_hugz</td>\n",
       "      <td>HAPPY BDAY BOBBY!!! (ebony)</td>\n",
       "    </tr>\n",
       "    <tr>\n",
       "      <th>39999</th>\n",
       "      <td>386464</td>\n",
       "      <td>4</td>\n",
       "      <td>1957171175</td>\n",
       "      <td>Thu May 28 23:43:08 PDT 2009</td>\n",
       "      <td>NO_QUERY</td>\n",
       "      <td>BradleyJean</td>\n",
       "      <td>hello to all my new followers! &amp;amp; thanks fo...</td>\n",
       "    </tr>\n",
       "  </tbody>\n",
       "</table>\n",
       "<p>40000 rows × 7 columns</p>\n",
       "</div>"
      ],
      "text/plain": [
       "       Unnamed: 0  polarity          id                          date  \\\n",
       "0          639736         0  1881528306  Fri May 22 04:54:30 PDT 2009   \n",
       "1          228095         0  1759081303  Sun May 10 18:25:07 PDT 2009   \n",
       "2          689126         0  2322274292  Wed Jun 24 22:20:07 PDT 2009   \n",
       "3          372153         0  1693569517  Sun May 03 22:59:23 PDT 2009   \n",
       "4          365761         0  2244313762  Fri Jun 19 14:35:02 PDT 2009   \n",
       "...           ...       ...         ...                           ...   \n",
       "39995      513783         4  2176538881  Mon Jun 15 04:08:22 PDT 2009   \n",
       "39996      136406         4  2003570557  Tue Jun 02 06:46:22 PDT 2009   \n",
       "39997      241025         4  1833410879  Sun May 17 23:12:01 PDT 2009   \n",
       "39998      501275         4  1824226638  Sun May 17 00:30:54 PDT 2009   \n",
       "39999      386464         4  1957171175  Thu May 28 23:43:08 PDT 2009   \n",
       "\n",
       "          query            user  \\\n",
       "0      NO_QUERY       ClareMacG   \n",
       "1      NO_QUERY       jaredhaha   \n",
       "2      NO_QUERY      spazzyyarn   \n",
       "3      NO_QUERY  missprettylady   \n",
       "4      NO_QUERY        jojoe777   \n",
       "...         ...             ...   \n",
       "39995  NO_QUERY    desireecoake   \n",
       "39996  NO_QUERY           cjy26   \n",
       "39997  NO_QUERY      Twitchyier   \n",
       "39998  NO_QUERY      jessa_hugz   \n",
       "39999  NO_QUERY     BradleyJean   \n",
       "\n",
       "                                                    text  \n",
       "0      where is he? hmmmm he didnt even reply to me t...  \n",
       "1                              family guy sucks tonight   \n",
       "2             @jesus_iscomin  I am so sorry, that sucks!  \n",
       "3      goin to bed...definitly didn't study like i wa...  \n",
       "4      just was at the hospital, long story made shor...  \n",
       "...                                                  ...  \n",
       "39995                              i love to be tweeted   \n",
       "39996  @jensen_ackles: I´m from german, I have seen B...  \n",
       "39997  @angelnina if you and I were neighbors the who...  \n",
       "39998                       HAPPY BDAY BOBBY!!! (ebony)   \n",
       "39999  hello to all my new followers! &amp; thanks fo...  \n",
       "\n",
       "[40000 rows x 7 columns]"
      ]
     },
     "execution_count": 37,
     "metadata": {},
     "output_type": "execute_result"
    }
   ],
   "source": [
    "from sklearn.datasets import make_classification\n",
    "from sklearn.model_selection import train_test_split\n",
    "\n",
    "raw_data = pd.read_csv('hw2_p3.csv')\n",
    "raw_data"
   ]
  },
  {
   "cell_type": "markdown",
   "metadata": {},
   "source": [
    "We sample a subset of the dataset (stored as \"X\" and \"Y\") in order to avoid long running time. Now practice the train/test split function to create a training and testing dataset with the **\"random_seed\"** we defined at very beginning and the belowed **\"test_data_fraction\"**"
   ]
  },
  {
   "cell_type": "code",
   "execution_count": 38,
   "metadata": {
    "deletable": false,
    "nbgrader": {
     "cell_type": "code",
     "checksum": "31c53f60b9fe8210b85ac980e229bc06",
     "grade": false,
     "grade_id": "cell-cc7c5aa8554728a7",
     "locked": false,
     "schema_version": 3,
     "solution": true,
     "task": false
    }
   },
   "outputs": [],
   "source": [
    "data = raw_data.sample(frac = 0.3, random_state = random_seed)\n",
    "X = data[\"text\"]\n",
    "Y = data[\"polarity\"] == 4\n",
    "\n",
    "test_data_fraction = 0.2\n",
    "## TODO: Make the train/test split this time\n",
    "X_train = None\n",
    "X_test = None\n",
    "Y_train = None\n",
    "Y_test = None\n",
    "# YOUR CODE HERE\n",
    "X_train, X_test = train_test_split(X, test_size = test_data_fraction, random_state = random_seed)\n",
    "Y_train, Y_test = train_test_split(Y, test_size = test_data_fraction, random_state = random_seed)"
   ]
  },
  {
   "cell_type": "markdown",
   "metadata": {},
   "source": [
    "Note that the X features contain just one attribute, a string value from the tweet."
   ]
  },
  {
   "cell_type": "code",
   "execution_count": 39,
   "metadata": {},
   "outputs": [
    {
     "data": {
      "text/plain": [
       "1911                               @JF_Kennedy  She would.\n",
       "18637           @ChesterBe I can't download the new song! \n",
       "21470    @DJTygerLilly technically 130p but come anytim...\n",
       "24912    YAY! I'm proud of my friend!  she rocks, she w...\n",
       "14877    NICE! the 3.0 jailbreak is out (mac only) too ...\n",
       "                               ...                        \n",
       "22283    i can't find rock band! what the hell am i goi...\n",
       "20734    @billyraycyrus Would you be able 2 ask Miley 2...\n",
       "4776     @rachmurrayX nothing  its depressing, i could ...\n",
       "5283                             Not in Texas anymore.... \n",
       "31180    Just been to a catexibition  my friend will pr...\n",
       "Name: text, Length: 9600, dtype: object"
      ]
     },
     "execution_count": 39,
     "metadata": {},
     "output_type": "execute_result"
    }
   ],
   "source": [
    "X_train"
   ]
  },
  {
   "cell_type": "markdown",
   "metadata": {},
   "source": [
    "The y values are True (for polarity = 4) and False otherwise."
   ]
  },
  {
   "cell_type": "code",
   "execution_count": 40,
   "metadata": {},
   "outputs": [
    {
     "data": {
      "text/plain": [
       "1911     False\n",
       "18637    False\n",
       "21470     True\n",
       "24912     True\n",
       "14877    False\n",
       "         ...  \n",
       "22283     True\n",
       "20734     True\n",
       "4776     False\n",
       "5283     False\n",
       "31180     True\n",
       "Name: polarity, Length: 9600, dtype: bool"
      ]
     },
     "execution_count": 40,
     "metadata": {},
     "output_type": "execute_result"
    }
   ],
   "source": [
    "Y_train"
   ]
  },
  {
   "cell_type": "code",
   "execution_count": 41,
   "metadata": {},
   "outputs": [
    {
     "data": {
      "text/plain": [
       "10858                                    Is having a day! \n",
       "3072     @brimoni ahh im soo sowwyyy   i love u &amp; @...\n",
       "39679    This one was a different for me  Unusual but I...\n",
       "26976    @tongits lol I can't even look - too busy to g...\n",
       "29816    @piarincess I need to have lunch with you!  ASAP \n",
       "                               ...                        \n",
       "14717                           going bag paking in asda  \n",
       "28469    @jadb Get 100 followers a day using www.tweete...\n",
       "37185    Train tickets for Nottingham just came  Anyone...\n",
       "8450     I am do bummed out... My Internet on my laptop...\n",
       "12604    apparently, there was a gigantic Vista SP2 upd...\n",
       "Name: text, Length: 2400, dtype: object"
      ]
     },
     "execution_count": 41,
     "metadata": {},
     "output_type": "execute_result"
    }
   ],
   "source": [
    "X_test"
   ]
  },
  {
   "cell_type": "code",
   "execution_count": 42,
   "metadata": {},
   "outputs": [
    {
     "data": {
      "text/plain": [
       "10858    False\n",
       "3072     False\n",
       "39679     True\n",
       "26976     True\n",
       "29816     True\n",
       "         ...  \n",
       "14717    False\n",
       "28469     True\n",
       "37185     True\n",
       "8450     False\n",
       "12604    False\n",
       "Name: polarity, Length: 2400, dtype: bool"
      ]
     },
     "execution_count": 42,
     "metadata": {},
     "output_type": "execute_result"
    }
   ],
   "source": [
    "Y_test"
   ]
  },
  {
   "cell_type": "code",
   "execution_count": 43,
   "metadata": {
    "deletable": false,
    "editable": false,
    "nbgrader": {
     "cell_type": "code",
     "checksum": "5a32198d82fed50874864c28492a7f04",
     "grade": true,
     "grade_id": "cell-e928a8e016e1814e",
     "locked": true,
     "points": 3,
     "schema_version": 3,
     "solution": false,
     "task": false
    }
   },
   "outputs": [],
   "source": [
    "np.testing.assert_equal(len(X_train),9600)\n",
    "np.testing.assert_equal(len(Y_test),2400)\n",
    "np.testing.assert_equal(type(X_test),pd.Series)"
   ]
  },
  {
   "cell_type": "markdown",
   "metadata": {
    "deletable": false,
    "editable": false,
    "nbgrader": {
     "cell_type": "markdown",
     "checksum": "e2b7689e0bbb1bf57d9d06a4a97a1483",
     "grade": false,
     "grade_id": "cell-307e8bfcba3ffd01",
     "locked": true,
     "schema_version": 3,
     "solution": false,
     "task": false
    }
   },
   "source": [
    "## 1.2 Classification Pipeline\n",
    "\n",
    "In this problem you will create a [Pipeline](https://scikit-learn.org/stable/modules/generated/sklearn.pipeline.Pipeline.html), which is a nice tool provided by sklearn, to apply a list of transforms or model traning sequencially, pipeline class allows sticking multiple processes into a single estimator, it can be used to automate a machine learning workflow that involves multiple steps. For example:\n",
    "\n",
    "1. We need to extract our TFIDF features from the twitter data, just like we did in hw2-p2.\n",
    "2. Then we need to build a classifierusing our new TFIDF features.\n",
    "\n",
    "The advantage of putting these steps together into a pipeline, is that we can apply them repeatedly, e.g. to the training data and the test data.\n",
    "\n",
    "Additionally, for hyperparameter tuning, we often use k-fold cross validation, where we have many different training/test datasets, making the pipeline even more useful.\n",
    "\n",
    "Here is a brief example of how to use pipeline function:"
   ]
  },
  {
   "cell_type": "code",
   "execution_count": 44,
   "metadata": {},
   "outputs": [
    {
     "name": "stdout",
     "output_type": "stream",
     "text": [
      "Accuracy: 0.88\n"
     ]
    }
   ],
   "source": [
    "from sklearn.svm import SVC\n",
    "from sklearn.preprocessing import StandardScaler\n",
    "from sklearn.pipeline import Pipeline\n",
    "\n",
    "# Put the example in a function so we don't overwrite our variables\n",
    "def example():\n",
    "    X, y = make_classification(random_state=0)\n",
    "    X_train, X_test, y_train, y_test = train_test_split(X, y, random_state=0)\n",
    "\n",
    "    # Create a pipeline composed of a standard scaler, and an SVC classifier\n",
    "    pipe = Pipeline([('scaler', StandardScaler()), ('svc', SVC())])\n",
    "\n",
    "    # Fit the pipeline to the training data (just like you would any other classifier)\n",
    "    # Both scaling and fitting will be performed\n",
    "    pipe.fit(X_train, y_train)\n",
    "\n",
    "    # Use the fitted pipeline (i.e. the fit scaler and trained classifier) to score the test data\n",
    "    # This will first scale X_test, then predict y-values for this data, and finally compute accuracy\n",
    "    accuracy = pipe.score(X_test, y_test)\n",
    "    print(f\"Accuracy: {accuracy}\")\n",
    "\n",
    "example()\n"
   ]
  },
  {
   "cell_type": "markdown",
   "metadata": {
    "deletable": false,
    "editable": false,
    "nbgrader": {
     "cell_type": "markdown",
     "checksum": "6b739aaa2c032083867a685d4374dd2f",
     "grade": false,
     "grade_id": "cell-191fb0e6eabae475",
     "locked": true,
     "schema_version": 3,
     "solution": false,
     "task": false
    }
   },
   "source": [
    "Now it is your turn to practice the pipeline function, create a pipeline including **1) tfidf vectorizer 2) KNN model (with 5 neighbors)** (You can refer back to the problem in hw2-p2). Store the pipeline object as **KNN_pipeline**"
   ]
  },
  {
   "cell_type": "code",
   "execution_count": 45,
   "metadata": {
    "deletable": false,
    "nbgrader": {
     "cell_type": "code",
     "checksum": "c38295118ce0ae5e4dbf6de7ca7c5783",
     "grade": false,
     "grade_id": "cell-8a650d0c64a1d983",
     "locked": false,
     "schema_version": 3,
     "solution": true,
     "task": false
    }
   },
   "outputs": [
    {
     "data": {
      "text/html": [
       "<style>#sk-container-id-4 {color: black;}#sk-container-id-4 pre{padding: 0;}#sk-container-id-4 div.sk-toggleable {background-color: white;}#sk-container-id-4 label.sk-toggleable__label {cursor: pointer;display: block;width: 100%;margin-bottom: 0;padding: 0.3em;box-sizing: border-box;text-align: center;}#sk-container-id-4 label.sk-toggleable__label-arrow:before {content: \"▸\";float: left;margin-right: 0.25em;color: #696969;}#sk-container-id-4 label.sk-toggleable__label-arrow:hover:before {color: black;}#sk-container-id-4 div.sk-estimator:hover label.sk-toggleable__label-arrow:before {color: black;}#sk-container-id-4 div.sk-toggleable__content {max-height: 0;max-width: 0;overflow: hidden;text-align: left;background-color: #f0f8ff;}#sk-container-id-4 div.sk-toggleable__content pre {margin: 0.2em;color: black;border-radius: 0.25em;background-color: #f0f8ff;}#sk-container-id-4 input.sk-toggleable__control:checked~div.sk-toggleable__content {max-height: 200px;max-width: 100%;overflow: auto;}#sk-container-id-4 input.sk-toggleable__control:checked~label.sk-toggleable__label-arrow:before {content: \"▾\";}#sk-container-id-4 div.sk-estimator input.sk-toggleable__control:checked~label.sk-toggleable__label {background-color: #d4ebff;}#sk-container-id-4 div.sk-label input.sk-toggleable__control:checked~label.sk-toggleable__label {background-color: #d4ebff;}#sk-container-id-4 input.sk-hidden--visually {border: 0;clip: rect(1px 1px 1px 1px);clip: rect(1px, 1px, 1px, 1px);height: 1px;margin: -1px;overflow: hidden;padding: 0;position: absolute;width: 1px;}#sk-container-id-4 div.sk-estimator {font-family: monospace;background-color: #f0f8ff;border: 1px dotted black;border-radius: 0.25em;box-sizing: border-box;margin-bottom: 0.5em;}#sk-container-id-4 div.sk-estimator:hover {background-color: #d4ebff;}#sk-container-id-4 div.sk-parallel-item::after {content: \"\";width: 100%;border-bottom: 1px solid gray;flex-grow: 1;}#sk-container-id-4 div.sk-label:hover label.sk-toggleable__label {background-color: #d4ebff;}#sk-container-id-4 div.sk-serial::before {content: \"\";position: absolute;border-left: 1px solid gray;box-sizing: border-box;top: 0;bottom: 0;left: 50%;z-index: 0;}#sk-container-id-4 div.sk-serial {display: flex;flex-direction: column;align-items: center;background-color: white;padding-right: 0.2em;padding-left: 0.2em;position: relative;}#sk-container-id-4 div.sk-item {position: relative;z-index: 1;}#sk-container-id-4 div.sk-parallel {display: flex;align-items: stretch;justify-content: center;background-color: white;position: relative;}#sk-container-id-4 div.sk-item::before, #sk-container-id-4 div.sk-parallel-item::before {content: \"\";position: absolute;border-left: 1px solid gray;box-sizing: border-box;top: 0;bottom: 0;left: 50%;z-index: -1;}#sk-container-id-4 div.sk-parallel-item {display: flex;flex-direction: column;z-index: 1;position: relative;background-color: white;}#sk-container-id-4 div.sk-parallel-item:first-child::after {align-self: flex-end;width: 50%;}#sk-container-id-4 div.sk-parallel-item:last-child::after {align-self: flex-start;width: 50%;}#sk-container-id-4 div.sk-parallel-item:only-child::after {width: 0;}#sk-container-id-4 div.sk-dashed-wrapped {border: 1px dashed gray;margin: 0 0.4em 0.5em 0.4em;box-sizing: border-box;padding-bottom: 0.4em;background-color: white;}#sk-container-id-4 div.sk-label label {font-family: monospace;font-weight: bold;display: inline-block;line-height: 1.2em;}#sk-container-id-4 div.sk-label-container {text-align: center;}#sk-container-id-4 div.sk-container {/* jupyter's `normalize.less` sets `[hidden] { display: none; }` but bootstrap.min.css set `[hidden] { display: none !important; }` so we also need the `!important` here to be able to override the default hidden behavior on the sphinx rendered scikit-learn.org. See: https://github.com/scikit-learn/scikit-learn/issues/21755 */display: inline-block !important;position: relative;}#sk-container-id-4 div.sk-text-repr-fallback {display: none;}</style><div id=\"sk-container-id-4\" class=\"sk-top-container\"><div class=\"sk-text-repr-fallback\"><pre>Pipeline(steps=[(&#x27;scaler&#x27;, TfidfVectorizer()), (&#x27;knn&#x27;, KNeighborsClassifier())])</pre><b>In a Jupyter environment, please rerun this cell to show the HTML representation or trust the notebook. <br />On GitHub, the HTML representation is unable to render, please try loading this page with nbviewer.org.</b></div><div class=\"sk-container\" hidden><div class=\"sk-item sk-dashed-wrapped\"><div class=\"sk-label-container\"><div class=\"sk-label sk-toggleable\"><input class=\"sk-toggleable__control sk-hidden--visually\" id=\"sk-estimator-id-12\" type=\"checkbox\" ><label for=\"sk-estimator-id-12\" class=\"sk-toggleable__label sk-toggleable__label-arrow\">Pipeline</label><div class=\"sk-toggleable__content\"><pre>Pipeline(steps=[(&#x27;scaler&#x27;, TfidfVectorizer()), (&#x27;knn&#x27;, KNeighborsClassifier())])</pre></div></div></div><div class=\"sk-serial\"><div class=\"sk-item\"><div class=\"sk-estimator sk-toggleable\"><input class=\"sk-toggleable__control sk-hidden--visually\" id=\"sk-estimator-id-13\" type=\"checkbox\" ><label for=\"sk-estimator-id-13\" class=\"sk-toggleable__label sk-toggleable__label-arrow\">TfidfVectorizer</label><div class=\"sk-toggleable__content\"><pre>TfidfVectorizer()</pre></div></div></div><div class=\"sk-item\"><div class=\"sk-estimator sk-toggleable\"><input class=\"sk-toggleable__control sk-hidden--visually\" id=\"sk-estimator-id-14\" type=\"checkbox\" ><label for=\"sk-estimator-id-14\" class=\"sk-toggleable__label sk-toggleable__label-arrow\">KNeighborsClassifier</label><div class=\"sk-toggleable__content\"><pre>KNeighborsClassifier()</pre></div></div></div></div></div></div></div>"
      ],
      "text/plain": [
       "Pipeline(steps=[('scaler', TfidfVectorizer()), ('knn', KNeighborsClassifier())])"
      ]
     },
     "execution_count": 45,
     "metadata": {},
     "output_type": "execute_result"
    }
   ],
   "source": [
    "from sklearn.feature_extraction.text import TfidfVectorizer\n",
    "from sklearn.neighbors import KNeighborsClassifier\n",
    "\n",
    "\n",
    "KNN_pipeline = Pipeline([('scaler', TfidfVectorizer()), ('knn', KNeighborsClassifier())])\n",
    "KNN_pipeline.fit(X_train, Y_train)"
   ]
  },
  {
   "cell_type": "code",
   "execution_count": 46,
   "metadata": {
    "deletable": false,
    "editable": false,
    "nbgrader": {
     "cell_type": "code",
     "checksum": "64e2a0c02dc300968fc0c908514be0e9",
     "grade": true,
     "grade_id": "cell-9a68db6e2ce04989",
     "locked": true,
     "points": 2,
     "schema_version": 3,
     "solution": false,
     "task": false
    }
   },
   "outputs": [],
   "source": [
    "np.testing.assert_equal(type(KNN_pipeline),sklearn.pipeline.Pipeline)\n",
    "np.testing.assert_equal(len(KNN_pipeline.named_steps),2)"
   ]
  },
  {
   "cell_type": "markdown",
   "metadata": {
    "deletable": false,
    "editable": false,
    "nbgrader": {
     "cell_type": "markdown",
     "checksum": "4fc126f2b66a95684066a8e10653461a",
     "grade": false,
     "grade_id": "cell-0041e152e9275783",
     "locked": true,
     "schema_version": 3,
     "solution": false,
     "task": false
    }
   },
   "source": [
    "Now let's evaluate the knn pipeline, use the training set to train the pipeline and make prediction on the testing set. Compare the result with the true labels of the testing set and calculate the accuracy score. Store the accuracy in the variable **\"test_accuracy\"** "
   ]
  },
  {
   "cell_type": "code",
   "execution_count": 47,
   "metadata": {
    "deletable": false,
    "nbgrader": {
     "cell_type": "code",
     "checksum": "9ee1f403ca2061a4b8faf9a4f5d00eb2",
     "grade": false,
     "grade_id": "cell-e4a9286f6128fcfe",
     "locked": false,
     "schema_version": 3,
     "solution": true,
     "task": false
    }
   },
   "outputs": [],
   "source": [
    "from sklearn.metrics import accuracy_score\n",
    "\n",
    "test_accuracy = KNN_pipeline.score(X_test, Y_test)"
   ]
  },
  {
   "cell_type": "code",
   "execution_count": 48,
   "metadata": {
    "deletable": false,
    "editable": false,
    "nbgrader": {
     "cell_type": "code",
     "checksum": "bcc3ff9fc4978ad68b5ab66b49600e03",
     "grade": true,
     "grade_id": "cell-6c0d38b77b5989e4",
     "locked": true,
     "points": 2,
     "schema_version": 3,
     "solution": false,
     "task": false
    }
   },
   "outputs": [],
   "source": [
    "np.testing.assert_almost_equal(test_accuracy,0.675)"
   ]
  },
  {
   "cell_type": "markdown",
   "metadata": {
    "deletable": false,
    "editable": false,
    "nbgrader": {
     "cell_type": "markdown",
     "checksum": "051ec7526ea5faaa6f5e79212f8488f0",
     "grade": false,
     "grade_id": "cell-fe923f6e8300e7b2",
     "locked": true,
     "schema_version": 3,
     "solution": false,
     "task": false
    }
   },
   "source": [
    "As you can see from the aboved result, the test accuracy is not as good as we expected. Now let's play with some hyperparameter tuning to see whether we can achieve better results with the optimized parameters, choosing the best value for $k$.\n",
    "\n",
    "Let's take a look at the below example on hyper-parameter tuning of the **KNN_pipeline** we created previously, using the [GridSearchCV](https://scikit-learn.org/stable/tutorial/statistical_inference/putting_together.html) function. The goal is to find the best value for $k$ (number of neighbors) in the KNN classifier, and we'll test the following values: [1,3,5,7,10].\n",
    "\n",
    "GridSearchCV will try each of these values, and then determine the best one by performing k-fold crossvalidation _within the training dataset_. If a value of k does well on unseen validation data, it will probably do well with test data.\n",
    "\n",
    "**HINT**: Select the best hyperparameter value only based on the training data\n",
    "\n",
    "**Note**: This may take a moment, since the GridSearch performs CV (multiple train/tests splits) with every hyperparameter value, leading to lots of model training and testing."
   ]
  },
  {
   "cell_type": "code",
   "execution_count": 49,
   "metadata": {},
   "outputs": [
    {
     "name": "stdout",
     "output_type": "stream",
     "text": [
      "Best parameter: {'knn__n_neighbors': 7}, CV score = 0.6789583333333333:\n",
      "The testing accuracy with the best parameter is: 0.6883333333333334\n"
     ]
    }
   ],
   "source": [
    "from sklearn.model_selection import GridSearchCV\n",
    "\n",
    "# Define the hyperparameter we hope to tune.\n",
    "param_grid = {\n",
    "    \"knn__n_neighbors\": [1,3,5,7,10]\n",
    "}\n",
    "# Run the hyperparameter tuning with the training dataset, this will take a while to run.\n",
    "KNN_tuned_pipeline = GridSearchCV(KNN_pipeline, param_grid)\n",
    "KNN_tuned_pipeline.fit(X_train,Y_train)\n",
    "\n",
    "# Print out the best parameter as well as the cross-validated score of the best_estimator.\n",
    "print(\"Best parameter: {}, CV score = {}:\".format(KNN_tuned_pipeline.best_params_,KNN_tuned_pipeline.best_score_))\n",
    "\n",
    "# Now let's make prediction on the testing data with the best found parameters and check whether we can achieve higher accuracy.\n",
    "print(\"The testing accuracy with the best parameter is: {}\".format(accuracy_score(KNN_tuned_pipeline.predict(X_test), Y_test)))"
   ]
  },
  {
   "cell_type": "markdown",
   "metadata": {
    "deletable": false,
    "editable": false,
    "nbgrader": {
     "cell_type": "markdown",
     "checksum": "22aefae6995f110bc51111778d1be854",
     "grade": false,
     "grade_id": "cell-a12a3bd50b8feef8",
     "locked": true,
     "schema_version": 3,
     "solution": false,
     "task": false
    }
   },
   "source": [
    "Now it is your turn. Create the similar pipeline (with the TFIDF vectorizer, followed by a model) for the decision tree and adaboost classifiers. Then perform hyperparameter tuning to create a tuned version of each pipeline. Make sure to fit the pipelines with the **training data** you have -- selecting a hyperparameter using the test data gives an unfair advantage."
   ]
  },
  {
   "cell_type": "markdown",
   "metadata": {
    "deletable": false,
    "editable": false,
    "nbgrader": {
     "cell_type": "markdown",
     "checksum": "7356789ce5ef7673f3d449dea7f10396",
     "grade": false,
     "grade_id": "cell-57c4979d5ad3e1be",
     "locked": true,
     "schema_version": 3,
     "solution": false,
     "task": false
    }
   },
   "source": [
    "For [decision tree](https://scikit-learn.org/stable/modules/generated/sklearn.tree.DecisionTreeClassifier.html), make sure to use the **`random_seed`** we created at very beginning. For the hyperparameter tuning, use the `GridSearchCV` to select the best criterion from **{“gini”, “entropy”}**, and the best  max_depth from **[2,3,4,5]**. \n",
    "\n",
    "Make sure to:\n",
    "\n",
    "1. Create the pipeline\n",
    "2. Tune it with CV\n",
    "3. Fit it to the training data"
   ]
  },
  {
   "cell_type": "code",
   "execution_count": 50,
   "metadata": {
    "deletable": false,
    "nbgrader": {
     "cell_type": "code",
     "checksum": "a47cd4c4ec05ee410f018a0f234e4934",
     "grade": false,
     "grade_id": "cell-eef14b7d60e9a971",
     "locked": false,
     "schema_version": 3,
     "solution": true,
     "task": false
    }
   },
   "outputs": [
    {
     "data": {
      "text/html": [
       "<style>#sk-container-id-5 {color: black;}#sk-container-id-5 pre{padding: 0;}#sk-container-id-5 div.sk-toggleable {background-color: white;}#sk-container-id-5 label.sk-toggleable__label {cursor: pointer;display: block;width: 100%;margin-bottom: 0;padding: 0.3em;box-sizing: border-box;text-align: center;}#sk-container-id-5 label.sk-toggleable__label-arrow:before {content: \"▸\";float: left;margin-right: 0.25em;color: #696969;}#sk-container-id-5 label.sk-toggleable__label-arrow:hover:before {color: black;}#sk-container-id-5 div.sk-estimator:hover label.sk-toggleable__label-arrow:before {color: black;}#sk-container-id-5 div.sk-toggleable__content {max-height: 0;max-width: 0;overflow: hidden;text-align: left;background-color: #f0f8ff;}#sk-container-id-5 div.sk-toggleable__content pre {margin: 0.2em;color: black;border-radius: 0.25em;background-color: #f0f8ff;}#sk-container-id-5 input.sk-toggleable__control:checked~div.sk-toggleable__content {max-height: 200px;max-width: 100%;overflow: auto;}#sk-container-id-5 input.sk-toggleable__control:checked~label.sk-toggleable__label-arrow:before {content: \"▾\";}#sk-container-id-5 div.sk-estimator input.sk-toggleable__control:checked~label.sk-toggleable__label {background-color: #d4ebff;}#sk-container-id-5 div.sk-label input.sk-toggleable__control:checked~label.sk-toggleable__label {background-color: #d4ebff;}#sk-container-id-5 input.sk-hidden--visually {border: 0;clip: rect(1px 1px 1px 1px);clip: rect(1px, 1px, 1px, 1px);height: 1px;margin: -1px;overflow: hidden;padding: 0;position: absolute;width: 1px;}#sk-container-id-5 div.sk-estimator {font-family: monospace;background-color: #f0f8ff;border: 1px dotted black;border-radius: 0.25em;box-sizing: border-box;margin-bottom: 0.5em;}#sk-container-id-5 div.sk-estimator:hover {background-color: #d4ebff;}#sk-container-id-5 div.sk-parallel-item::after {content: \"\";width: 100%;border-bottom: 1px solid gray;flex-grow: 1;}#sk-container-id-5 div.sk-label:hover label.sk-toggleable__label {background-color: #d4ebff;}#sk-container-id-5 div.sk-serial::before {content: \"\";position: absolute;border-left: 1px solid gray;box-sizing: border-box;top: 0;bottom: 0;left: 50%;z-index: 0;}#sk-container-id-5 div.sk-serial {display: flex;flex-direction: column;align-items: center;background-color: white;padding-right: 0.2em;padding-left: 0.2em;position: relative;}#sk-container-id-5 div.sk-item {position: relative;z-index: 1;}#sk-container-id-5 div.sk-parallel {display: flex;align-items: stretch;justify-content: center;background-color: white;position: relative;}#sk-container-id-5 div.sk-item::before, #sk-container-id-5 div.sk-parallel-item::before {content: \"\";position: absolute;border-left: 1px solid gray;box-sizing: border-box;top: 0;bottom: 0;left: 50%;z-index: -1;}#sk-container-id-5 div.sk-parallel-item {display: flex;flex-direction: column;z-index: 1;position: relative;background-color: white;}#sk-container-id-5 div.sk-parallel-item:first-child::after {align-self: flex-end;width: 50%;}#sk-container-id-5 div.sk-parallel-item:last-child::after {align-self: flex-start;width: 50%;}#sk-container-id-5 div.sk-parallel-item:only-child::after {width: 0;}#sk-container-id-5 div.sk-dashed-wrapped {border: 1px dashed gray;margin: 0 0.4em 0.5em 0.4em;box-sizing: border-box;padding-bottom: 0.4em;background-color: white;}#sk-container-id-5 div.sk-label label {font-family: monospace;font-weight: bold;display: inline-block;line-height: 1.2em;}#sk-container-id-5 div.sk-label-container {text-align: center;}#sk-container-id-5 div.sk-container {/* jupyter's `normalize.less` sets `[hidden] { display: none; }` but bootstrap.min.css set `[hidden] { display: none !important; }` so we also need the `!important` here to be able to override the default hidden behavior on the sphinx rendered scikit-learn.org. See: https://github.com/scikit-learn/scikit-learn/issues/21755 */display: inline-block !important;position: relative;}#sk-container-id-5 div.sk-text-repr-fallback {display: none;}</style><div id=\"sk-container-id-5\" class=\"sk-top-container\"><div class=\"sk-text-repr-fallback\"><pre>GridSearchCV(estimator=Pipeline(steps=[(&#x27;scaler&#x27;, TfidfVectorizer()),\n",
       "                                       (&#x27;dt&#x27;,\n",
       "                                        DecisionTreeClassifier(random_state=25))]),\n",
       "             param_grid={&#x27;dt__criterion&#x27;: [&#x27;gini&#x27;, &#x27;entropy&#x27;],\n",
       "                         &#x27;dt__max_depth&#x27;: [2, 3, 4, 5]})</pre><b>In a Jupyter environment, please rerun this cell to show the HTML representation or trust the notebook. <br />On GitHub, the HTML representation is unable to render, please try loading this page with nbviewer.org.</b></div><div class=\"sk-container\" hidden><div class=\"sk-item sk-dashed-wrapped\"><div class=\"sk-label-container\"><div class=\"sk-label sk-toggleable\"><input class=\"sk-toggleable__control sk-hidden--visually\" id=\"sk-estimator-id-15\" type=\"checkbox\" ><label for=\"sk-estimator-id-15\" class=\"sk-toggleable__label sk-toggleable__label-arrow\">GridSearchCV</label><div class=\"sk-toggleable__content\"><pre>GridSearchCV(estimator=Pipeline(steps=[(&#x27;scaler&#x27;, TfidfVectorizer()),\n",
       "                                       (&#x27;dt&#x27;,\n",
       "                                        DecisionTreeClassifier(random_state=25))]),\n",
       "             param_grid={&#x27;dt__criterion&#x27;: [&#x27;gini&#x27;, &#x27;entropy&#x27;],\n",
       "                         &#x27;dt__max_depth&#x27;: [2, 3, 4, 5]})</pre></div></div></div><div class=\"sk-parallel\"><div class=\"sk-parallel-item\"><div class=\"sk-item\"><div class=\"sk-label-container\"><div class=\"sk-label sk-toggleable\"><input class=\"sk-toggleable__control sk-hidden--visually\" id=\"sk-estimator-id-16\" type=\"checkbox\" ><label for=\"sk-estimator-id-16\" class=\"sk-toggleable__label sk-toggleable__label-arrow\">estimator: Pipeline</label><div class=\"sk-toggleable__content\"><pre>Pipeline(steps=[(&#x27;scaler&#x27;, TfidfVectorizer()),\n",
       "                (&#x27;dt&#x27;, DecisionTreeClassifier(random_state=25))])</pre></div></div></div><div class=\"sk-serial\"><div class=\"sk-item\"><div class=\"sk-serial\"><div class=\"sk-item\"><div class=\"sk-estimator sk-toggleable\"><input class=\"sk-toggleable__control sk-hidden--visually\" id=\"sk-estimator-id-17\" type=\"checkbox\" ><label for=\"sk-estimator-id-17\" class=\"sk-toggleable__label sk-toggleable__label-arrow\">TfidfVectorizer</label><div class=\"sk-toggleable__content\"><pre>TfidfVectorizer()</pre></div></div></div><div class=\"sk-item\"><div class=\"sk-estimator sk-toggleable\"><input class=\"sk-toggleable__control sk-hidden--visually\" id=\"sk-estimator-id-18\" type=\"checkbox\" ><label for=\"sk-estimator-id-18\" class=\"sk-toggleable__label sk-toggleable__label-arrow\">DecisionTreeClassifier</label><div class=\"sk-toggleable__content\"><pre>DecisionTreeClassifier(random_state=25)</pre></div></div></div></div></div></div></div></div></div></div></div></div>"
      ],
      "text/plain": [
       "GridSearchCV(estimator=Pipeline(steps=[('scaler', TfidfVectorizer()),\n",
       "                                       ('dt',\n",
       "                                        DecisionTreeClassifier(random_state=25))]),\n",
       "             param_grid={'dt__criterion': ['gini', 'entropy'],\n",
       "                         'dt__max_depth': [2, 3, 4, 5]})"
      ]
     },
     "execution_count": 50,
     "metadata": {},
     "output_type": "execute_result"
    }
   ],
   "source": [
    "from sklearn.tree import DecisionTreeClassifier\n",
    "\n",
    "DT_param_grid = {\n",
    "    \"dt__criterion\": [\"gini\", \"entropy\"], #TODO: Update this with parameter values\n",
    "    \"dt__max_depth\": [2, 3, 4, 5] #TODO: Update this with parameter values\n",
    "}\n",
    "\n",
    "DT_tuned_pipeline = GridSearchCV(Pipeline([('scaler', TfidfVectorizer()), ('dt', DecisionTreeClassifier(random_state = random_seed))]), DT_param_grid)\n",
    "\n",
    "DT_tuned_pipeline.fit(X_train, Y_train)"
   ]
  },
  {
   "cell_type": "code",
   "execution_count": 51,
   "metadata": {},
   "outputs": [
    {
     "name": "stdout",
     "output_type": "stream",
     "text": [
      "Best parameter of DT: {'dt__criterion': 'gini', 'dt__max_depth': 5}, CV score = 0.5675000000000001:\n",
      "The testing accuracy with the best parameter of DT is: 0.5720833333333334\n"
     ]
    }
   ],
   "source": [
    "# Check the best hyperparameters for DecisionTree\n",
    "print(\"Best parameter of DT: {}, CV score = {}:\".format(DT_tuned_pipeline.best_params_,DT_tuned_pipeline.best_score_))\n",
    "print(\"The testing accuracy with the best parameter of DT is: {}\".format(accuracy_score(DT_tuned_pipeline.predict(X_test), Y_test)))"
   ]
  },
  {
   "cell_type": "code",
   "execution_count": null,
   "metadata": {
    "deletable": false,
    "editable": false,
    "nbgrader": {
     "cell_type": "code",
     "checksum": "7b18e0b70a16cb1507fb5d5c3043e10e",
     "grade": true,
     "grade_id": "cell-033489960e767421",
     "locked": true,
     "points": 5,
     "schema_version": 3,
     "solution": false,
     "task": false
    }
   },
   "outputs": [],
   "source": []
  },
  {
   "cell_type": "markdown",
   "metadata": {},
   "source": [
    "For [Adaboost classifier](https://scikit-learn.org/stable/modules/generated/sklearn.ensemble.AdaBoostClassifier.html), make sure to use the **`random_seed`** we created at very beginning. For the hyperparameter tuning, use the `GridSearchCV` to select the best `n_estimators` from **[2,3,4]**, and the best  learning_rate from **[0.1,0.01,0.001]**."
   ]
  },
  {
   "cell_type": "code",
   "execution_count": 52,
   "metadata": {
    "deletable": false,
    "nbgrader": {
     "cell_type": "code",
     "checksum": "76caa850500718d0e2ddfd980bd79884",
     "grade": false,
     "grade_id": "cell-cb1444c7c39132bd",
     "locked": false,
     "schema_version": 3,
     "solution": true,
     "task": false
    }
   },
   "outputs": [
    {
     "data": {
      "text/html": [
       "<style>#sk-container-id-6 {color: black;}#sk-container-id-6 pre{padding: 0;}#sk-container-id-6 div.sk-toggleable {background-color: white;}#sk-container-id-6 label.sk-toggleable__label {cursor: pointer;display: block;width: 100%;margin-bottom: 0;padding: 0.3em;box-sizing: border-box;text-align: center;}#sk-container-id-6 label.sk-toggleable__label-arrow:before {content: \"▸\";float: left;margin-right: 0.25em;color: #696969;}#sk-container-id-6 label.sk-toggleable__label-arrow:hover:before {color: black;}#sk-container-id-6 div.sk-estimator:hover label.sk-toggleable__label-arrow:before {color: black;}#sk-container-id-6 div.sk-toggleable__content {max-height: 0;max-width: 0;overflow: hidden;text-align: left;background-color: #f0f8ff;}#sk-container-id-6 div.sk-toggleable__content pre {margin: 0.2em;color: black;border-radius: 0.25em;background-color: #f0f8ff;}#sk-container-id-6 input.sk-toggleable__control:checked~div.sk-toggleable__content {max-height: 200px;max-width: 100%;overflow: auto;}#sk-container-id-6 input.sk-toggleable__control:checked~label.sk-toggleable__label-arrow:before {content: \"▾\";}#sk-container-id-6 div.sk-estimator input.sk-toggleable__control:checked~label.sk-toggleable__label {background-color: #d4ebff;}#sk-container-id-6 div.sk-label input.sk-toggleable__control:checked~label.sk-toggleable__label {background-color: #d4ebff;}#sk-container-id-6 input.sk-hidden--visually {border: 0;clip: rect(1px 1px 1px 1px);clip: rect(1px, 1px, 1px, 1px);height: 1px;margin: -1px;overflow: hidden;padding: 0;position: absolute;width: 1px;}#sk-container-id-6 div.sk-estimator {font-family: monospace;background-color: #f0f8ff;border: 1px dotted black;border-radius: 0.25em;box-sizing: border-box;margin-bottom: 0.5em;}#sk-container-id-6 div.sk-estimator:hover {background-color: #d4ebff;}#sk-container-id-6 div.sk-parallel-item::after {content: \"\";width: 100%;border-bottom: 1px solid gray;flex-grow: 1;}#sk-container-id-6 div.sk-label:hover label.sk-toggleable__label {background-color: #d4ebff;}#sk-container-id-6 div.sk-serial::before {content: \"\";position: absolute;border-left: 1px solid gray;box-sizing: border-box;top: 0;bottom: 0;left: 50%;z-index: 0;}#sk-container-id-6 div.sk-serial {display: flex;flex-direction: column;align-items: center;background-color: white;padding-right: 0.2em;padding-left: 0.2em;position: relative;}#sk-container-id-6 div.sk-item {position: relative;z-index: 1;}#sk-container-id-6 div.sk-parallel {display: flex;align-items: stretch;justify-content: center;background-color: white;position: relative;}#sk-container-id-6 div.sk-item::before, #sk-container-id-6 div.sk-parallel-item::before {content: \"\";position: absolute;border-left: 1px solid gray;box-sizing: border-box;top: 0;bottom: 0;left: 50%;z-index: -1;}#sk-container-id-6 div.sk-parallel-item {display: flex;flex-direction: column;z-index: 1;position: relative;background-color: white;}#sk-container-id-6 div.sk-parallel-item:first-child::after {align-self: flex-end;width: 50%;}#sk-container-id-6 div.sk-parallel-item:last-child::after {align-self: flex-start;width: 50%;}#sk-container-id-6 div.sk-parallel-item:only-child::after {width: 0;}#sk-container-id-6 div.sk-dashed-wrapped {border: 1px dashed gray;margin: 0 0.4em 0.5em 0.4em;box-sizing: border-box;padding-bottom: 0.4em;background-color: white;}#sk-container-id-6 div.sk-label label {font-family: monospace;font-weight: bold;display: inline-block;line-height: 1.2em;}#sk-container-id-6 div.sk-label-container {text-align: center;}#sk-container-id-6 div.sk-container {/* jupyter's `normalize.less` sets `[hidden] { display: none; }` but bootstrap.min.css set `[hidden] { display: none !important; }` so we also need the `!important` here to be able to override the default hidden behavior on the sphinx rendered scikit-learn.org. See: https://github.com/scikit-learn/scikit-learn/issues/21755 */display: inline-block !important;position: relative;}#sk-container-id-6 div.sk-text-repr-fallback {display: none;}</style><div id=\"sk-container-id-6\" class=\"sk-top-container\"><div class=\"sk-text-repr-fallback\"><pre>GridSearchCV(estimator=Pipeline(steps=[(&#x27;scaler&#x27;, TfidfVectorizer()),\n",
       "                                       (&#x27;adaboost&#x27;,\n",
       "                                        AdaBoostClassifier(random_state=25))]),\n",
       "             param_grid={&#x27;adaboost__learning_rate&#x27;: [0.1, 0.01, 0.001],\n",
       "                         &#x27;adaboost__n_estimators&#x27;: [2, 3, 4]})</pre><b>In a Jupyter environment, please rerun this cell to show the HTML representation or trust the notebook. <br />On GitHub, the HTML representation is unable to render, please try loading this page with nbviewer.org.</b></div><div class=\"sk-container\" hidden><div class=\"sk-item sk-dashed-wrapped\"><div class=\"sk-label-container\"><div class=\"sk-label sk-toggleable\"><input class=\"sk-toggleable__control sk-hidden--visually\" id=\"sk-estimator-id-19\" type=\"checkbox\" ><label for=\"sk-estimator-id-19\" class=\"sk-toggleable__label sk-toggleable__label-arrow\">GridSearchCV</label><div class=\"sk-toggleable__content\"><pre>GridSearchCV(estimator=Pipeline(steps=[(&#x27;scaler&#x27;, TfidfVectorizer()),\n",
       "                                       (&#x27;adaboost&#x27;,\n",
       "                                        AdaBoostClassifier(random_state=25))]),\n",
       "             param_grid={&#x27;adaboost__learning_rate&#x27;: [0.1, 0.01, 0.001],\n",
       "                         &#x27;adaboost__n_estimators&#x27;: [2, 3, 4]})</pre></div></div></div><div class=\"sk-parallel\"><div class=\"sk-parallel-item\"><div class=\"sk-item\"><div class=\"sk-label-container\"><div class=\"sk-label sk-toggleable\"><input class=\"sk-toggleable__control sk-hidden--visually\" id=\"sk-estimator-id-20\" type=\"checkbox\" ><label for=\"sk-estimator-id-20\" class=\"sk-toggleable__label sk-toggleable__label-arrow\">estimator: Pipeline</label><div class=\"sk-toggleable__content\"><pre>Pipeline(steps=[(&#x27;scaler&#x27;, TfidfVectorizer()),\n",
       "                (&#x27;adaboost&#x27;, AdaBoostClassifier(random_state=25))])</pre></div></div></div><div class=\"sk-serial\"><div class=\"sk-item\"><div class=\"sk-serial\"><div class=\"sk-item\"><div class=\"sk-estimator sk-toggleable\"><input class=\"sk-toggleable__control sk-hidden--visually\" id=\"sk-estimator-id-21\" type=\"checkbox\" ><label for=\"sk-estimator-id-21\" class=\"sk-toggleable__label sk-toggleable__label-arrow\">TfidfVectorizer</label><div class=\"sk-toggleable__content\"><pre>TfidfVectorizer()</pre></div></div></div><div class=\"sk-item\"><div class=\"sk-estimator sk-toggleable\"><input class=\"sk-toggleable__control sk-hidden--visually\" id=\"sk-estimator-id-22\" type=\"checkbox\" ><label for=\"sk-estimator-id-22\" class=\"sk-toggleable__label sk-toggleable__label-arrow\">AdaBoostClassifier</label><div class=\"sk-toggleable__content\"><pre>AdaBoostClassifier(random_state=25)</pre></div></div></div></div></div></div></div></div></div></div></div></div>"
      ],
      "text/plain": [
       "GridSearchCV(estimator=Pipeline(steps=[('scaler', TfidfVectorizer()),\n",
       "                                       ('adaboost',\n",
       "                                        AdaBoostClassifier(random_state=25))]),\n",
       "             param_grid={'adaboost__learning_rate': [0.1, 0.01, 0.001],\n",
       "                         'adaboost__n_estimators': [2, 3, 4]})"
      ]
     },
     "execution_count": 52,
     "metadata": {},
     "output_type": "execute_result"
    }
   ],
   "source": [
    "from sklearn.ensemble import AdaBoostClassifier\n",
    "\n",
    "ADABOOST_param_grid = {\n",
    "    \"adaboost__n_estimators\": [2, 3, 4], #TODO: Update this with parameter values\n",
    "    \"adaboost__learning_rate\": [0.1, 0.01, 0.001] #TODO: Update this with parameter values\n",
    "}\n",
    "\n",
    "ADABOOST_tuned_pipeline = GridSearchCV(Pipeline([('scaler', TfidfVectorizer()), ('adaboost', AdaBoostClassifier(random_state = random_seed))]), ADABOOST_param_grid)\n",
    "\n",
    "ADABOOST_tuned_pipeline.fit(X_train, Y_train)"
   ]
  },
  {
   "cell_type": "code",
   "execution_count": 53,
   "metadata": {
    "deletable": false,
    "editable": false,
    "nbgrader": {
     "cell_type": "code",
     "checksum": "abc09ea005cddda6c3108c6af5266ae3",
     "grade": false,
     "grade_id": "cell-8eb5cc4b2f14c0c2",
     "locked": true,
     "schema_version": 3,
     "solution": false,
     "task": false
    }
   },
   "outputs": [
    {
     "name": "stdout",
     "output_type": "stream",
     "text": [
      "Best parameter of ADABOOST: {'adaboost__learning_rate': 0.1, 'adaboost__n_estimators': 4}, CV score = 0.5576041666666667:\n",
      "The testing accuracy with the best parameter of ADABOOST is: 0.5591666666666667\n"
     ]
    }
   ],
   "source": [
    "# Check the best hyperparameters for Adaboost\n",
    "print(\"Best parameter of ADABOOST: {}, CV score = {}:\".format(ADABOOST_tuned_pipeline.best_params_, ADABOOST_tuned_pipeline.best_score_))\n",
    "print(\"The testing accuracy with the best parameter of ADABOOST is: {}\".format(accuracy_score(ADABOOST_tuned_pipeline.predict(X_test), Y_test)))"
   ]
  },
  {
   "cell_type": "code",
   "execution_count": null,
   "metadata": {
    "deletable": false,
    "editable": false,
    "nbgrader": {
     "cell_type": "code",
     "checksum": "ea4efd90e086e78147094a5867f615e5",
     "grade": true,
     "grade_id": "cell-fe2cd2577f11ddff",
     "locked": true,
     "points": 4,
     "schema_version": 3,
     "solution": false,
     "task": false
    }
   },
   "outputs": [],
   "source": []
  },
  {
   "cell_type": "markdown",
   "metadata": {
    "deletable": false,
    "editable": false,
    "nbgrader": {
     "cell_type": "markdown",
     "checksum": "8f0b3f41bac3b68e70ad639a29266738",
     "grade": false,
     "grade_id": "cell-0f5a6e8bccbae8b0",
     "locked": true,
     "schema_version": 3,
     "solution": false,
     "task": false
    }
   },
   "source": [
    "## 1.3 Evaluation using `classification_report` \n",
    "\n",
    "Sklearn also has a built in function called [`classification_report`](https://scikit-learn.org/stable/modules/generated/sklearn.metrics.classification_report.html) that will give a handy summary of all the popular classification metrics. You can use this for the later questions.\n",
    "\n",
    "Below, we give an example of how to use the  function to summarize a model's performance.\n",
    "\n",
    "Precision, Recall and F1 are reported for **each class separately**. For the \"False\" row, a False is treated as the positive class. For the \"True\" row, the \"True\" is treated as the positive class. This is helpful because Precision and Recall are both sensitive to which class is considered positive. **Support** is the number of instances of both classes."
   ]
  },
  {
   "cell_type": "code",
   "execution_count": 54,
   "metadata": {},
   "outputs": [
    {
     "name": "stdout",
     "output_type": "stream",
     "text": [
      "              precision    recall  f1-score   support\n",
      "\n",
      "       False       0.67      0.76      0.71      1209\n",
      "        True       0.71      0.62      0.66      1191\n",
      "\n",
      "    accuracy                           0.69      2400\n",
      "   macro avg       0.69      0.69      0.69      2400\n",
      "weighted avg       0.69      0.69      0.69      2400\n",
      "\n"
     ]
    }
   ],
   "source": [
    "from sklearn.metrics import classification_report\n",
    "\n",
    "# Print a classification report for the KNN pipeline we created\n",
    "print(classification_report(Y_test, KNN_tuned_pipeline.predict(X_test)))"
   ]
  },
  {
   "cell_type": "markdown",
   "metadata": {
    "deletable": false,
    "editable": false,
    "nbgrader": {
     "cell_type": "markdown",
     "checksum": "e0b8c003135d8b81c0901f7634abc2d5",
     "grade": false,
     "grade_id": "cell-7d263728e087f5d0",
     "locked": true,
     "schema_version": 3,
     "solution": false,
     "task": false
    }
   },
   "source": [
    "Now complete the following functions based on the descriptions in the comments."
   ]
  },
  {
   "cell_type": "code",
   "execution_count": 55,
   "metadata": {
    "deletable": false,
    "nbgrader": {
     "cell_type": "code",
     "checksum": "412beb00c9e1911af6bee85fa14e7c66",
     "grade": false,
     "grade_id": "cell-922f67c614238814",
     "locked": false,
     "schema_version": 3,
     "solution": true,
     "task": false
    }
   },
   "outputs": [
    {
     "name": "stdout",
     "output_type": "stream",
     "text": [
      "              precision    recall  f1-score   support\n",
      "\n",
      "       False       0.67      0.76      0.71      1209\n",
      "        True       0.71      0.62      0.66      1191\n",
      "\n",
      "    accuracy                           0.69      2400\n",
      "   macro avg       0.69      0.69      0.69      2400\n",
      "weighted avg       0.69      0.69      0.69      2400\n",
      "\n"
     ]
    },
    {
     "data": {
      "text/plain": [
       "{'False': {'precision': 0.6688644688644688,\n",
       "  'recall': 0.7551695616211745,\n",
       "  'f1-score': 0.7094017094017094,\n",
       "  'support': 1209.0},\n",
       " 'True': {'precision': 0.7140096618357488,\n",
       "  'recall': 0.6204869857262805,\n",
       "  'f1-score': 0.6639712488769093,\n",
       "  'support': 1191.0},\n",
       " 'accuracy': 0.6883333333333334,\n",
       " 'macro avg': {'precision': 0.6914370653501087,\n",
       "  'recall': 0.6878282736737276,\n",
       "  'f1-score': 0.6866864791393094,\n",
       "  'support': 2400.0},\n",
       " 'weighted avg': {'precision': 0.6912677708764664,\n",
       "  'recall': 0.6883333333333334,\n",
       "  'f1-score': 0.6868568433662773,\n",
       "  'support': 2400.0}}"
      ]
     },
     "execution_count": 55,
     "metadata": {},
     "output_type": "execute_result"
    }
   ],
   "source": [
    "from sklearn.metrics import classification_report\n",
    "\n",
    "def predict_with_pipeline(pipeline):\n",
    "    \"\"\" \n",
    "    You will implement a pipeline to predict for test-cases that performs the following tasks:\n",
    "        1. Use the tuned pipeline to predict labels Y_predict for X_test.\n",
    "        3. return the predictions\n",
    "        \n",
    "    Your inputs and outputs are as shown below:\n",
    "    \n",
    "    Input:\n",
    "        \n",
    "        pipeline: A classification/tuned pipeline. \n",
    "              Some example classifiers are: KNN_tuned_pipeline, DT_tuned_pipeline, ADABOOST_tuned_pipeline\n",
    "        \n",
    "        \n",
    "    Output:\n",
    "        predictions: Return the prediction by the classification pipeline on X_test\n",
    "    \"\"\"\n",
    "    # pipeline.fit(X_train, Y_train)\n",
    "    Y_predict = pipeline.predict(X_test)\n",
    "    return Y_predict\n",
    "    \n",
    "def ClassificationReport(Y_test, predictions, output_dict=True):\n",
    "    \"\"\" \n",
    "    You will implement this function to outputs the predictions classification report for test-cases that performs the following tasks:\n",
    "        1. This function will take three parameters:  the Y_test, predictions on X_test using the pipeline, and output_dict for dictionary format report\n",
    "        2. You can use the sklearn's classification_report function to generate the report\n",
    "        \n",
    "        \n",
    "    Your inputs and outputs are as shown below:\n",
    "    \n",
    "    Input:\n",
    "        \n",
    "        Y_test: The labels from in the Y_test\n",
    "        predictions: predictions on X_test using the predict_with_pipeline function.\n",
    "        output_dict: To generate the report in dictionary format.\n",
    "        \n",
    "    return:\n",
    "        \n",
    "        classification report  \n",
    "        \n",
    "    \"\"\"\n",
    "    return classification_report(Y_test, predictions, output_dict = output_dict)\n",
    "    \n",
    "    \n",
    "\n",
    "KNN_predictions = predict_with_pipeline(KNN_tuned_pipeline)\n",
    "\n",
    "# If output_dict is False, we get a human-readable \n",
    "print(ClassificationReport(Y_test, KNN_predictions,output_dict=False))\n",
    "\n",
    "# Otherwise we can get the report as an object, to get individual values from it\n",
    "ClassificationReport(Y_test, KNN_predictions,output_dict=True)"
   ]
  },
  {
   "cell_type": "markdown",
   "metadata": {},
   "source": [
    "**Note the tests below have incorrect values to check the reports with!**"
   ]
  },
  {
   "cell_type": "code",
   "execution_count": 56,
   "metadata": {
    "deletable": false,
    "editable": false,
    "nbgrader": {
     "cell_type": "code",
     "checksum": "539ff4540b0c8791adf6a0e73e4b41db",
     "grade": true,
     "grade_id": "cell-35d4f3c5911b2289",
     "locked": true,
     "points": 2,
     "schema_version": 3,
     "solution": false,
     "task": false
    }
   },
   "outputs": [],
   "source": [
    "# Public tests\n",
    "KNN_predictions = predict_with_pipeline(KNN_tuned_pipeline)\n",
    "KNN_report = ClassificationReport(Y_test, KNN_predictions)\n",
    "DT_predictions = predict_with_pipeline(DT_tuned_pipeline)\n",
    "ADABOOST_predictions = predict_with_pipeline(ADABOOST_tuned_pipeline)\n",
    "DT_report = ClassificationReport(Y_test, DT_predictions)\n",
    "ADABOOST_report = ClassificationReport(Y_test, ADABOOST_predictions)\n",
    "\n",
    "np.testing.assert_almost_equal(KNN_report['True']['precision'],0.7140096618357488)\n",
    "np.testing.assert_almost_equal(DT_report['False']['recall'],0.9156327543424317)\n",
    "np.testing.assert_almost_equal(ADABOOST_report['False']['f1-score'],0.6724458204334366)"
   ]
  },
  {
   "cell_type": "code",
   "execution_count": 57,
   "metadata": {
    "deletable": false,
    "editable": false,
    "nbgrader": {
     "cell_type": "code",
     "checksum": "8823f538124e31ea8400da87fbb3f6e2",
     "grade": true,
     "grade_id": "cell-cdd265f59d583b80",
     "locked": true,
     "points": 1,
     "schema_version": 3,
     "solution": false,
     "task": false
    }
   },
   "outputs": [],
   "source": [
    "# Private tests\n"
   ]
  },
  {
   "cell_type": "markdown",
   "metadata": {},
   "source": [
    "Now let's print the reports for each classifier:"
   ]
  },
  {
   "cell_type": "code",
   "execution_count": 58,
   "metadata": {},
   "outputs": [
    {
     "name": "stdout",
     "output_type": "stream",
     "text": [
      "KNN:\n",
      "              precision    recall  f1-score   support\n",
      "\n",
      "       False       0.67      0.76      0.71      1209\n",
      "        True       0.71      0.62      0.66      1191\n",
      "\n",
      "    accuracy                           0.69      2400\n",
      "   macro avg       0.69      0.69      0.69      2400\n",
      "weighted avg       0.69      0.69      0.69      2400\n",
      "\n",
      "\n",
      "\n",
      "Decision Tree:\n",
      "              precision    recall  f1-score   support\n",
      "\n",
      "       False       0.54      0.92      0.68      1209\n",
      "        True       0.72      0.22      0.34      1191\n",
      "\n",
      "    accuracy                           0.57      2400\n",
      "   macro avg       0.63      0.57      0.51      2400\n",
      "weighted avg       0.63      0.57      0.51      2400\n",
      "\n",
      "\n",
      "\n",
      "Adaboost:\n",
      "              precision    recall  f1-score   support\n",
      "\n",
      "       False       0.54      0.90      0.67      1209\n",
      "        True       0.68      0.21      0.33      1191\n",
      "\n",
      "    accuracy                           0.56      2400\n",
      "   macro avg       0.61      0.56      0.50      2400\n",
      "weighted avg       0.61      0.56      0.50      2400\n",
      "\n"
     ]
    }
   ],
   "source": [
    "print('KNN:')\n",
    "print(ClassificationReport(Y_test, KNN_predictions,output_dict=False))\n",
    "\n",
    "print('\\n')\n",
    "print('Decision Tree:')\n",
    "print(ClassificationReport(Y_test, DT_predictions,output_dict=False))\n",
    "\n",
    "print('\\n')\n",
    "print('Adaboost:')\n",
    "print(ClassificationReport(Y_test, ADABOOST_predictions,output_dict=False))"
   ]
  },
  {
   "cell_type": "markdown",
   "metadata": {
    "deletable": false,
    "editable": false,
    "nbgrader": {
     "cell_type": "markdown",
     "checksum": "ff08922f58ae534739ac7501ba728a6c",
     "grade": false,
     "grade_id": "cell-e51c30a130bedf25",
     "locked": true,
     "schema_version": 3,
     "solution": false,
     "task": false
    }
   },
   "source": [
    "We would be most interested in the 'True' category as this indicates the positive labels, as well as the accuracy scores. Through this process, you should already got three reports for each of the classifiers. Let's make some comparisons, print the reports for each of the classifiers, and which classifier has a better performance?"
   ]
  },
  {
   "cell_type": "markdown",
   "metadata": {},
   "source": [
    "The KNN is the most accurate model given the three reports above with its accuracy of 69% beating the other models of 57% and 56%."
   ]
  },
  {
   "cell_type": "markdown",
   "metadata": {
    "deletable": false,
    "editable": false,
    "nbgrader": {
     "cell_type": "markdown",
     "checksum": "211088471859f4da1fba626408c9638c",
     "grade": false,
     "grade_id": "cell-0a49b9dcf85ef5d6",
     "locked": true,
     "schema_version": 3,
     "solution": false,
     "task": false
    }
   },
   "source": [
    "## 1.4 Evaluation using ROC Curves"
   ]
  },
  {
   "cell_type": "markdown",
   "metadata": {
    "deletable": false,
    "editable": false,
    "nbgrader": {
     "cell_type": "markdown",
     "checksum": "eaf6a5e8301880d0114f0cebd880f324",
     "grade": false,
     "grade_id": "cell-611f2cf243b3746d",
     "locked": true,
     "schema_version": 3,
     "solution": false,
     "task": false
    }
   },
   "source": [
    "Sklearn has some built in methods for [plotting ROC curves](https://scikit-learn.org/stable/modules/generated/sklearn.metrics.plot_roc_curve.html).\n",
    "\n",
    "The dataset we'll be using for this exercise is the breast cancer dataset, which is used to tell if a certain individal might have breast cancer or not."
   ]
  },
  {
   "cell_type": "markdown",
   "metadata": {
    "deletable": false,
    "editable": false,
    "nbgrader": {
     "cell_type": "markdown",
     "checksum": "498bd267a2012a19e4c9fed5b1c048b8",
     "grade": false,
     "grade_id": "cell-488b13155465b85e",
     "locked": true,
     "schema_version": 3,
     "solution": false,
     "task": false
    }
   },
   "source": [
    "### Plotting ROC Curves \n",
    "\n",
    "In this section, you will use sklearn API to compute ROC curves and corresponding AUC value. Specifically, you can use [roc_curve](https://scikit-learn.org/stable/modules/generated/sklearn.metrics.roc_curve.html#sklearn.metrics.roc_curve) and [roc_auc_curve](https://scikit-learn.org/stable/modules/generated/sklearn.metrics.roc_auc_score.html#sklearn.metrics.roc_auc_score) to compute these values.\n",
    "\n",
    "**Hint** You may also want to take a look at the `predict_proba` function from different models such as [decision tree](https://scikit-learn.org/stable/modules/generated/sklearn.tree.DecisionTreeClassifier.html#sklearn.tree.DecisionTreeClassifier.predict_proba) and [Ada boost](https://scikit-learn.org/stable/modules/generated/sklearn.ensemble.AdaBoostClassifier.html). You will need to reliy on part of its output since ROC is computed based on proabilities. "
   ]
  },
  {
   "cell_type": "code",
   "execution_count": 59,
   "metadata": {
    "deletable": false,
    "nbgrader": {
     "cell_type": "code",
     "checksum": "967263475259347afb5aa7017189887b",
     "grade": false,
     "grade_id": "roc_auc",
     "locked": false,
     "schema_version": 3,
     "solution": true,
     "task": false
    }
   },
   "outputs": [],
   "source": [
    "from sklearn import metrics\n",
    "\n",
    "def roc_auc(model, x_test, y_test):\n",
    "    \"\"\"\n",
    "    In this function, you will need to implement the following steps.\n",
    "        1. Use model to compute its probability of predicting a sample as positive for each sample in x_test.\n",
    "        2. Use the computed probability and y_test to compute ROC curve and its AUC value.\n",
    "        \n",
    "    Your inputs and outputs are as shown below:\n",
    "    \n",
    "    Input:\n",
    "        model: A sklearn classifier instance in our case a fine tuned classifier. Assuming it has predict_proba() function.\n",
    "        x_test: A numpy array of shape (n_test_rows, n_attributes) where n_test_rows refers to the number \n",
    "              of rows in your target dataset and n_attributes refers to the number of attributes.\n",
    "        y_test: A numpy array of shape (n_test_rows, ) where n_test_rows refers to the number \n",
    "              of rows in your target dataset and n_attributes refers to the number of attributes.\n",
    "        \n",
    "    Output:\n",
    "        fpr: A list of increasing false positive rates as a part of ROC curve.\n",
    "        tpr: A list of increasing true positive rates as a part of ROC curve.\n",
    "        thresholds: A list of decreasing thresholds as a part of ROC curve.\n",
    "        auc: A single float value that is the computed AUC value.\n",
    "    \"\"\"\n",
    "    scores = model.predict_proba(x_test)[:, 1]\n",
    "    print(scores)\n",
    "    fpr, tpr, thresholds = metrics.roc_curve(y_test, scores)\n",
    "    auc = metrics.roc_auc_score(y_test, scores)\n",
    "    return fpr, tpr, thresholds, auc\n",
    "    "
   ]
  },
  {
   "cell_type": "code",
   "execution_count": 60,
   "metadata": {},
   "outputs": [
    {
     "name": "stdout",
     "output_type": "stream",
     "text": [
      "[0.49504405 0.49504405 0.49504405 ... 0.49504405 0.29588015 0.49504405]\n"
     ]
    },
    {
     "name": "stdout",
     "output_type": "stream",
     "text": [
      "[0.42857143 0.28571429 0.85714286 ... 0.71428571 0.28571429 0.14285714]\n",
      "[0.49573201 0.49573201 0.49573201 ... 0.49573201 0.42515557 0.49573201]\n"
     ]
    },
    {
     "data": {
      "text/plain": [
       "<matplotlib.legend.Legend at 0x171c93cf3d0>"
      ]
     },
     "execution_count": 60,
     "metadata": {},
     "output_type": "execute_result"
    },
    {
     "data": {
      "image/png": "[encoded data removed]",
      "text/plain": [
       "<Figure size 640x480 with 1 Axes>"
      ]
     },
     "metadata": {},
     "output_type": "display_data"
    }
   ],
   "source": [
    "#Plot the ROC curves\n",
    "tree_fpr, tree_tpr, tree_thresh, tree_auc = roc_auc(DT_tuned_pipeline, X_test, Y_test)\n",
    "knn_fpr, knn_tpr, knn_thresh, knn_auc = roc_auc(KNN_tuned_pipeline, X_test, Y_test)\n",
    "ada_fpr, ada_tpr, ada_thresh, ada_auc = roc_auc(ADABOOST_tuned_pipeline, X_test, Y_test)\n",
    "\n",
    "plt.figure(0).clf()\n",
    "plt.plot(knn_fpr,knn_tpr,label=\"KNN, auc=\"+str(knn_auc))\n",
    "plt.plot(tree_fpr,tree_tpr,label=\"Decision Tree, auc=\"+str(tree_auc))\n",
    "plt.plot(ada_fpr,ada_tpr,label=\"Adaboost, auc=\"+str(ada_auc))\n",
    "\n",
    "plt.legend(loc=0)"
   ]
  },
  {
   "cell_type": "code",
   "execution_count": 62,
   "metadata": {
    "deletable": false,
    "editable": false,
    "nbgrader": {
     "cell_type": "code",
     "checksum": "f9746e477fadb12c88b11e970c701714",
     "grade": true,
     "grade_id": "roc_auc_test",
     "locked": true,
     "points": 3,
     "schema_version": 3,
     "solution": false,
     "task": false
    }
   },
   "outputs": [],
   "source": [
    "\n",
    "np.testing.assert_almost_equal(tree_fpr, [0.         ,0.00330852, 0.00661704, 0.08436725, 0.83953681, 0.84946237,\n",
    " 0.88585608, 0.88585608, 0.89330025, 0.89578164, 0.92886683, 0.95947064,\n",
    " 0.96691481, 0.99917287, 1.        ])\n",
    "np.testing.assert_almost_equal(tree_tpr, [0.00000000e+00, 8.39630563e-04, 2.51889169e-02, 2.23341730e-01,\n",
    " 9.42905122e-01, 9.52141058e-01, 9.75650714e-01, 9.77329975e-01,\n",
    " 9.79009236e-01, 9.83207389e-01, 9.92443325e-01, 9.95801847e-01,\n",
    " 9.98320739e-01, 9.98320739e-01, 1.00000000e+00])\n",
    "tree_thresh[0] = 2\n",
    "np.testing.assert_almost_equal(tree_thresh, [2.      , 1.       , 0.9120879, 0.732899 , 0.4950441, 0.4285714,\n",
    "       0.2958801, 0.25     , 0.1636364, 0.1481481, 0.1172414, 0.0882353,\n",
    "       0.0625   , 0.0205479, 0.       ])\n",
    "assert tree_auc == 0.6078227316953244\n",
    "\n",
    "np.testing.assert_almost_equal(ada_fpr, [0.,         0.09263854, 0.10173697, 0.89081886, 0.9611249,  0.96526055,\n",
    " 0.96691481, 0.99834574, 1.        ])\n",
    "np.testing.assert_almost_equal(ada_tpr, [0.,         0.20486986, 0.21494542, 0.96641478, 0.99916037, 1.,\n",
    " 1.,         1.,         1.,        ])\n",
    "ada_thresh[0] = 1.59082288\n",
    "np.testing.assert_almost_equal(ada_thresh, [1.59082288, 0.59082288, 0.52068725, 0.49573201, 0.42515557, 0.4220354,\n",
    " 0.35457358, 0.33206415, 0.27221056])\n",
    "assert ada_auc == 0.5854634878767486\n"
   ]
  },
  {
   "cell_type": "code",
   "execution_count": 63,
   "metadata": {
    "deletable": false,
    "editable": false,
    "nbgrader": {
     "cell_type": "code",
     "checksum": "3374d9c5844362a1ff9872c345837bf6",
     "grade": true,
     "grade_id": "roc_auc_test_2",
     "locked": true,
     "points": 1,
     "schema_version": 3,
     "solution": false,
     "task": false
    }
   },
   "outputs": [],
   "source": [
    "# Remember there are hidden tests"
   ]
  },
  {
   "cell_type": "markdown",
   "metadata": {
    "deletable": false,
    "editable": false,
    "nbgrader": {
     "cell_type": "markdown",
     "checksum": "00e365dd4e4fdeb8bc222b19b07bbe64",
     "grade": false,
     "grade_id": "cell-4c6ed5f7c66aef81",
     "locked": true,
     "schema_version": 3,
     "solution": false,
     "task": false
    }
   },
   "source": [
    "### 2.2 Intepreting ROC curves"
   ]
  },
  {
   "cell_type": "markdown",
   "metadata": {
    "deletable": false,
    "editable": false,
    "nbgrader": {
     "cell_type": "markdown",
     "checksum": "81f7e1898f6f0200d1cc32f6e8ece1b5",
     "grade": false,
     "grade_id": "cell-9f7497f03bb03d0e",
     "locked": true,
     "schema_version": 3,
     "solution": false,
     "task": false
    }
   },
   "source": [
    "Take a look at the above ROC curves. How are they similar? How do they differ? Is one strictly better than the other? In what situations is one better than the other?"
   ]
  },
  {
   "cell_type": "markdown",
   "metadata": {},
   "source": [
    "The KNN is more different than the AdaBoost and Decision Tree ROC curves which are very similar to each other. The ROC curve for the KNN is better than the ROC curves for the AdaBoost and Decision Tree ROC curves since it is more likely to give a higher true positive rate. This would be best in a situation where a true positive rate matters more than a false positive rate."
   ]
  }
 ],
 "metadata": {
  "kernelspec": {
   "display_name": "Python 3 (ipykernel)",
   "language": "python",
   "name": "python3"
  },
  "language_info": {
   "codemirror_mode": {
    "name": "ipython",
    "version": 3
   },
   "file_extension": ".py",
   "mimetype": "text/x-python",
   "name": "python",
   "nbconvert_exporter": "python",
   "pygments_lexer": "ipython3",
   "version": "3.11.5"
  },
  "vscode": {
   "interpreter": {
    "hash": "c261aea317cc0286b3b3261fbba9abdec21eaa57589985bb7a274bf54d6cc0a7"
   }
  }
 },
 "nbformat": 4,
 "nbformat_minor": 4
}
