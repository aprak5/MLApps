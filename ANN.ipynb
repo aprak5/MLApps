{
 "cells": [
  {
   "cell_type": "code",
   "execution_count": 137,
   "metadata": {},
   "outputs": [
    {
     "data": {
      "text/plain": [
       "'\\nName: Amit Prakash\\nHW Group Number: 5\\n'"
      ]
     },
     "execution_count": 137,
     "metadata": {},
     "output_type": "execute_result"
    }
   ],
   "source": [
    "\"\"\"\n",
    "Name: Amit Prakash\n",
    "HW Group Number: 5\n",
    "\"\"\""
   ]
  },
  {
   "cell_type": "markdown",
   "metadata": {
    "deletable": false,
    "editable": false,
    "nbgrader": {
     "cell_type": "markdown",
     "checksum": "c5ad03ee509d4eb8c8e9ca5b808ef4d0",
     "grade": false,
     "grade_id": "cell-13c5ff854ff08180",
     "locked": true,
     "schema_version": 3,
     "solution": false,
     "task": false
    }
   },
   "source": [
    "## EC-p2: Artifical Neural Networks\n"
   ]
  },
  {
   "cell_type": "markdown",
   "metadata": {
    "deletable": false,
    "editable": false,
    "nbgrader": {
     "cell_type": "markdown",
     "checksum": "0f8fea1ca998c71136b134971c940e64",
     "grade": false,
     "grade_id": "cell-58e7d9549befcb26",
     "locked": true,
     "schema_version": 3,
     "solution": false,
     "task": false
    }
   },
   "source": [
    "### 1) Neural Network Playground"
   ]
  },
  {
   "cell_type": "markdown",
   "metadata": {
    "deletable": false,
    "editable": false,
    "nbgrader": {
     "cell_type": "markdown",
     "checksum": "1afc26595edc821ee222b3ca6b5d740c",
     "grade": false,
     "grade_id": "cell-b5a9ea2f81e0f5ad",
     "locked": true,
     "schema_version": 3,
     "solution": false,
     "task": false
    }
   },
   "source": [
    "Go to Tensorflow's [Neural Network Playground](https://playground.tensorflow.org/). This website is an interactive and exploratory visualization of how the features, number of layers, training time, etc, influence the classification boundries of an ANN. Right now, we'll only worry ourselves with *classification* problems.\n",
    "\n"
   ]
  },
  {
   "cell_type": "markdown",
   "metadata": {
    "deletable": false,
    "editable": false,
    "nbgrader": {
     "cell_type": "markdown",
     "checksum": "06690a70f1fefb3ed96e1c736d741d81",
     "grade": false,
     "grade_id": "cell-e9233095f9bf0595",
     "locked": true,
     "schema_version": 3,
     "solution": false,
     "task": false
    }
   },
   "source": [
    "## 2) Training and Testing a Neural Network \n",
    "\n",
    "For this problem, you'll be looking at a subset of the [UCI ML hand-written digits datasets](https://archive.ics.uci.edu/ml/datasets/Optical+Recognition+of+Handwritten+Digits), which contains images of hand-written digits: 10 classes where each class refers to a digit.\n",
    "\n",
    "Each data entry is a input matrix of 8x8 where each element is an integer in the range 0..16. The matrix is flattened in the dataset.\n"
   ]
  },
  {
   "cell_type": "markdown",
   "metadata": {
    "deletable": false,
    "editable": false,
    "nbgrader": {
     "cell_type": "markdown",
     "checksum": "5252d6b1cc40895ec7e5e1fe2f72c1b4",
     "grade": false,
     "grade_id": "cell-2add9a421651bb2d",
     "locked": true,
     "schema_version": 3,
     "solution": false,
     "task": false
    }
   },
   "source": [
    "For this question, **you have enough experience to do the entire model pipeline yourself**. That means *loading the data, creating splits, scaling the data, training and tuning the model, and evaluating the model.*"
   ]
  },
  {
   "cell_type": "code",
   "execution_count": 138,
   "metadata": {
    "deletable": false,
    "editable": false,
    "nbgrader": {
     "cell_type": "code",
     "checksum": "bf2a2867d4065882599c260b7e79e054",
     "grade": false,
     "grade_id": "cell-72eba8ac84354b45",
     "locked": true,
     "schema_version": 3,
     "solution": false,
     "task": false
    }
   },
   "outputs": [],
   "source": [
    "#Import necessary libraries\n",
    "import pandas as pd\n",
    "import numpy as np\n",
    "import warnings\n",
    "warnings.filterwarnings('ignore')\n",
    "\n",
    "random_state = 42"
   ]
  },
  {
   "cell_type": "markdown",
   "metadata": {
    "deletable": false,
    "editable": false,
    "nbgrader": {
     "cell_type": "markdown",
     "checksum": "58caa9d8e815c701f5062c15266523bf",
     "grade": false,
     "grade_id": "cell-5c9b6a78fc7c131d",
     "locked": true,
     "schema_version": 3,
     "solution": false,
     "task": false
    }
   },
   "source": [
    "### Step 1: Load the data. Use `np.unique()` to check the class balance."
   ]
  },
  {
   "cell_type": "code",
   "execution_count": 139,
   "metadata": {},
   "outputs": [],
   "source": [
    "from sklearn.datasets import load_digits\n",
    "df = load_digits()"
   ]
  },
  {
   "cell_type": "code",
   "execution_count": 140,
   "metadata": {
    "deletable": false,
    "editable": false,
    "nbgrader": {
     "cell_type": "code",
     "checksum": "237d4d5d3975f1344130eeae4debcf5c",
     "grade": false,
     "grade_id": "cell-71b61c2fc389a33f",
     "locked": true,
     "schema_version": 3,
     "solution": false,
     "task": false
    }
   },
   "outputs": [
    {
     "data": {
      "text/plain": [
       "array([[ 0.,  0.,  5., ...,  0.,  0.,  0.],\n",
       "       [ 0.,  0.,  0., ..., 10.,  0.,  0.],\n",
       "       [ 0.,  0.,  0., ..., 16.,  9.,  0.],\n",
       "       ...,\n",
       "       [ 0.,  0.,  1., ...,  6.,  0.,  0.],\n",
       "       [ 0.,  0.,  2., ..., 12.,  0.,  0.],\n",
       "       [ 0.,  0., 10., ..., 12.,  1.,  0.]])"
      ]
     },
     "execution_count": 140,
     "metadata": {},
     "output_type": "execute_result"
    }
   ],
   "source": [
    "df.data"
   ]
  },
  {
   "cell_type": "code",
   "execution_count": 141,
   "metadata": {
    "deletable": false,
    "editable": false,
    "nbgrader": {
     "cell_type": "code",
     "checksum": "3056f3fd2a14ac78a45fcd487a9552e6",
     "grade": false,
     "grade_id": "cell-cdddfe25259e2bea",
     "locked": true,
     "schema_version": 3,
     "solution": false,
     "task": false
    }
   },
   "outputs": [
    {
     "data": {
      "text/plain": [
       "(array([0, 1, 2, 3, 4, 5, 6, 7, 8, 9]),\n",
       " array([178, 182, 177, 183, 181, 182, 181, 179, 174, 180]))"
      ]
     },
     "execution_count": 141,
     "metadata": {},
     "output_type": "execute_result"
    }
   ],
   "source": [
    "# Get a distribution of the class label (target)\n",
    "np.unique(df.target, return_counts=True)"
   ]
  },
  {
   "cell_type": "markdown",
   "metadata": {},
   "source": [
    "### Step 2: Split the data into X (feautres) and Y (class)\n",
    "\n",
    "Assign the variables below to split the dataset in to X (features) and Y (target)"
   ]
  },
  {
   "cell_type": "code",
   "execution_count": 142,
   "metadata": {
    "deletable": false,
    "nbgrader": {
     "cell_type": "code",
     "checksum": "0f40b647f3872ec16083d3c9f3b4b299",
     "grade": false,
     "grade_id": "slip-feature-class",
     "locked": false,
     "schema_version": 3,
     "solution": true,
     "task": false
    }
   },
   "outputs": [],
   "source": [
    "X = df.data\n",
    "Y = df.target\n",
    "\n",
    "X = X[:200]\n",
    "Y = Y[:200]"
   ]
  },
  {
   "cell_type": "markdown",
   "metadata": {
    "deletable": false,
    "editable": false,
    "nbgrader": {
     "cell_type": "markdown",
     "checksum": "c107f9cc2cfb2869402e683461e7267a",
     "grade": false,
     "grade_id": "cell-057d09a1cf1ca024",
     "locked": true,
     "schema_version": 3,
     "solution": false,
     "task": false
    }
   },
   "source": [
    "### Step 3: Create your train/test split. Use the provided random_state.\n",
    "\n",
    "**Note**: You should use a `train_size` of 0.8, or 80%, and make sure to use the `random_state` to ensure test cases work."
   ]
  },
  {
   "cell_type": "code",
   "execution_count": 143,
   "metadata": {
    "deletable": false,
    "nbgrader": {
     "cell_type": "code",
     "checksum": "61f94b1c8f1dbdb65547d3b8c5438dda",
     "grade": false,
     "grade_id": "slit-train-test",
     "locked": false,
     "schema_version": 3,
     "solution": true,
     "task": false
    }
   },
   "outputs": [],
   "source": [
    "from sklearn.model_selection import train_test_split\n",
    "\n",
    "train_data_fraction = 0.8\n",
    "\n",
    "X_train, X_test = train_test_split(X, train_size = train_data_fraction, random_state = random_state)\n",
    "y_train, y_test = train_test_split(Y, train_size = train_data_fraction, random_state = random_state)"
   ]
  },
  {
   "cell_type": "code",
   "execution_count": 144,
   "metadata": {
    "deletable": false,
    "editable": false,
    "nbgrader": {
     "cell_type": "code",
     "checksum": "676f2c80692ccafdc390329a3d135b8f",
     "grade": true,
     "grade_id": "slit-train-test_test",
     "locked": true,
     "points": 2,
     "schema_version": 3,
     "solution": false,
     "task": false
    }
   },
   "outputs": [],
   "source": [
    "assert X_train.shape == (160, 64)\n",
    "assert y_train.shape == (160,)\n",
    "assert X_test.shape == (40, 64)\n",
    "assert y_test.shape == (40,)"
   ]
  },
  {
   "cell_type": "markdown",
   "metadata": {
    "deletable": false,
    "editable": false,
    "nbgrader": {
     "cell_type": "markdown",
     "checksum": "861bb2149ea72750302e3aa911d0b932",
     "grade": false,
     "grade_id": "cell-ed20d5db7f3ddc72",
     "locked": true,
     "schema_version": 3,
     "solution": false,
     "task": false
    }
   },
   "source": [
    "### Step 4: Use a [StandardScaler](https://scikit-learn.org/stable/modules/generated/sklearn.preprocessing.StandardScaler.html) to normalize the image data. \n",
    "\n",
    "Pixel data, like other data we've encountered, should often be scaled before classification. While in practice scaling image data can be more complex, in this exercise we'll continue to use the [StandardScaler](https://scikit-learn.org/stable/modules/generated/sklearn.preprocessing.StandardScaler.html).\n",
    "\n",
    "Fit the scaler only the the training X features, and then apply it to both training and test X features. We do this because in practice, we wouldn't be able to see data in the test X, so it shouldn't affect feature transformation. We therefore only use X_train for feature transformation."
   ]
  },
  {
   "cell_type": "code",
   "execution_count": 145,
   "metadata": {
    "deletable": false,
    "nbgrader": {
     "cell_type": "code",
     "checksum": "a26cd46ecd7c2f77e81624022d919bfc",
     "grade": false,
     "grade_id": "scale-data",
     "locked": false,
     "schema_version": 3,
     "solution": true,
     "task": false
    }
   },
   "outputs": [],
   "source": [
    "from sklearn.preprocessing import StandardScaler\n",
    "\n",
    "# Assign these variables the standardized training and test datasets\n",
    "stdScaler = StandardScaler().fit(X_train)\n",
    "X_stand_train = stdScaler.transform(X_train)\n",
    "X_stand_test = stdScaler.transform(X_test)"
   ]
  },
  {
   "cell_type": "code",
   "execution_count": 146,
   "metadata": {},
   "outputs": [
    {
     "data": {
      "text/plain": [
       "(160, 64)"
      ]
     },
     "execution_count": 146,
     "metadata": {},
     "output_type": "execute_result"
    }
   ],
   "source": [
    "X_stand_train.shape"
   ]
  },
  {
   "cell_type": "code",
   "execution_count": 147,
   "metadata": {
    "deletable": false,
    "editable": false,
    "nbgrader": {
     "cell_type": "code",
     "checksum": "c7a4487efc77fb36efe2d2f4e7270ab3",
     "grade": true,
     "grade_id": "scale-data_test",
     "locked": true,
     "points": 4,
     "schema_version": 3,
     "solution": false,
     "task": false
    }
   },
   "outputs": [],
   "source": [
    "# Go through each attribute\n",
    "for i in range(X_stand_train.shape[1]):\n",
    "    # Calculate the mean of that attribute: it should be 0\n",
    "    np.testing.assert_almost_equal(np.mean(X_stand_train[:, i]), 0)\n",
    "    # Calculate the standard deviation: it should be 1\n",
    "    std = np.std(X_stand_train[:, i])\n",
    "    # However, if the std was already 0, standardization won't change that,\n",
    "    # so skip this case\n",
    "    if abs(std) < 0.01:\n",
    "        continue\n",
    "    np.testing.assert_almost_equal(std, 1)"
   ]
  },
  {
   "cell_type": "markdown",
   "metadata": {
    "deletable": false,
    "editable": false,
    "nbgrader": {
     "cell_type": "markdown",
     "checksum": "ce78e40d4906bc00582a65bf3f16b72b",
     "grade": false,
     "grade_id": "cell-6451bd16b481009b",
     "locked": true,
     "schema_version": 3,
     "solution": false,
     "task": false
    }
   },
   "source": [
    "### Step 5:  Train an MLP with default hyperparameters.\n",
    "\n",
    "For the following, you'll be using sklearn's built in Multi-layer Perceptron classifier [MLPClassifier](https://scikit-learn.org/stable/modules/generated/sklearn.neural_network.MLPClassifier.html).\n",
    "\n",
    "Use the default hyperparams aside from `max_iter`. `max_iter` is how many iterations of training the ANN goes though until it manually stops. The default `max_iter=200` is too long for our data currently. \n",
    "\n",
    "**Use random_state as the random_states and max_iter=20**. The detault parameters will use a single hidden layer.\n",
    "\n"
   ]
  },
  {
   "cell_type": "code",
   "execution_count": 148,
   "metadata": {
    "deletable": false,
    "editable": false,
    "nbgrader": {
     "cell_type": "code",
     "checksum": "368b885315c15dcc4279fcde9f301205",
     "grade": false,
     "grade_id": "cell-4ac9e87863d5d366",
     "locked": true,
     "schema_version": 3,
     "solution": false,
     "task": false
    }
   },
   "outputs": [],
   "source": [
    "from sklearn.neural_network import MLPClassifier"
   ]
  },
  {
   "cell_type": "code",
   "execution_count": 149,
   "metadata": {
    "deletable": false,
    "nbgrader": {
     "cell_type": "code",
     "checksum": "5b41a09cb52b81afc186a8576abdf99e",
     "grade": false,
     "grade_id": "mlp-train",
     "locked": false,
     "schema_version": 3,
     "solution": true,
     "task": false
    }
   },
   "outputs": [
    {
     "name": "stdout",
     "output_type": "stream",
     "text": [
      "Iteration 1, loss = 2.72340110\n",
      "Iteration 2, loss = 2.61722937\n",
      "Iteration 3, loss = 2.51331744\n",
      "Iteration 4, loss = 2.41173375\n",
      "Iteration 5, loss = 2.31250102\n",
      "Iteration 6, loss = 2.21554103\n",
      "Iteration 7, loss = 2.12100080\n",
      "Iteration 8, loss = 2.02899668\n",
      "Iteration 9, loss = 1.93964810\n",
      "Iteration 10, loss = 1.85290300\n",
      "Iteration 11, loss = 1.76901269\n",
      "Iteration 12, loss = 1.68775698\n",
      "Iteration 13, loss = 1.60922366\n",
      "Iteration 14, loss = 1.53361925\n",
      "Iteration 15, loss = 1.46082174\n",
      "Iteration 16, loss = 1.39076614\n",
      "Iteration 17, loss = 1.32358090\n",
      "Iteration 18, loss = 1.25908195\n",
      "Iteration 19, loss = 1.19745453\n",
      "Iteration 20, loss = 1.13851469\n"
     ]
    }
   ],
   "source": [
    "clf = MLPClassifier(max_iter = 20, verbose=True, random_state = random_state).fit(X_stand_train, y_train)\n",
    "# Tip: if you pass your MLP the parameter verbose=True, you can see each iteration of its backpropagation"
   ]
  },
  {
   "cell_type": "markdown",
   "metadata": {
    "deletable": false,
    "editable": false,
    "nbgrader": {
     "cell_type": "markdown",
     "checksum": "13d7d392c4d1fe1175786f563400c21e",
     "grade": false,
     "grade_id": "cell-2722a12a4e946191",
     "locked": true,
     "schema_version": 3,
     "solution": false,
     "task": false
    }
   },
   "source": [
    "### Step 6:  Evaluate the model on the test dataset using a confusion matrix and a classification report\n",
    "\n",
    "Like all classifiers, the MLP has a [`predict`](https://scikit-learn.org/stable/modules/generated/sklearn.neural_network.MLPClassifier.html#sklearn.neural_network.MLPClassifier.predict) function that is used to make predictions on trianing or test data."
   ]
  },
  {
   "cell_type": "code",
   "execution_count": 150,
   "metadata": {
    "deletable": false,
    "editable": false,
    "nbgrader": {
     "cell_type": "code",
     "checksum": "6f96fdbe58f2c6ec3837b14f164b796b",
     "grade": false,
     "grade_id": "cell-5292fd4b6c7cdc73",
     "locked": true,
     "schema_version": 3,
     "solution": false,
     "task": false
    }
   },
   "outputs": [],
   "source": [
    "from sklearn.metrics import confusion_matrix\n",
    "from sklearn.metrics import classification_report"
   ]
  },
  {
   "cell_type": "code",
   "execution_count": 151,
   "metadata": {
    "deletable": false,
    "nbgrader": {
     "cell_type": "code",
     "checksum": "7a40132caf743b6cce22b5ab28a27a68",
     "grade": false,
     "grade_id": "mlp-confusion-matrix",
     "locked": false,
     "schema_version": 3,
     "solution": true,
     "task": false
    }
   },
   "outputs": [
    {
     "data": {
      "text/plain": [
       "array([[4, 0, 0, 0, 0, 0, 0, 0, 0, 0],\n",
       "       [0, 4, 0, 0, 0, 0, 0, 0, 0, 0],\n",
       "       [0, 0, 4, 0, 0, 0, 0, 0, 1, 0],\n",
       "       [0, 0, 0, 1, 0, 0, 0, 0, 0, 1],\n",
       "       [0, 0, 0, 0, 2, 0, 0, 0, 0, 0],\n",
       "       [0, 0, 0, 0, 0, 3, 0, 0, 0, 0],\n",
       "       [2, 0, 2, 0, 0, 1, 1, 0, 0, 2],\n",
       "       [0, 0, 0, 1, 0, 0, 0, 2, 0, 0],\n",
       "       [0, 0, 0, 0, 1, 2, 0, 0, 0, 2],\n",
       "       [0, 0, 1, 0, 0, 1, 0, 0, 1, 1]])"
      ]
     },
     "execution_count": 151,
     "metadata": {},
     "output_type": "execute_result"
    }
   ],
   "source": [
    "# Evaluate the classifier and assign mlp_cm to the confusion matrix of the evaluation\n",
    "y_predicted = clf.predict(X_stand_test)\n",
    "mlp_cm = confusion_matrix(y_true = y_test, y_pred = y_predicted)\n",
    "mlp_cm"
   ]
  },
  {
   "cell_type": "code",
   "execution_count": 152,
   "metadata": {
    "deletable": false,
    "editable": false,
    "nbgrader": {
     "cell_type": "code",
     "checksum": "331241a1c8399f7d45ee9e83531f043b",
     "grade": true,
     "grade_id": "mlp-confusion-matrix_test",
     "locked": true,
     "points": 2,
     "schema_version": 3,
     "solution": false,
     "task": false
    }
   },
   "outputs": [],
   "source": [
    "#np.testing.assert_almost_equal(mlp_cm, [[146,   0,   3,   0,   3,   0,   0,   0,   1,   0],\n",
    "#       [  1,  87,  27,   4,  12,   5,   3,   2,  20,   0],\n",
    "#       [  0,   4, 127,   6,   2,   1,   4,   0,  10,   5],\n",
    "#       [  0,   2,  19, 115,   0,   2,   2,   0,   9,  17],\n",
    "#       [  6,   2,   3,   2, 135,   7,   0,   3,   1,   3],\n",
    "#       [  7,   3,  12,   0,   1, 133,   1,   0,   3,   2],\n",
    "#       [ 21,   0,  82,   0,  12,   6,  35,   0,  11,   2],\n",
    "#       [  0,   5,   1,  45,   2,  13,   0,  91,  10,   0],\n",
    "#       [  7,  10,  21,   5,  12,  21,   2,   0,  53,  21],\n",
    "#       [ 10,   2,  36,  13,   5,  17,   1,   4,  28,  51]])\n",
    "\n",
    "np.testing.assert_almost_equal(mlp_cm, [[4, 0, 0, 0, 0, 0, 0, 0, 0, 0],\n",
    "       [0, 4, 0, 0, 0, 0, 0, 0, 0, 0],\n",
    "       [0, 0, 4, 0, 0, 0, 0, 0, 1, 0],\n",
    "       [0, 0, 0, 1, 0, 0, 0, 0, 0, 1],\n",
    "       [0, 0, 0, 0, 2, 0, 0, 0, 0, 0],\n",
    "       [0, 0, 0, 0, 0, 3, 0, 0, 0, 0],\n",
    "       [2, 0, 2, 0, 0, 1, 1, 0, 0, 2],\n",
    "       [0, 0, 0, 1, 0, 0, 0, 2, 0, 0],\n",
    "       [0, 0, 0, 0, 1, 2, 0, 0, 0, 2],\n",
    "       [0, 0, 1, 0, 0, 1, 0, 0, 1, 1]])"
   ]
  },
  {
   "cell_type": "code",
   "execution_count": 153,
   "metadata": {
    "deletable": false,
    "nbgrader": {
     "cell_type": "code",
     "checksum": "658b2fda957cc113c1ea4a3997ea542e",
     "grade": false,
     "grade_id": "mlp-report",
     "locked": false,
     "schema_version": 3,
     "solution": true,
     "task": false
    }
   },
   "outputs": [
    {
     "name": "stdout",
     "output_type": "stream",
     "text": [
      "              precision    recall  f1-score   support\n",
      "\n",
      "           0       0.67      1.00      0.80         4\n",
      "           1       1.00      1.00      1.00         4\n",
      "           2       0.57      0.80      0.67         5\n",
      "           3       0.50      0.50      0.50         2\n",
      "           4       0.67      1.00      0.80         2\n",
      "           5       0.43      1.00      0.60         3\n",
      "           6       1.00      0.12      0.22         8\n",
      "           7       1.00      0.67      0.80         3\n",
      "           8       0.00      0.00      0.00         5\n",
      "           9       0.17      0.25      0.20         4\n",
      "\n",
      "    accuracy                           0.55        40\n",
      "   macro avg       0.60      0.63      0.56        40\n",
      "weighted avg       0.62      0.55      0.50        40\n",
      "\n"
     ]
    }
   ],
   "source": [
    "# Similarly generate a classification report for the test dataset\n",
    "mlp_clf_report = classification_report(y_true = y_test, y_pred = y_predicted)\n",
    "print(mlp_clf_report)"
   ]
  },
  {
   "cell_type": "code",
   "execution_count": 154,
   "metadata": {
    "deletable": false,
    "editable": false,
    "nbgrader": {
     "cell_type": "code",
     "checksum": "63498a708475324f1d990411798ef8b5",
     "grade": true,
     "grade_id": "mlp-report_test",
     "locked": true,
     "points": 2,
     "schema_version": 3,
     "solution": false,
     "task": false
    }
   },
   "outputs": [],
   "source": [
    "#assert mlp_clf_report == '              precision    recall  f1-score   support\\n\\n           0       0.67      0.1      0.80       4\\n           1       1.00      1.00      1.00       4\\n           2       0.57      0.80      0.67       5\\n           3       0.50      0.50      0.50       2\\n           4       0.67      1.00      0.80         2\\n           5       0.43      1.00      0.60         3\\n           6       1.00      0.12      0.22         8\\n           7       1.00      0.67      0.80         3\\n           8       0.00      0.00      0.00         5\\n           9       0.17      0.25      0.20         4\\n\\n    accuracy                           0.55        40\\n   macro avg       0.60      0.63      0.56        40\\n weighted avg       0.62      0.55      0.50        40\\n'\n",
    "assert mlp_clf_report == classification_report(y_test, clf.predict(X_stand_test))"
   ]
  },
  {
   "cell_type": "code",
   "execution_count": 155,
   "metadata": {
    "deletable": false,
    "nbgrader": {
     "cell_type": "code",
     "checksum": "03b8b2ce1eecea4f6da7dfd5ad528b2f",
     "grade": false,
     "grade_id": "mlp-report-train",
     "locked": false,
     "schema_version": 3,
     "solution": true,
     "task": false
    }
   },
   "outputs": [
    {
     "name": "stdout",
     "output_type": "stream",
     "text": [
      "              precision    recall  f1-score   support\n",
      "\n",
      "           0       0.89      0.94      0.91        17\n",
      "           1       0.93      0.87      0.90        15\n",
      "           2       0.67      0.67      0.67        15\n",
      "           3       1.00      0.95      0.97        19\n",
      "           4       0.82      0.82      0.82        17\n",
      "           5       0.89      0.94      0.91        17\n",
      "           6       0.92      0.92      0.92        13\n",
      "           7       0.94      1.00      0.97        17\n",
      "           8       0.80      0.29      0.42        14\n",
      "           9       0.67      1.00      0.80        16\n",
      "\n",
      "    accuracy                           0.85       160\n",
      "   macro avg       0.85      0.84      0.83       160\n",
      "weighted avg       0.86      0.85      0.84       160\n",
      "\n"
     ]
    }
   ],
   "source": [
    "# For comparison, generate a classification report for the *training* dataset\n",
    "y_predicted = clf.predict(X_stand_train)\n",
    "mlp_clf_report = classification_report(y_true = y_train, y_pred = y_predicted)\n",
    "print(mlp_clf_report)"
   ]
  },
  {
   "cell_type": "code",
   "execution_count": 156,
   "metadata": {
    "deletable": false,
    "editable": false,
    "nbgrader": {
     "cell_type": "code",
     "checksum": "662e8b70d305f53e0a88aa21ee7648e2",
     "grade": true,
     "grade_id": "mlp-report-train-public",
     "locked": true,
     "points": 2,
     "schema_version": 3,
     "solution": false,
     "task": false
    }
   },
   "outputs": [],
   "source": [
    "#assert mlp_clf_report == '              precision    recall  f1-score   support\\n\\n           0       0.89      1.00      0.94        25\\n           1       0.82      0.67      0.74        21\\n           2       0.67      0.89      0.76        18\\n           3       0.74      0.82      0.78        17\\n           4       0.78      0.95      0.86        19\\n           5       0.79      0.95      0.86        20\\n           6       0.50      0.25      0.33        12\\n           7       0.88      0.58      0.70        12\\n           8       0.63      0.55      0.59        22\\n           9       0.64      0.54      0.58        13\\n\\n    accuracy                           0.75       179\\n   macro avg       0.73      0.72      0.71       179\\nweighted avg       0.75      0.75      0.74       179\\n'\n",
    "assert mlp_clf_report == '              precision    recall  f1-score   support\\n\\n           0       0.89      0.94      0.91        17\\n           1       0.93      0.87      0.90        15\\n           2       0.67      0.67      0.67        15\\n           3       1.00      0.95      0.97        19\\n           4       0.82      0.82      0.82        17\\n           5       0.89      0.94      0.91        17\\n           6       0.92      0.92      0.92        13\\n           7       0.94      1.00      0.97        17\\n           8       0.80      0.29      0.42        14\\n           9       0.67      1.00      0.80        16\\n\\n    accuracy                           0.85       160\\n   macro avg       0.85      0.84      0.83       160\\nweighted avg       0.86      0.85      0.84       160\\n'\n"
   ]
  },
  {
   "cell_type": "markdown",
   "metadata": {
    "deletable": false,
    "editable": false,
    "nbgrader": {
     "cell_type": "markdown",
     "checksum": "66853a5470953dd03b0a4d212c5716cb",
     "grade": false,
     "grade_id": "cell-8915072f0111304b",
     "locked": true,
     "schema_version": 3,
     "solution": false,
     "task": false
    }
   },
   "source": [
    "How well did the classifier do? What digit did it do best on? Which digits did it confuse the most? Do you think the classifier is likely over-fitting, underfitting or neither?"
   ]
  },
  {
   "cell_type": "markdown",
   "metadata": {},
   "source": [
    "The classifier did fine, but worse than the training dataset. The best digit was clearly 1, with an f1-score of 1. The worst digit was 8, with an f1-score of 0. I believe the model is underfitting since training f1-scores are clearly better than the testing f1-scores."
   ]
  },
  {
   "cell_type": "markdown",
   "metadata": {
    "deletable": false,
    "editable": false,
    "nbgrader": {
     "cell_type": "markdown",
     "checksum": "cb6b4a3cadbefe8c0f2d1f4509236f49",
     "grade": false,
     "grade_id": "cell-5d631135dc57ee3e",
     "locked": true,
     "schema_version": 3,
     "solution": false,
     "task": false
    }
   },
   "source": [
    "## 3) Hyperparameters"
   ]
  },
  {
   "cell_type": "markdown",
   "metadata": {
    "deletable": false,
    "editable": false,
    "nbgrader": {
     "cell_type": "markdown",
     "checksum": "883a4d5752f8d13fc291122d57a2c01b",
     "grade": false,
     "grade_id": "cell-2525c741f9cb9464",
     "locked": true,
     "schema_version": 3,
     "solution": false,
     "task": false
    }
   },
   "source": [
    "**Hyperparams**:\n",
    "\n",
    "ANNs have *a lot* of hyperparams. This can include simple things such as the number of layers and nodes, up to tuning the learning rate and the gradient descent algorithm used. \n",
    "\n",
    "This process can require a lot of experimentation and intution through experience, but it can be automated to some extent using hyperparameter tuning. When we have multiple hyperparameters, we use an approach called GridSearch, where we try all combinations of various hyperparameters to find the combination that works best.\n",
    "\n",
    "For the following, you will practice the hyperparamater tuning for the [MLPClassifier](https://scikit-learn.org/stable/modules/generated/sklearn.neural_network.MLPClassifier.html) with sklearn's [GridSearchCV](https://scikit-learn.org/stable/modules/generated/sklearn.model_selection.GridSearchCV.html) function, you should explore different combination of the following parameters:\n",
    "\n",
    "* `activation`: The activation function of the the ANN. Defaults to ReLU.\n",
    "* `max_iter`: The ANN will train iterations until either the loss stops improving by a specified threshold, or `max_iters` is reached. Warning: the more you increase this, the more the training time will take! Patience is a virtue.\n",
    "* `hidden_layer_sizes`: A tuple representing the structure of the hidden layers. For example, giving the tuple `(100,50)` means that there's two hidden layers: the first being of size 100, and the second being of size 50. The tuple (100,) would mean a single hidden layer of size 100.\n",
    "\n",
    "Normally we would try many more possible combinations (and larger networks), but we've kept the list short to reduce computation time.\n",
    "\n",
    "**Try different permutations of these hyperprams and see how it affects the classification scores of your model.**"
   ]
  },
  {
   "cell_type": "code",
   "execution_count": 157,
   "metadata": {
    "deletable": false,
    "editable": false,
    "nbgrader": {
     "cell_type": "code",
     "checksum": "756ecdaa3700f33e7a5908a6f17998f0",
     "grade": false,
     "grade_id": "cell-a25db6b11a11edba",
     "locked": true,
     "schema_version": 3,
     "solution": false,
     "task": false
    }
   },
   "outputs": [],
   "source": [
    "# import the library\n",
    "from sklearn.model_selection import GridSearchCV"
   ]
  },
  {
   "cell_type": "code",
   "execution_count": 158,
   "metadata": {
    "deletable": false,
    "editable": false,
    "nbgrader": {
     "cell_type": "code",
     "checksum": "e1e16648a1d07009a43aa9be7d80dbd7",
     "grade": false,
     "grade_id": "cell-783ed3693fc71b1d",
     "locked": true,
     "schema_version": 3,
     "solution": false,
     "task": false
    }
   },
   "outputs": [],
   "source": [
    "# The parameter list you will explore\n",
    "parameters = {'activation':['logistic', 'relu'], 'max_iter':[5, 10], 'hidden_layer_sizes':[(50,),(20,)]}"
   ]
  },
  {
   "cell_type": "markdown",
   "metadata": {
    "deletable": false,
    "editable": false,
    "nbgrader": {
     "cell_type": "markdown",
     "checksum": "e97d153088d3da3c26399d67c8c1ac41",
     "grade": false,
     "grade_id": "cell-e9071631cfc9a1dc",
     "locked": true,
     "schema_version": 3,
     "solution": false,
     "task": false
    }
   },
   "source": [
    "Now it's your turn, first initialize an MLPClassifier, make sure to **use \"random_state\" as the random_states**, then feed the parameter list defined above as well as the training data (**use \"X_stand_train\"**) to GridSearchCV to create a classifier with the best combination of the parameters. To do so, it uses cross-validation within the training dataset, so you never have to peek at your test dataset. Then fit the final classifier to the whole standardized training dataset.\n",
    "\n",
    "**Note**: You should use cv=2 in your grid search, to reduce the number of folds tested."
   ]
  },
  {
   "cell_type": "code",
   "execution_count": 171,
   "metadata": {
    "deletable": false,
    "nbgrader": {
     "cell_type": "code",
     "checksum": "dac65bc8b3a7af88caf4be8f5aa65195",
     "grade": false,
     "grade_id": "hyper_tuning_ans",
     "locked": false,
     "schema_version": 3,
     "solution": true,
     "task": false
    }
   },
   "outputs": [
    {
     "data": {
      "text/html": [
       "<style>#sk-container-id-3 {color: black;background-color: white;}#sk-container-id-3 pre{padding: 0;}#sk-container-id-3 div.sk-toggleable {background-color: white;}#sk-container-id-3 label.sk-toggleable__label {cursor: pointer;display: block;width: 100%;margin-bottom: 0;padding: 0.3em;box-sizing: border-box;text-align: center;}#sk-container-id-3 label.sk-toggleable__label-arrow:before {content: \"▸\";float: left;margin-right: 0.25em;color: #696969;}#sk-container-id-3 label.sk-toggleable__label-arrow:hover:before {color: black;}#sk-container-id-3 div.sk-estimator:hover label.sk-toggleable__label-arrow:before {color: black;}#sk-container-id-3 div.sk-toggleable__content {max-height: 0;max-width: 0;overflow: hidden;text-align: left;background-color: #f0f8ff;}#sk-container-id-3 div.sk-toggleable__content pre {margin: 0.2em;color: black;border-radius: 0.25em;background-color: #f0f8ff;}#sk-container-id-3 input.sk-toggleable__control:checked~div.sk-toggleable__content {max-height: 200px;max-width: 100%;overflow: auto;}#sk-container-id-3 input.sk-toggleable__control:checked~label.sk-toggleable__label-arrow:before {content: \"▾\";}#sk-container-id-3 div.sk-estimator input.sk-toggleable__control:checked~label.sk-toggleable__label {background-color: #d4ebff;}#sk-container-id-3 div.sk-label input.sk-toggleable__control:checked~label.sk-toggleable__label {background-color: #d4ebff;}#sk-container-id-3 input.sk-hidden--visually {border: 0;clip: rect(1px 1px 1px 1px);clip: rect(1px, 1px, 1px, 1px);height: 1px;margin: -1px;overflow: hidden;padding: 0;position: absolute;width: 1px;}#sk-container-id-3 div.sk-estimator {font-family: monospace;background-color: #f0f8ff;border: 1px dotted black;border-radius: 0.25em;box-sizing: border-box;margin-bottom: 0.5em;}#sk-container-id-3 div.sk-estimator:hover {background-color: #d4ebff;}#sk-container-id-3 div.sk-parallel-item::after {content: \"\";width: 100%;border-bottom: 1px solid gray;flex-grow: 1;}#sk-container-id-3 div.sk-label:hover label.sk-toggleable__label {background-color: #d4ebff;}#sk-container-id-3 div.sk-serial::before {content: \"\";position: absolute;border-left: 1px solid gray;box-sizing: border-box;top: 0;bottom: 0;left: 50%;z-index: 0;}#sk-container-id-3 div.sk-serial {display: flex;flex-direction: column;align-items: center;background-color: white;padding-right: 0.2em;padding-left: 0.2em;position: relative;}#sk-container-id-3 div.sk-item {position: relative;z-index: 1;}#sk-container-id-3 div.sk-parallel {display: flex;align-items: stretch;justify-content: center;background-color: white;position: relative;}#sk-container-id-3 div.sk-item::before, #sk-container-id-3 div.sk-parallel-item::before {content: \"\";position: absolute;border-left: 1px solid gray;box-sizing: border-box;top: 0;bottom: 0;left: 50%;z-index: -1;}#sk-container-id-3 div.sk-parallel-item {display: flex;flex-direction: column;z-index: 1;position: relative;background-color: white;}#sk-container-id-3 div.sk-parallel-item:first-child::after {align-self: flex-end;width: 50%;}#sk-container-id-3 div.sk-parallel-item:last-child::after {align-self: flex-start;width: 50%;}#sk-container-id-3 div.sk-parallel-item:only-child::after {width: 0;}#sk-container-id-3 div.sk-dashed-wrapped {border: 1px dashed gray;margin: 0 0.4em 0.5em 0.4em;box-sizing: border-box;padding-bottom: 0.4em;background-color: white;}#sk-container-id-3 div.sk-label label {font-family: monospace;font-weight: bold;display: inline-block;line-height: 1.2em;}#sk-container-id-3 div.sk-label-container {text-align: center;}#sk-container-id-3 div.sk-container {/* jupyter's `normalize.less` sets `[hidden] { display: none; }` but bootstrap.min.css set `[hidden] { display: none !important; }` so we also need the `!important` here to be able to override the default hidden behavior on the sphinx rendered scikit-learn.org. See: https://github.com/scikit-learn/scikit-learn/issues/21755 */display: inline-block !important;position: relative;}#sk-container-id-3 div.sk-text-repr-fallback {display: none;}</style><div id=\"sk-container-id-3\" class=\"sk-top-container\"><div class=\"sk-text-repr-fallback\"><pre>GridSearchCV(cv=2, estimator=MLPClassifier(max_iter=20, random_state=42),\n",
       "             param_grid={&#x27;activation&#x27;: [&#x27;logistic&#x27;, &#x27;relu&#x27;],\n",
       "                         &#x27;hidden_layer_sizes&#x27;: [(50,), (20,)],\n",
       "                         &#x27;max_iter&#x27;: [5, 10]})</pre><b>In a Jupyter environment, please rerun this cell to show the HTML representation or trust the notebook. <br />On GitHub, the HTML representation is unable to render, please try loading this page with nbviewer.org.</b></div><div class=\"sk-container\" hidden><div class=\"sk-item sk-dashed-wrapped\"><div class=\"sk-label-container\"><div class=\"sk-label sk-toggleable\"><input class=\"sk-toggleable__control sk-hidden--visually\" id=\"sk-estimator-id-5\" type=\"checkbox\" ><label for=\"sk-estimator-id-5\" class=\"sk-toggleable__label sk-toggleable__label-arrow\">GridSearchCV</label><div class=\"sk-toggleable__content\"><pre>GridSearchCV(cv=2, estimator=MLPClassifier(max_iter=20, random_state=42),\n",
       "             param_grid={&#x27;activation&#x27;: [&#x27;logistic&#x27;, &#x27;relu&#x27;],\n",
       "                         &#x27;hidden_layer_sizes&#x27;: [(50,), (20,)],\n",
       "                         &#x27;max_iter&#x27;: [5, 10]})</pre></div></div></div><div class=\"sk-parallel\"><div class=\"sk-parallel-item\"><div class=\"sk-item\"><div class=\"sk-label-container\"><div class=\"sk-label sk-toggleable\"><input class=\"sk-toggleable__control sk-hidden--visually\" id=\"sk-estimator-id-6\" type=\"checkbox\" ><label for=\"sk-estimator-id-6\" class=\"sk-toggleable__label sk-toggleable__label-arrow\">estimator: MLPClassifier</label><div class=\"sk-toggleable__content\"><pre>MLPClassifier(max_iter=20, random_state=42)</pre></div></div></div><div class=\"sk-serial\"><div class=\"sk-item\"><div class=\"sk-estimator sk-toggleable\"><input class=\"sk-toggleable__control sk-hidden--visually\" id=\"sk-estimator-id-7\" type=\"checkbox\" ><label for=\"sk-estimator-id-7\" class=\"sk-toggleable__label sk-toggleable__label-arrow\">MLPClassifier</label><div class=\"sk-toggleable__content\"><pre>MLPClassifier(max_iter=20, random_state=42)</pre></div></div></div></div></div></div></div></div></div></div>"
      ],
      "text/plain": [
       "GridSearchCV(cv=2, estimator=MLPClassifier(max_iter=20, random_state=42),\n",
       "             param_grid={'activation': ['logistic', 'relu'],\n",
       "                         'hidden_layer_sizes': [(50,), (20,)],\n",
       "                         'max_iter': [5, 10]})"
      ]
     },
     "execution_count": 171,
     "metadata": {},
     "output_type": "execute_result"
    }
   ],
   "source": [
    "from sklearn.pipeline import Pipeline\n",
    "# Assign clf to the optimized (with grid search) MLP model\n",
    "# TIP: Again, if you want to track the trianing progress, try passing \"verbose = True\" to the MLP\n",
    "mlp = MLPClassifier(max_iter = 20, random_state = random_state)\n",
    "clf = GridSearchCV(estimator = mlp, param_grid = parameters, cv = 2)\n",
    "clf.fit(X_stand_train, y_train)"
   ]
  },
  {
   "cell_type": "code",
   "execution_count": 172,
   "metadata": {},
   "outputs": [
    {
     "data": {
      "text/html": [
       "<style>#sk-container-id-4 {color: black;background-color: white;}#sk-container-id-4 pre{padding: 0;}#sk-container-id-4 div.sk-toggleable {background-color: white;}#sk-container-id-4 label.sk-toggleable__label {cursor: pointer;display: block;width: 100%;margin-bottom: 0;padding: 0.3em;box-sizing: border-box;text-align: center;}#sk-container-id-4 label.sk-toggleable__label-arrow:before {content: \"▸\";float: left;margin-right: 0.25em;color: #696969;}#sk-container-id-4 label.sk-toggleable__label-arrow:hover:before {color: black;}#sk-container-id-4 div.sk-estimator:hover label.sk-toggleable__label-arrow:before {color: black;}#sk-container-id-4 div.sk-toggleable__content {max-height: 0;max-width: 0;overflow: hidden;text-align: left;background-color: #f0f8ff;}#sk-container-id-4 div.sk-toggleable__content pre {margin: 0.2em;color: black;border-radius: 0.25em;background-color: #f0f8ff;}#sk-container-id-4 input.sk-toggleable__control:checked~div.sk-toggleable__content {max-height: 200px;max-width: 100%;overflow: auto;}#sk-container-id-4 input.sk-toggleable__control:checked~label.sk-toggleable__label-arrow:before {content: \"▾\";}#sk-container-id-4 div.sk-estimator input.sk-toggleable__control:checked~label.sk-toggleable__label {background-color: #d4ebff;}#sk-container-id-4 div.sk-label input.sk-toggleable__control:checked~label.sk-toggleable__label {background-color: #d4ebff;}#sk-container-id-4 input.sk-hidden--visually {border: 0;clip: rect(1px 1px 1px 1px);clip: rect(1px, 1px, 1px, 1px);height: 1px;margin: -1px;overflow: hidden;padding: 0;position: absolute;width: 1px;}#sk-container-id-4 div.sk-estimator {font-family: monospace;background-color: #f0f8ff;border: 1px dotted black;border-radius: 0.25em;box-sizing: border-box;margin-bottom: 0.5em;}#sk-container-id-4 div.sk-estimator:hover {background-color: #d4ebff;}#sk-container-id-4 div.sk-parallel-item::after {content: \"\";width: 100%;border-bottom: 1px solid gray;flex-grow: 1;}#sk-container-id-4 div.sk-label:hover label.sk-toggleable__label {background-color: #d4ebff;}#sk-container-id-4 div.sk-serial::before {content: \"\";position: absolute;border-left: 1px solid gray;box-sizing: border-box;top: 0;bottom: 0;left: 50%;z-index: 0;}#sk-container-id-4 div.sk-serial {display: flex;flex-direction: column;align-items: center;background-color: white;padding-right: 0.2em;padding-left: 0.2em;position: relative;}#sk-container-id-4 div.sk-item {position: relative;z-index: 1;}#sk-container-id-4 div.sk-parallel {display: flex;align-items: stretch;justify-content: center;background-color: white;position: relative;}#sk-container-id-4 div.sk-item::before, #sk-container-id-4 div.sk-parallel-item::before {content: \"\";position: absolute;border-left: 1px solid gray;box-sizing: border-box;top: 0;bottom: 0;left: 50%;z-index: -1;}#sk-container-id-4 div.sk-parallel-item {display: flex;flex-direction: column;z-index: 1;position: relative;background-color: white;}#sk-container-id-4 div.sk-parallel-item:first-child::after {align-self: flex-end;width: 50%;}#sk-container-id-4 div.sk-parallel-item:last-child::after {align-self: flex-start;width: 50%;}#sk-container-id-4 div.sk-parallel-item:only-child::after {width: 0;}#sk-container-id-4 div.sk-dashed-wrapped {border: 1px dashed gray;margin: 0 0.4em 0.5em 0.4em;box-sizing: border-box;padding-bottom: 0.4em;background-color: white;}#sk-container-id-4 div.sk-label label {font-family: monospace;font-weight: bold;display: inline-block;line-height: 1.2em;}#sk-container-id-4 div.sk-label-container {text-align: center;}#sk-container-id-4 div.sk-container {/* jupyter's `normalize.less` sets `[hidden] { display: none; }` but bootstrap.min.css set `[hidden] { display: none !important; }` so we also need the `!important` here to be able to override the default hidden behavior on the sphinx rendered scikit-learn.org. See: https://github.com/scikit-learn/scikit-learn/issues/21755 */display: inline-block !important;position: relative;}#sk-container-id-4 div.sk-text-repr-fallback {display: none;}</style><div id=\"sk-container-id-4\" class=\"sk-top-container\"><div class=\"sk-text-repr-fallback\"><pre>MLPClassifier(hidden_layer_sizes=(50,), max_iter=10, random_state=42)</pre><b>In a Jupyter environment, please rerun this cell to show the HTML representation or trust the notebook. <br />On GitHub, the HTML representation is unable to render, please try loading this page with nbviewer.org.</b></div><div class=\"sk-container\" hidden><div class=\"sk-item\"><div class=\"sk-estimator sk-toggleable\"><input class=\"sk-toggleable__control sk-hidden--visually\" id=\"sk-estimator-id-8\" type=\"checkbox\" checked><label for=\"sk-estimator-id-8\" class=\"sk-toggleable__label sk-toggleable__label-arrow\">MLPClassifier</label><div class=\"sk-toggleable__content\"><pre>MLPClassifier(hidden_layer_sizes=(50,), max_iter=10, random_state=42)</pre></div></div></div></div></div>"
      ],
      "text/plain": [
       "MLPClassifier(hidden_layer_sizes=(50,), max_iter=10, random_state=42)"
      ]
     },
     "execution_count": 172,
     "metadata": {},
     "output_type": "execute_result"
    }
   ],
   "source": [
    "# Now let's see the parameters of the winning model of our grid search\n",
    "# This model is the one clf actually uses when you call clf.fit\n",
    "clf.best_estimator_"
   ]
  },
  {
   "cell_type": "code",
   "execution_count": 173,
   "metadata": {
    "deletable": false,
    "editable": false,
    "nbgrader": {
     "cell_type": "code",
     "checksum": "3170a4f12009cdb8a366a036485e8c01",
     "grade": true,
     "grade_id": "hyper_tuning_test",
     "locked": true,
     "points": 5,
     "schema_version": 3,
     "solution": false,
     "task": false
    }
   },
   "outputs": [],
   "source": [
    "assert list(clf.cv_results_['rank_test_score']) == [3, 2, 8, 6, 4, 1, 6, 5]\n",
    "np.testing.assert_almost_equal(round(clf.best_score_,4), 0.2312)\n",
    "assert clf.best_params_['hidden_layer_sizes'] == (50,)\n",
    "assert clf.best_index_ == 5"
   ]
  },
  {
   "cell_type": "code",
   "execution_count": 174,
   "metadata": {
    "deletable": false,
    "editable": false,
    "nbgrader": {
     "cell_type": "code",
     "checksum": "1ce06af1253691ac40513dd67e209168",
     "grade": false,
     "grade_id": "cell-b9e3ea0745f19e23",
     "locked": true,
     "schema_version": 3,
     "solution": false,
     "task": false
    }
   },
   "outputs": [],
   "source": [
    "from sklearn.metrics import confusion_matrix\n",
    "from sklearn.metrics import classification_report"
   ]
  },
  {
   "cell_type": "markdown",
   "metadata": {
    "deletable": false,
    "editable": false,
    "nbgrader": {
     "cell_type": "markdown",
     "checksum": "833518aa8b1d696d074644f5dcee4ba3",
     "grade": false,
     "grade_id": "cell-3154d0ff3ab7d37a",
     "locked": true,
     "schema_version": 3,
     "solution": false,
     "task": false
    }
   },
   "source": [
    "Now you will use the estimator with the best found parameters to generate predictions (stored as \"y_pred\") on testing dataset, **remember to use \"X_stand_test\"**"
   ]
  },
  {
   "cell_type": "code",
   "execution_count": 175,
   "metadata": {
    "deletable": false,
    "nbgrader": {
     "cell_type": "code",
     "checksum": "5a86d5dd99019ac3275b8671fad7f8ca",
     "grade": false,
     "grade_id": "prediction_ans",
     "locked": false,
     "schema_version": 3,
     "solution": true,
     "task": false
    }
   },
   "outputs": [],
   "source": [
    "y_pred = clf.predict(X_stand_test)"
   ]
  },
  {
   "cell_type": "code",
   "execution_count": 176,
   "metadata": {
    "deletable": false,
    "editable": false,
    "nbgrader": {
     "cell_type": "code",
     "checksum": "38a1d6866884d890ebe7db56aaf06432",
     "grade": true,
     "grade_id": "prediction_test",
     "locked": true,
     "points": 2,
     "schema_version": 3,
     "solution": false,
     "task": false
    }
   },
   "outputs": [],
   "source": [
    "assert list(confusion_matrix(y_test,y_pred)[0]) == [0, 0, 0, 0, 1, 0, 1, 0, 0, 2]"
   ]
  },
  {
   "cell_type": "code",
   "execution_count": 177,
   "metadata": {
    "deletable": false,
    "editable": false,
    "nbgrader": {
     "cell_type": "code",
     "checksum": "198e7bb55f1e2bdbc74fe0737b06a4b2",
     "grade": false,
     "grade_id": "cell-a38625450c81cccb",
     "locked": true,
     "schema_version": 3,
     "solution": false,
     "task": false
    }
   },
   "outputs": [
    {
     "name": "stdout",
     "output_type": "stream",
     "text": [
      "              precision    recall  f1-score   support\n",
      "\n",
      "           0       0.00      0.00      0.00         4\n",
      "           1       0.67      1.00      0.80         4\n",
      "           2       0.20      0.20      0.20         5\n",
      "           3       0.00      0.00      0.00         2\n",
      "           4       0.00      0.00      0.00         2\n",
      "           5       1.00      0.67      0.80         3\n",
      "           6       0.33      0.12      0.18         8\n",
      "           7       0.00      0.00      0.00         3\n",
      "           8       0.20      0.20      0.20         5\n",
      "           9       0.08      0.25      0.12         4\n",
      "\n",
      "    accuracy                           0.25        40\n",
      "   macro avg       0.25      0.24      0.23        40\n",
      "weighted avg       0.27      0.25      0.24        40\n",
      "\n"
     ]
    }
   ],
   "source": [
    "print(classification_report(y_test,y_pred))"
   ]
  },
  {
   "cell_type": "markdown",
   "metadata": {},
   "source": [
    "Note that in this toy example, we used a very limited set of hyperparmeters to reduce training time, and so our tuned model will actually do worse than our original. However, in practice, the tuned model will generally have better generalization to the test dataset."
   ]
  },
  {
   "cell_type": "code",
   "execution_count": null,
   "metadata": {},
   "outputs": [],
   "source": []
  }
 ],
 "metadata": {
  "kernelspec": {
   "display_name": "Python 3 (ipykernel)",
   "language": "python",
   "name": "python3"
  },
  "language_info": {
   "codemirror_mode": {
    "name": "ipython",
    "version": 3
   },
   "file_extension": ".py",
   "mimetype": "text/x-python",
   "name": "python",
   "nbconvert_exporter": "python",
   "pygments_lexer": "ipython3",
   "version": "3.9.15"
  }
 },
 "nbformat": 4,
 "nbformat_minor": 4
}
